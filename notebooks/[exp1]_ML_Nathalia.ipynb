{
  "cells": [
    {
      "cell_type": "markdown",
      "metadata": {
        "id": "B2T-h0rdiQ-p"
      },
      "source": [
        "## Introduction\n",
        "\n",
        "Given the growing theoretical and practical concern in discussing corporate socio-political positioning in controversial issues (i.e., CSA) ranging from climate change to gun control and LGBTQ rights, this work aims to track users' engagement and sentiments over time and also test classification algorithms for CSA problems.\n",
        "\n",
        "Although sentiment analysis is a known problem in machine learning, no previous effort has been made in recurrent literature to classify users' sentiments in the CSA context.\n",
        "\n",
        "Thus, in this first experiment, I seek to understand whether a company standing on controversial social issues generates mostly **positive, neutral, or negative sentiments**. For achieving my goal, I chose to use Disney as a case study.\n",
        "\n",
        "This choice is based on a recent event where a teaser from Little Mermaid live-action remake was recently released and caused a lot of online content. The reason for such an online movement was Disney's choice of Ariel (the main character) being interpreted by a black actress. Although the company didn't state clearly their positioning on anti-racism, inclusion, or representation, it's clear that Disney is trying to send a message and, just like a statement, is subject to retaliation once the animated character is widely known as a white girl with red hair and green eyes. I chose this case mainly because it is a firm's positioning (although indirectly) that can harm its image and profits."
      ]
    },
    {
      "cell_type": "markdown",
      "source": [
        "## Extracting tweets\n",
        "\n",
        "The first step is obtaining my dataset. For this, I used SNScrape library to scrape tweets from January 2019 to September 2022. I chose this period of time because Halle Bailey (the actress that plays Ariel) was chosen for the role in 2019 and the first teaser was in September 2022 (when the public mostly engaged on social media to support or not Disney's choice).\n",
        "\n",
        "My initial intentions are: (1) to map whether there were more negative feelings than positive feelings during this period; and (2) compare feelings between the months with corporate positioning (January 2019 and September 2022) and those without corporate positioning."
      ],
      "metadata": {
        "id": "ZbY5TfmOjsoB"
      }
    },
    {
      "cell_type": "markdown",
      "source": [
        "### Defining my query of search\n",
        "\n",
        "To filter the tweets that were directed at the company on the subject, I used the keyword \"little mermaid\" when mentioning the company in question (@Disney). Also, only tweets in English were used and in the period of time previously justified.\n",
        "\n",
        "I also include replies, retweets, and likes for future analysis of engagement that will probably fall outside the scope of the discipline."
      ],
      "metadata": {
        "id": "2XUvafrOj-tD"
      }
    },
    {
      "cell_type": "code",
      "source": [
        "#query = \"little mermaid\" \"(@Disney) lang:en until:2022-09-30 since:2019-01-01\"\n",
        "\n",
        "#tweets = []\n",
        "#limit = 10000\n",
        "\n",
        "#for tweet in sntwitter.TwitterSearchScraper(query).get_items():\n",
        "    \n",
        "   # print(vars(tweet))\n",
        "    #break\n",
        "    #if len(tweets) == limit:\n",
        "        #break\n",
        "    #else:\n",
        "        #tweets.append([tweet.date, tweet.id, tweet.content, tweet.replyCount, tweet.retweetCount, tweet.likeCount])\n",
        "        \n",
        "#df = pd.DataFrame(tweets, columns=['date', 'user_id', 'text', 'replies', 'retweets', 'likes'])\n",
        "#print(df)"
      ],
      "metadata": {
        "id": "t8MEULqxkDgP"
      },
      "execution_count": 266,
      "outputs": []
    },
    {
      "cell_type": "markdown",
      "source": [
        "7558 tweets were scrapped in this phase and saved as a CSV file.\n",
        "\n",
        "All tweets were manually classified as positive, neutral, or negative according to users' sentiments toward the company. \n",
        "\n",
        "The table below indicates examples of classification using tweets' text.\n",
        "\n",
        "![image.png](data:image/png;base64,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)"
      ],
      "metadata": {
        "id": "qOGsTYoxkSPo"
      }
    },
    {
      "cell_type": "markdown",
      "metadata": {
        "id": "MP3WKh81ZzDr"
      },
      "source": [
        "## Exploratory Data Analysis\n",
        "\n",
        "This section is dedicated to exploring the database mainly in relation to the initial goals. That is:\n",
        "\n",
        "*  Map whether there were more negative feelings than positive feelings during this period; and\n",
        "*  Compare feelings between the months with corporate positioning (January 2019 and September 2022) and those without corporate positioning.\n",
        "\n",
        "\n",
        "\n"
      ]
    },
    {
      "cell_type": "code",
      "execution_count": 267,
      "metadata": {
        "id": "5r50fj66-zQe"
      },
      "outputs": [],
      "source": [
        "import pandas as pd\n",
        "import numpy as np\n",
        "import re #for regular expressions\n",
        "import nltk\n",
        "import string\n",
        "import warnings\n",
        "import numpy as np"
      ]
    },
    {
      "cell_type": "code",
      "execution_count": 268,
      "metadata": {
        "colab": {
          "base_uri": "https://localhost:8080/",
          "height": 206
        },
        "id": "bMuDVS8qAR38",
        "outputId": "94b6b0a1-4182-4be1-99d2-5e751176a870"
      },
      "outputs": [
        {
          "output_type": "execute_result",
          "data": {
            "text/plain": [
              "                        date       user_id  \\\n",
              "0  2022-09-29 22:32:31+00:00  1.575615e+18   \n",
              "1  2022-09-29 16:30:41+00:00  1.575523e+18   \n",
              "2  2022-09-29 13:39:33+00:00  1.575480e+18   \n",
              "3  2022-09-29 13:11:28+00:00  1.575473e+18   \n",
              "4  2022-09-29 10:53:55+00:00  1.575439e+18   \n",
              "\n",
              "                                                text sentiment  replies  \\\n",
              "0  Celebrities Have HUGE MELTDOWN After WOKE Litt...  negative        0   \n",
              "1  Hey @Disney, is it too late to add a scene to ...   neutral        0   \n",
              "2  @rachelzegler Who is doing the casting work at...  negative        0   \n",
              "3  My gf keeps bullying me because I thought Ursu...   neutral        4   \n",
              "4  Um @Disney why not make a movie about Gabriell...   neutral        0   \n",
              "\n",
              "   retweets  likes  \n",
              "0         0      1  \n",
              "1         0      3  \n",
              "2         0      0  \n",
              "3         0      1  \n",
              "4         0      0  "
            ],
            "text/html": [
              "\n",
              "  <div id=\"df-a0f66b0b-52e0-4bdb-91d7-f8600860e78a\">\n",
              "    <div class=\"colab-df-container\">\n",
              "      <div>\n",
              "<style scoped>\n",
              "    .dataframe tbody tr th:only-of-type {\n",
              "        vertical-align: middle;\n",
              "    }\n",
              "\n",
              "    .dataframe tbody tr th {\n",
              "        vertical-align: top;\n",
              "    }\n",
              "\n",
              "    .dataframe thead th {\n",
              "        text-align: right;\n",
              "    }\n",
              "</style>\n",
              "<table border=\"1\" class=\"dataframe\">\n",
              "  <thead>\n",
              "    <tr style=\"text-align: right;\">\n",
              "      <th></th>\n",
              "      <th>date</th>\n",
              "      <th>user_id</th>\n",
              "      <th>text</th>\n",
              "      <th>sentiment</th>\n",
              "      <th>replies</th>\n",
              "      <th>retweets</th>\n",
              "      <th>likes</th>\n",
              "    </tr>\n",
              "  </thead>\n",
              "  <tbody>\n",
              "    <tr>\n",
              "      <th>0</th>\n",
              "      <td>2022-09-29 22:32:31+00:00</td>\n",
              "      <td>1.575615e+18</td>\n",
              "      <td>Celebrities Have HUGE MELTDOWN After WOKE Litt...</td>\n",
              "      <td>negative</td>\n",
              "      <td>0</td>\n",
              "      <td>0</td>\n",
              "      <td>1</td>\n",
              "    </tr>\n",
              "    <tr>\n",
              "      <th>1</th>\n",
              "      <td>2022-09-29 16:30:41+00:00</td>\n",
              "      <td>1.575523e+18</td>\n",
              "      <td>Hey @Disney, is it too late to add a scene to ...</td>\n",
              "      <td>neutral</td>\n",
              "      <td>0</td>\n",
              "      <td>0</td>\n",
              "      <td>3</td>\n",
              "    </tr>\n",
              "    <tr>\n",
              "      <th>2</th>\n",
              "      <td>2022-09-29 13:39:33+00:00</td>\n",
              "      <td>1.575480e+18</td>\n",
              "      <td>@rachelzegler Who is doing the casting work at...</td>\n",
              "      <td>negative</td>\n",
              "      <td>0</td>\n",
              "      <td>0</td>\n",
              "      <td>0</td>\n",
              "    </tr>\n",
              "    <tr>\n",
              "      <th>3</th>\n",
              "      <td>2022-09-29 13:11:28+00:00</td>\n",
              "      <td>1.575473e+18</td>\n",
              "      <td>My gf keeps bullying me because I thought Ursu...</td>\n",
              "      <td>neutral</td>\n",
              "      <td>4</td>\n",
              "      <td>0</td>\n",
              "      <td>1</td>\n",
              "    </tr>\n",
              "    <tr>\n",
              "      <th>4</th>\n",
              "      <td>2022-09-29 10:53:55+00:00</td>\n",
              "      <td>1.575439e+18</td>\n",
              "      <td>Um @Disney why not make a movie about Gabriell...</td>\n",
              "      <td>neutral</td>\n",
              "      <td>0</td>\n",
              "      <td>0</td>\n",
              "      <td>0</td>\n",
              "    </tr>\n",
              "  </tbody>\n",
              "</table>\n",
              "</div>\n",
              "      <button class=\"colab-df-convert\" onclick=\"convertToInteractive('df-a0f66b0b-52e0-4bdb-91d7-f8600860e78a')\"\n",
              "              title=\"Convert this dataframe to an interactive table.\"\n",
              "              style=\"display:none;\">\n",
              "        \n",
              "  <svg xmlns=\"http://www.w3.org/2000/svg\" height=\"24px\"viewBox=\"0 0 24 24\"\n",
              "       width=\"24px\">\n",
              "    <path d=\"M0 0h24v24H0V0z\" fill=\"none\"/>\n",
              "    <path d=\"M18.56 5.44l.94 2.06.94-2.06 2.06-.94-2.06-.94-.94-2.06-.94 2.06-2.06.94zm-11 1L8.5 8.5l.94-2.06 2.06-.94-2.06-.94L8.5 2.5l-.94 2.06-2.06.94zm10 10l.94 2.06.94-2.06 2.06-.94-2.06-.94-.94-2.06-.94 2.06-2.06.94z\"/><path d=\"M17.41 7.96l-1.37-1.37c-.4-.4-.92-.59-1.43-.59-.52 0-1.04.2-1.43.59L10.3 9.45l-7.72 7.72c-.78.78-.78 2.05 0 2.83L4 21.41c.39.39.9.59 1.41.59.51 0 1.02-.2 1.41-.59l7.78-7.78 2.81-2.81c.8-.78.8-2.07 0-2.86zM5.41 20L4 18.59l7.72-7.72 1.47 1.35L5.41 20z\"/>\n",
              "  </svg>\n",
              "      </button>\n",
              "      \n",
              "  <style>\n",
              "    .colab-df-container {\n",
              "      display:flex;\n",
              "      flex-wrap:wrap;\n",
              "      gap: 12px;\n",
              "    }\n",
              "\n",
              "    .colab-df-convert {\n",
              "      background-color: #E8F0FE;\n",
              "      border: none;\n",
              "      border-radius: 50%;\n",
              "      cursor: pointer;\n",
              "      display: none;\n",
              "      fill: #1967D2;\n",
              "      height: 32px;\n",
              "      padding: 0 0 0 0;\n",
              "      width: 32px;\n",
              "    }\n",
              "\n",
              "    .colab-df-convert:hover {\n",
              "      background-color: #E2EBFA;\n",
              "      box-shadow: 0px 1px 2px rgba(60, 64, 67, 0.3), 0px 1px 3px 1px rgba(60, 64, 67, 0.15);\n",
              "      fill: #174EA6;\n",
              "    }\n",
              "\n",
              "    [theme=dark] .colab-df-convert {\n",
              "      background-color: #3B4455;\n",
              "      fill: #D2E3FC;\n",
              "    }\n",
              "\n",
              "    [theme=dark] .colab-df-convert:hover {\n",
              "      background-color: #434B5C;\n",
              "      box-shadow: 0px 1px 3px 1px rgba(0, 0, 0, 0.15);\n",
              "      filter: drop-shadow(0px 1px 2px rgba(0, 0, 0, 0.3));\n",
              "      fill: #FFFFFF;\n",
              "    }\n",
              "  </style>\n",
              "\n",
              "      <script>\n",
              "        const buttonEl =\n",
              "          document.querySelector('#df-a0f66b0b-52e0-4bdb-91d7-f8600860e78a button.colab-df-convert');\n",
              "        buttonEl.style.display =\n",
              "          google.colab.kernel.accessAllowed ? 'block' : 'none';\n",
              "\n",
              "        async function convertToInteractive(key) {\n",
              "          const element = document.querySelector('#df-a0f66b0b-52e0-4bdb-91d7-f8600860e78a');\n",
              "          const dataTable =\n",
              "            await google.colab.kernel.invokeFunction('convertToInteractive',\n",
              "                                                     [key], {});\n",
              "          if (!dataTable) return;\n",
              "\n",
              "          const docLinkHtml = 'Like what you see? Visit the ' +\n",
              "            '<a target=\"_blank\" href=https://colab.research.google.com/notebooks/data_table.ipynb>data table notebook</a>'\n",
              "            + ' to learn more about interactive tables.';\n",
              "          element.innerHTML = '';\n",
              "          dataTable['output_type'] = 'display_data';\n",
              "          await google.colab.output.renderOutput(dataTable, element);\n",
              "          const docLink = document.createElement('div');\n",
              "          docLink.innerHTML = docLinkHtml;\n",
              "          element.appendChild(docLink);\n",
              "        }\n",
              "      </script>\n",
              "    </div>\n",
              "  </div>\n",
              "  "
            ]
          },
          "metadata": {},
          "execution_count": 268
        }
      ],
      "source": [
        "url = 'https://raw.githubusercontent.com/nathaliasbm/ML-Project/main/data/exp1.csv'\n",
        "dataset = pd.read_csv(url, encoding='unicode_escape')\n",
        "dataset.head()"
      ]
    },
    {
      "cell_type": "code",
      "source": [
        "dataset.describe(include='all').T"
      ],
      "metadata": {
        "colab": {
          "base_uri": "https://localhost:8080/",
          "height": 420
        },
        "id": "UdwFkKrqGv-0",
        "outputId": "6797c096-904f-4e9c-d7c3-65ba1e619769"
      },
      "execution_count": 269,
      "outputs": [
        {
          "output_type": "execute_result",
          "data": {
            "text/plain": [
              "            count unique                                                top  \\\n",
              "date         7558   7540                          2019-08-09 15:20:00+00:00   \n",
              "user_id    7558.0    NaN                                                NaN   \n",
              "text         7558   7546  @DisneyStudios @Disney tides by @JackAndJack s...   \n",
              "sentiment    7558      3                                           positive   \n",
              "replies    7558.0    NaN                                                NaN   \n",
              "retweets   7558.0    NaN                                                NaN   \n",
              "likes      7558.0    NaN                                                NaN   \n",
              "\n",
              "           freq                   mean                   std  \\\n",
              "date          2                    NaN                   NaN   \n",
              "user_id     NaN  1266442397528765696.0  165853084907976000.0   \n",
              "text          3                    NaN                   NaN   \n",
              "sentiment  4611                    NaN                   NaN   \n",
              "replies     NaN               1.587854             51.466213   \n",
              "retweets    NaN               5.282218            117.079773   \n",
              "likes       NaN              29.625033            505.310577   \n",
              "\n",
              "                             min                    25%  \\\n",
              "date                         NaN                    NaN   \n",
              "user_id    1079928692829200000.0  1146907807318499968.0   \n",
              "text                         NaN                    NaN   \n",
              "sentiment                    NaN                    NaN   \n",
              "replies                      0.0                    0.0   \n",
              "retweets                     0.0                    0.0   \n",
              "likes                        0.0                    0.0   \n",
              "\n",
              "                             50%                    75%                    max  \n",
              "date                         NaN                    NaN                    NaN  \n",
              "user_id    1161430199046550016.0  1397483051395999744.0  1575614527936199936.0  \n",
              "text                         NaN                    NaN                    NaN  \n",
              "sentiment                    NaN                    NaN                    NaN  \n",
              "replies                      0.0                    0.0                 4317.0  \n",
              "retweets                     0.0                    0.0                 8231.0  \n",
              "likes                        0.0                    2.0                28725.0  "
            ],
            "text/html": [
              "\n",
              "  <div id=\"df-4153f98e-3fcf-4315-81ad-a0962c851f67\">\n",
              "    <div class=\"colab-df-container\">\n",
              "      <div>\n",
              "<style scoped>\n",
              "    .dataframe tbody tr th:only-of-type {\n",
              "        vertical-align: middle;\n",
              "    }\n",
              "\n",
              "    .dataframe tbody tr th {\n",
              "        vertical-align: top;\n",
              "    }\n",
              "\n",
              "    .dataframe thead th {\n",
              "        text-align: right;\n",
              "    }\n",
              "</style>\n",
              "<table border=\"1\" class=\"dataframe\">\n",
              "  <thead>\n",
              "    <tr style=\"text-align: right;\">\n",
              "      <th></th>\n",
              "      <th>count</th>\n",
              "      <th>unique</th>\n",
              "      <th>top</th>\n",
              "      <th>freq</th>\n",
              "      <th>mean</th>\n",
              "      <th>std</th>\n",
              "      <th>min</th>\n",
              "      <th>25%</th>\n",
              "      <th>50%</th>\n",
              "      <th>75%</th>\n",
              "      <th>max</th>\n",
              "    </tr>\n",
              "  </thead>\n",
              "  <tbody>\n",
              "    <tr>\n",
              "      <th>date</th>\n",
              "      <td>7558</td>\n",
              "      <td>7540</td>\n",
              "      <td>2019-08-09 15:20:00+00:00</td>\n",
              "      <td>2</td>\n",
              "      <td>NaN</td>\n",
              "      <td>NaN</td>\n",
              "      <td>NaN</td>\n",
              "      <td>NaN</td>\n",
              "      <td>NaN</td>\n",
              "      <td>NaN</td>\n",
              "      <td>NaN</td>\n",
              "    </tr>\n",
              "    <tr>\n",
              "      <th>user_id</th>\n",
              "      <td>7558.0</td>\n",
              "      <td>NaN</td>\n",
              "      <td>NaN</td>\n",
              "      <td>NaN</td>\n",
              "      <td>1266442397528765696.0</td>\n",
              "      <td>165853084907976000.0</td>\n",
              "      <td>1079928692829200000.0</td>\n",
              "      <td>1146907807318499968.0</td>\n",
              "      <td>1161430199046550016.0</td>\n",
              "      <td>1397483051395999744.0</td>\n",
              "      <td>1575614527936199936.0</td>\n",
              "    </tr>\n",
              "    <tr>\n",
              "      <th>text</th>\n",
              "      <td>7558</td>\n",
              "      <td>7546</td>\n",
              "      <td>@DisneyStudios @Disney tides by @JackAndJack s...</td>\n",
              "      <td>3</td>\n",
              "      <td>NaN</td>\n",
              "      <td>NaN</td>\n",
              "      <td>NaN</td>\n",
              "      <td>NaN</td>\n",
              "      <td>NaN</td>\n",
              "      <td>NaN</td>\n",
              "      <td>NaN</td>\n",
              "    </tr>\n",
              "    <tr>\n",
              "      <th>sentiment</th>\n",
              "      <td>7558</td>\n",
              "      <td>3</td>\n",
              "      <td>positive</td>\n",
              "      <td>4611</td>\n",
              "      <td>NaN</td>\n",
              "      <td>NaN</td>\n",
              "      <td>NaN</td>\n",
              "      <td>NaN</td>\n",
              "      <td>NaN</td>\n",
              "      <td>NaN</td>\n",
              "      <td>NaN</td>\n",
              "    </tr>\n",
              "    <tr>\n",
              "      <th>replies</th>\n",
              "      <td>7558.0</td>\n",
              "      <td>NaN</td>\n",
              "      <td>NaN</td>\n",
              "      <td>NaN</td>\n",
              "      <td>1.587854</td>\n",
              "      <td>51.466213</td>\n",
              "      <td>0.0</td>\n",
              "      <td>0.0</td>\n",
              "      <td>0.0</td>\n",
              "      <td>0.0</td>\n",
              "      <td>4317.0</td>\n",
              "    </tr>\n",
              "    <tr>\n",
              "      <th>retweets</th>\n",
              "      <td>7558.0</td>\n",
              "      <td>NaN</td>\n",
              "      <td>NaN</td>\n",
              "      <td>NaN</td>\n",
              "      <td>5.282218</td>\n",
              "      <td>117.079773</td>\n",
              "      <td>0.0</td>\n",
              "      <td>0.0</td>\n",
              "      <td>0.0</td>\n",
              "      <td>0.0</td>\n",
              "      <td>8231.0</td>\n",
              "    </tr>\n",
              "    <tr>\n",
              "      <th>likes</th>\n",
              "      <td>7558.0</td>\n",
              "      <td>NaN</td>\n",
              "      <td>NaN</td>\n",
              "      <td>NaN</td>\n",
              "      <td>29.625033</td>\n",
              "      <td>505.310577</td>\n",
              "      <td>0.0</td>\n",
              "      <td>0.0</td>\n",
              "      <td>0.0</td>\n",
              "      <td>2.0</td>\n",
              "      <td>28725.0</td>\n",
              "    </tr>\n",
              "  </tbody>\n",
              "</table>\n",
              "</div>\n",
              "      <button class=\"colab-df-convert\" onclick=\"convertToInteractive('df-4153f98e-3fcf-4315-81ad-a0962c851f67')\"\n",
              "              title=\"Convert this dataframe to an interactive table.\"\n",
              "              style=\"display:none;\">\n",
              "        \n",
              "  <svg xmlns=\"http://www.w3.org/2000/svg\" height=\"24px\"viewBox=\"0 0 24 24\"\n",
              "       width=\"24px\">\n",
              "    <path d=\"M0 0h24v24H0V0z\" fill=\"none\"/>\n",
              "    <path d=\"M18.56 5.44l.94 2.06.94-2.06 2.06-.94-2.06-.94-.94-2.06-.94 2.06-2.06.94zm-11 1L8.5 8.5l.94-2.06 2.06-.94-2.06-.94L8.5 2.5l-.94 2.06-2.06.94zm10 10l.94 2.06.94-2.06 2.06-.94-2.06-.94-.94-2.06-.94 2.06-2.06.94z\"/><path d=\"M17.41 7.96l-1.37-1.37c-.4-.4-.92-.59-1.43-.59-.52 0-1.04.2-1.43.59L10.3 9.45l-7.72 7.72c-.78.78-.78 2.05 0 2.83L4 21.41c.39.39.9.59 1.41.59.51 0 1.02-.2 1.41-.59l7.78-7.78 2.81-2.81c.8-.78.8-2.07 0-2.86zM5.41 20L4 18.59l7.72-7.72 1.47 1.35L5.41 20z\"/>\n",
              "  </svg>\n",
              "      </button>\n",
              "      \n",
              "  <style>\n",
              "    .colab-df-container {\n",
              "      display:flex;\n",
              "      flex-wrap:wrap;\n",
              "      gap: 12px;\n",
              "    }\n",
              "\n",
              "    .colab-df-convert {\n",
              "      background-color: #E8F0FE;\n",
              "      border: none;\n",
              "      border-radius: 50%;\n",
              "      cursor: pointer;\n",
              "      display: none;\n",
              "      fill: #1967D2;\n",
              "      height: 32px;\n",
              "      padding: 0 0 0 0;\n",
              "      width: 32px;\n",
              "    }\n",
              "\n",
              "    .colab-df-convert:hover {\n",
              "      background-color: #E2EBFA;\n",
              "      box-shadow: 0px 1px 2px rgba(60, 64, 67, 0.3), 0px 1px 3px 1px rgba(60, 64, 67, 0.15);\n",
              "      fill: #174EA6;\n",
              "    }\n",
              "\n",
              "    [theme=dark] .colab-df-convert {\n",
              "      background-color: #3B4455;\n",
              "      fill: #D2E3FC;\n",
              "    }\n",
              "\n",
              "    [theme=dark] .colab-df-convert:hover {\n",
              "      background-color: #434B5C;\n",
              "      box-shadow: 0px 1px 3px 1px rgba(0, 0, 0, 0.15);\n",
              "      filter: drop-shadow(0px 1px 2px rgba(0, 0, 0, 0.3));\n",
              "      fill: #FFFFFF;\n",
              "    }\n",
              "  </style>\n",
              "\n",
              "      <script>\n",
              "        const buttonEl =\n",
              "          document.querySelector('#df-4153f98e-3fcf-4315-81ad-a0962c851f67 button.colab-df-convert');\n",
              "        buttonEl.style.display =\n",
              "          google.colab.kernel.accessAllowed ? 'block' : 'none';\n",
              "\n",
              "        async function convertToInteractive(key) {\n",
              "          const element = document.querySelector('#df-4153f98e-3fcf-4315-81ad-a0962c851f67');\n",
              "          const dataTable =\n",
              "            await google.colab.kernel.invokeFunction('convertToInteractive',\n",
              "                                                     [key], {});\n",
              "          if (!dataTable) return;\n",
              "\n",
              "          const docLinkHtml = 'Like what you see? Visit the ' +\n",
              "            '<a target=\"_blank\" href=https://colab.research.google.com/notebooks/data_table.ipynb>data table notebook</a>'\n",
              "            + ' to learn more about interactive tables.';\n",
              "          element.innerHTML = '';\n",
              "          dataTable['output_type'] = 'display_data';\n",
              "          await google.colab.output.renderOutput(dataTable, element);\n",
              "          const docLink = document.createElement('div');\n",
              "          docLink.innerHTML = docLinkHtml;\n",
              "          element.appendChild(docLink);\n",
              "        }\n",
              "      </script>\n",
              "    </div>\n",
              "  </div>\n",
              "  "
            ]
          },
          "metadata": {},
          "execution_count": 269
        }
      ]
    },
    {
      "cell_type": "code",
      "execution_count": 270,
      "metadata": {
        "colab": {
          "base_uri": "https://localhost:8080/"
        },
        "id": "fNV0fZQ5AWd6",
        "outputId": "3883f686-434d-41a7-c813-1522211da16d"
      },
      "outputs": [
        {
          "output_type": "stream",
          "name": "stdout",
          "text": [
            "<class 'pandas.core.frame.DataFrame'>\n",
            "RangeIndex: 7558 entries, 0 to 7557\n",
            "Data columns (total 7 columns):\n",
            " #   Column     Non-Null Count  Dtype  \n",
            "---  ------     --------------  -----  \n",
            " 0   date       7558 non-null   object \n",
            " 1   user_id    7558 non-null   float64\n",
            " 2   text       7558 non-null   object \n",
            " 3   sentiment  7558 non-null   object \n",
            " 4   replies    7558 non-null   int64  \n",
            " 5   retweets   7558 non-null   int64  \n",
            " 6   likes      7558 non-null   int64  \n",
            "dtypes: float64(1), int64(3), object(3)\n",
            "memory usage: 413.5+ KB\n"
          ]
        }
      ],
      "source": [
        "dataset.info()"
      ]
    },
    {
      "cell_type": "code",
      "source": [
        "print('The data has', dataset.shape[0],'rows and', dataset.shape[1], 'columns')"
      ],
      "metadata": {
        "colab": {
          "base_uri": "https://localhost:8080/"
        },
        "id": "uan1aeGqEYP4",
        "outputId": "ef85a77c-ba30-46b3-d6c7-2e31e4d0dac8"
      },
      "execution_count": 271,
      "outputs": [
        {
          "output_type": "stream",
          "name": "stdout",
          "text": [
            "The data has 7558 rows and 7 columns\n"
          ]
        }
      ]
    },
    {
      "cell_type": "code",
      "execution_count": 272,
      "metadata": {
        "colab": {
          "base_uri": "https://localhost:8080/"
        },
        "id": "nsvkE_HSATzr",
        "outputId": "99fdc12c-2783-43d8-89ea-233cf028bd5b"
      },
      "outputs": [
        {
          "output_type": "execute_result",
          "data": {
            "text/plain": [
              "positive    4611\n",
              "negative    1948\n",
              "neutral      999\n",
              "Name: sentiment, dtype: int64"
            ]
          },
          "metadata": {},
          "execution_count": 272
        }
      ],
      "source": [
        "dataset.sentiment.value_counts()"
      ]
    },
    {
      "cell_type": "code",
      "execution_count": 273,
      "metadata": {
        "colab": {
          "base_uri": "https://localhost:8080/",
          "height": 316
        },
        "id": "cJ0JCrjRBb_1",
        "outputId": "72b7bcca-3805-4a93-b648-6a87ac2cf139"
      },
      "outputs": [
        {
          "output_type": "execute_result",
          "data": {
            "text/plain": [
              "<matplotlib.axes._subplots.AxesSubplot at 0x7f06939316d0>"
            ]
          },
          "metadata": {},
          "execution_count": 273
        },
        {
          "output_type": "display_data",
          "data": {
            "text/plain": [
              "<Figure size 432x288 with 1 Axes>"
            ],
            "image/png": "[encoded data removed]"
          },
          "metadata": {
            "needs_background": "light"
          }
        }
      ],
      "source": [
        "%matplotlib inline\n",
        "dataset.sentiment.value_counts().plot(kind='bar')"
      ]
    },
    {
      "cell_type": "markdown",
      "source": [
        "In sum, the database is composed of 7558 tweets (rows) and 7 columns, namely: the date of the tweet, the user id, the tweet's text, the sentiment of the text, the number of replies to the tweet, the number of retweets the tweet received and the number of likes the tweet received.\n",
        "\n",
        "Also, the data shows a higher number of positive sentiments toward the company (4611 tweets), followed by negative sentiments (1948 tweets), and finally neutral sentiments (999 tweets).\n",
        "\n",
        "Next, I will plot whether engagement measures (i.e., likes, retweets and replies) vary across sentiments."
      ],
      "metadata": {
        "id": "gwXOB6k1ErEb"
      }
    },
    {
      "cell_type": "markdown",
      "source": [
        "### Engagement evaluation"
      ],
      "metadata": {
        "id": "c4pMv-O8GkL1"
      }
    },
    {
      "cell_type": "code",
      "execution_count": 274,
      "metadata": {
        "id": "dNGxEVtgBsFN"
      },
      "outputs": [],
      "source": [
        "import seaborn as sns\n",
        "import matplotlib.pyplot as plt\n",
        "from nltk import word_tokenize\n",
        "from sklearn.feature_extraction.text import CountVectorizer\n",
        "from sklearn.naive_bayes import MultinomialNB\n",
        "from sklearn.naive_bayes import GaussianNB\n",
        "from sklearn.naive_bayes import BernoulliNB\n",
        "from sklearn import svm\n",
        "from sklearn import metrics\n",
        "from sklearn.model_selection import cross_val_predict"
      ]
    },
    {
      "cell_type": "code",
      "execution_count": 275,
      "metadata": {
        "colab": {
          "base_uri": "https://localhost:8080/",
          "height": 334
        },
        "id": "kYQGCVBfBcmT",
        "outputId": "bc089373-7b80-448a-a276-5de30fddaea2"
      },
      "outputs": [
        {
          "output_type": "display_data",
          "data": {
            "text/plain": [
              "<Figure size 720x360 with 1 Axes>"
            ],
            "image/png": "[encoded data removed]"
          },
          "metadata": {
            "needs_background": "light"
          }
        }
      ],
      "source": [
        "plt.figure(figsize=(10,5))\n",
        "sns.lineplot(x='sentiment',y='likes',data=dataset,label='Likes')\n",
        "sns.lineplot(x='sentiment',y='retweets',data=dataset,label='Retweets')\n",
        "sns.lineplot(x='sentiment',y='replies',data=dataset, label='Replies')\n",
        "plt.show()"
      ]
    },
    {
      "cell_type": "markdown",
      "source": [
        "The chart above shows a trend between sentiment and engagement measures. Generally, the highest levels of engagement on any of the measures (replies, likes or retweets) are for neutral sentiments, while negative and positive sentiments are similar at lower levels of interaction. This may happen precisely because \"neutral\" tweets were commonly classified as announcement tweets, that is, tweets that indicated casting, a new play, exhibition or a new product. In this case, users tend to engage more through likes, followed by retweets and finally replies.\n",
        "\n",
        "This result is logical in view of the trade-off between signaling and the user's effort to engage with the tweet. Signaling that the user is engaged through a like is a low effort whereas replying to a tweet is a higher effort.\n",
        "\n",
        "Next, I will explore how users' engagement and sentiments differ during a period of time."
      ],
      "metadata": {
        "id": "1U8ktMOwIdNK"
      }
    },
    {
      "cell_type": "code",
      "execution_count": 276,
      "metadata": {
        "colab": {
          "base_uri": "https://localhost:8080/",
          "height": 17
        },
        "id": "kr8WCin4B4Pu",
        "outputId": "91d91346-bc87-4021-ec62-644b8503d244"
      },
      "outputs": [
        {
          "output_type": "display_data",
          "data": {
            "text/html": [
              "        <script type=\"text/javascript\">\n",
              "        window.PlotlyConfig = {MathJaxConfig: 'local'};\n",
              "        if (window.MathJax) {MathJax.Hub.Config({SVG: {font: \"STIX-Web\"}});}\n",
              "        if (typeof require !== 'undefined') {\n",
              "        require.undef(\"plotly\");\n",
              "        requirejs.config({\n",
              "            paths: {\n",
              "                'plotly': ['https://cdn.plot.ly/plotly-2.8.3.min']\n",
              "            }\n",
              "        });\n",
              "        require(['plotly'], function(Plotly) {\n",
              "            window._Plotly = Plotly;\n",
              "        });\n",
              "        }\n",
              "        </script>\n",
              "        "
            ]
          },
          "metadata": {}
        }
      ],
      "source": [
        "import cufflinks as cf\n",
        "cf.go_offline()"
      ]
    },
    {
      "cell_type": "code",
      "execution_count": 277,
      "metadata": {
        "id": "L48POA96Dyya"
      },
      "outputs": [],
      "source": [
        "dataset.date = pd.to_datetime(dataset.date)"
      ]
    },
    {
      "cell_type": "code",
      "execution_count": 278,
      "metadata": {
        "colab": {
          "base_uri": "https://localhost:8080/"
        },
        "id": "GqfxvybHEHtv",
        "outputId": "bfa12762-c0c3-4b19-e079-58bfcd98b05b"
      },
      "outputs": [
        {
          "output_type": "execute_result",
          "data": {
            "text/plain": [
              "0       2022-09\n",
              "1       2022-09\n",
              "2       2022-09\n",
              "3       2022-09\n",
              "4       2022-09\n",
              "         ...   \n",
              "7553    2019-01\n",
              "7554    2019-01\n",
              "7555    2019-01\n",
              "7556    2019-01\n",
              "7557    2019-01\n",
              "Name: date, Length: 7558, dtype: period[M]"
            ]
          },
          "metadata": {},
          "execution_count": 278
        }
      ],
      "source": [
        "# If you remember, my \"date\" column indicates the exact day and time the tweet was published. Now I'm going to create a new column grouping the tweets by month.\n",
        "dataset.date.dt.to_period('M')"
      ]
    },
    {
      "cell_type": "code",
      "execution_count": 279,
      "metadata": {
        "id": "KJlhgTW-Eh6a"
      },
      "outputs": [],
      "source": [
        "dataset['date_month'] = dataset.date.dt.to_period('M').astype(str)"
      ]
    },
    {
      "cell_type": "code",
      "execution_count": 280,
      "metadata": {
        "colab": {
          "base_uri": "https://localhost:8080/"
        },
        "id": "LtuQpRNQFFl-",
        "outputId": "8882d6ac-a389-4ab0-f5a5-01cb0b894e3e"
      },
      "outputs": [
        {
          "output_type": "execute_result",
          "data": {
            "text/plain": [
              "0    2022-09\n",
              "1    2022-09\n",
              "2    2022-09\n",
              "3    2022-09\n",
              "4    2022-09\n",
              "Name: date_month, dtype: object"
            ]
          },
          "metadata": {},
          "execution_count": 280
        }
      ],
      "source": [
        "dataset.date_month.head()"
      ]
    },
    {
      "cell_type": "code",
      "execution_count": 281,
      "metadata": {
        "colab": {
          "base_uri": "https://localhost:8080/",
          "height": 206
        },
        "id": "kob1mOK9FQZ0",
        "outputId": "f5065cf8-ee7b-4d1b-fb0d-882b2fff4214"
      },
      "outputs": [
        {
          "output_type": "execute_result",
          "data": {
            "text/plain": [
              "                       date       user_id  \\\n",
              "0 2022-09-29 22:32:31+00:00  1.575615e+18   \n",
              "1 2022-09-29 16:30:41+00:00  1.575523e+18   \n",
              "2 2022-09-29 13:39:33+00:00  1.575480e+18   \n",
              "3 2022-09-29 13:11:28+00:00  1.575473e+18   \n",
              "4 2022-09-29 10:53:55+00:00  1.575439e+18   \n",
              "\n",
              "                                                text sentiment  replies  \\\n",
              "0  Celebrities Have HUGE MELTDOWN After WOKE Litt...  negative        0   \n",
              "1  Hey @Disney, is it too late to add a scene to ...   neutral        0   \n",
              "2  @rachelzegler Who is doing the casting work at...  negative        0   \n",
              "3  My gf keeps bullying me because I thought Ursu...   neutral        4   \n",
              "4  Um @Disney why not make a movie about Gabriell...   neutral        0   \n",
              "\n",
              "   retweets  likes date_month  \n",
              "0         0      1    2022-09  \n",
              "1         0      3    2022-09  \n",
              "2         0      0    2022-09  \n",
              "3         0      1    2022-09  \n",
              "4         0      0    2022-09  "
            ],
            "text/html": [
              "\n",
              "  <div id=\"df-c9ded2f2-f94a-482b-863e-3933d61fe8a8\">\n",
              "    <div class=\"colab-df-container\">\n",
              "      <div>\n",
              "<style scoped>\n",
              "    .dataframe tbody tr th:only-of-type {\n",
              "        vertical-align: middle;\n",
              "    }\n",
              "\n",
              "    .dataframe tbody tr th {\n",
              "        vertical-align: top;\n",
              "    }\n",
              "\n",
              "    .dataframe thead th {\n",
              "        text-align: right;\n",
              "    }\n",
              "</style>\n",
              "<table border=\"1\" class=\"dataframe\">\n",
              "  <thead>\n",
              "    <tr style=\"text-align: right;\">\n",
              "      <th></th>\n",
              "      <th>date</th>\n",
              "      <th>user_id</th>\n",
              "      <th>text</th>\n",
              "      <th>sentiment</th>\n",
              "      <th>replies</th>\n",
              "      <th>retweets</th>\n",
              "      <th>likes</th>\n",
              "      <th>date_month</th>\n",
              "    </tr>\n",
              "  </thead>\n",
              "  <tbody>\n",
              "    <tr>\n",
              "      <th>0</th>\n",
              "      <td>2022-09-29 22:32:31+00:00</td>\n",
              "      <td>1.575615e+18</td>\n",
              "      <td>Celebrities Have HUGE MELTDOWN After WOKE Litt...</td>\n",
              "      <td>negative</td>\n",
              "      <td>0</td>\n",
              "      <td>0</td>\n",
              "      <td>1</td>\n",
              "      <td>2022-09</td>\n",
              "    </tr>\n",
              "    <tr>\n",
              "      <th>1</th>\n",
              "      <td>2022-09-29 16:30:41+00:00</td>\n",
              "      <td>1.575523e+18</td>\n",
              "      <td>Hey @Disney, is it too late to add a scene to ...</td>\n",
              "      <td>neutral</td>\n",
              "      <td>0</td>\n",
              "      <td>0</td>\n",
              "      <td>3</td>\n",
              "      <td>2022-09</td>\n",
              "    </tr>\n",
              "    <tr>\n",
              "      <th>2</th>\n",
              "      <td>2022-09-29 13:39:33+00:00</td>\n",
              "      <td>1.575480e+18</td>\n",
              "      <td>@rachelzegler Who is doing the casting work at...</td>\n",
              "      <td>negative</td>\n",
              "      <td>0</td>\n",
              "      <td>0</td>\n",
              "      <td>0</td>\n",
              "      <td>2022-09</td>\n",
              "    </tr>\n",
              "    <tr>\n",
              "      <th>3</th>\n",
              "      <td>2022-09-29 13:11:28+00:00</td>\n",
              "      <td>1.575473e+18</td>\n",
              "      <td>My gf keeps bullying me because I thought Ursu...</td>\n",
              "      <td>neutral</td>\n",
              "      <td>4</td>\n",
              "      <td>0</td>\n",
              "      <td>1</td>\n",
              "      <td>2022-09</td>\n",
              "    </tr>\n",
              "    <tr>\n",
              "      <th>4</th>\n",
              "      <td>2022-09-29 10:53:55+00:00</td>\n",
              "      <td>1.575439e+18</td>\n",
              "      <td>Um @Disney why not make a movie about Gabriell...</td>\n",
              "      <td>neutral</td>\n",
              "      <td>0</td>\n",
              "      <td>0</td>\n",
              "      <td>0</td>\n",
              "      <td>2022-09</td>\n",
              "    </tr>\n",
              "  </tbody>\n",
              "</table>\n",
              "</div>\n",
              "      <button class=\"colab-df-convert\" onclick=\"convertToInteractive('df-c9ded2f2-f94a-482b-863e-3933d61fe8a8')\"\n",
              "              title=\"Convert this dataframe to an interactive table.\"\n",
              "              style=\"display:none;\">\n",
              "        \n",
              "  <svg xmlns=\"http://www.w3.org/2000/svg\" height=\"24px\"viewBox=\"0 0 24 24\"\n",
              "       width=\"24px\">\n",
              "    <path d=\"M0 0h24v24H0V0z\" fill=\"none\"/>\n",
              "    <path d=\"M18.56 5.44l.94 2.06.94-2.06 2.06-.94-2.06-.94-.94-2.06-.94 2.06-2.06.94zm-11 1L8.5 8.5l.94-2.06 2.06-.94-2.06-.94L8.5 2.5l-.94 2.06-2.06.94zm10 10l.94 2.06.94-2.06 2.06-.94-2.06-.94-.94-2.06-.94 2.06-2.06.94z\"/><path d=\"M17.41 7.96l-1.37-1.37c-.4-.4-.92-.59-1.43-.59-.52 0-1.04.2-1.43.59L10.3 9.45l-7.72 7.72c-.78.78-.78 2.05 0 2.83L4 21.41c.39.39.9.59 1.41.59.51 0 1.02-.2 1.41-.59l7.78-7.78 2.81-2.81c.8-.78.8-2.07 0-2.86zM5.41 20L4 18.59l7.72-7.72 1.47 1.35L5.41 20z\"/>\n",
              "  </svg>\n",
              "      </button>\n",
              "      \n",
              "  <style>\n",
              "    .colab-df-container {\n",
              "      display:flex;\n",
              "      flex-wrap:wrap;\n",
              "      gap: 12px;\n",
              "    }\n",
              "\n",
              "    .colab-df-convert {\n",
              "      background-color: #E8F0FE;\n",
              "      border: none;\n",
              "      border-radius: 50%;\n",
              "      cursor: pointer;\n",
              "      display: none;\n",
              "      fill: #1967D2;\n",
              "      height: 32px;\n",
              "      padding: 0 0 0 0;\n",
              "      width: 32px;\n",
              "    }\n",
              "\n",
              "    .colab-df-convert:hover {\n",
              "      background-color: #E2EBFA;\n",
              "      box-shadow: 0px 1px 2px rgba(60, 64, 67, 0.3), 0px 1px 3px 1px rgba(60, 64, 67, 0.15);\n",
              "      fill: #174EA6;\n",
              "    }\n",
              "\n",
              "    [theme=dark] .colab-df-convert {\n",
              "      background-color: #3B4455;\n",
              "      fill: #D2E3FC;\n",
              "    }\n",
              "\n",
              "    [theme=dark] .colab-df-convert:hover {\n",
              "      background-color: #434B5C;\n",
              "      box-shadow: 0px 1px 3px 1px rgba(0, 0, 0, 0.15);\n",
              "      filter: drop-shadow(0px 1px 2px rgba(0, 0, 0, 0.3));\n",
              "      fill: #FFFFFF;\n",
              "    }\n",
              "  </style>\n",
              "\n",
              "      <script>\n",
              "        const buttonEl =\n",
              "          document.querySelector('#df-c9ded2f2-f94a-482b-863e-3933d61fe8a8 button.colab-df-convert');\n",
              "        buttonEl.style.display =\n",
              "          google.colab.kernel.accessAllowed ? 'block' : 'none';\n",
              "\n",
              "        async function convertToInteractive(key) {\n",
              "          const element = document.querySelector('#df-c9ded2f2-f94a-482b-863e-3933d61fe8a8');\n",
              "          const dataTable =\n",
              "            await google.colab.kernel.invokeFunction('convertToInteractive',\n",
              "                                                     [key], {});\n",
              "          if (!dataTable) return;\n",
              "\n",
              "          const docLinkHtml = 'Like what you see? Visit the ' +\n",
              "            '<a target=\"_blank\" href=https://colab.research.google.com/notebooks/data_table.ipynb>data table notebook</a>'\n",
              "            + ' to learn more about interactive tables.';\n",
              "          element.innerHTML = '';\n",
              "          dataTable['output_type'] = 'display_data';\n",
              "          await google.colab.output.renderOutput(dataTable, element);\n",
              "          const docLink = document.createElement('div');\n",
              "          docLink.innerHTML = docLinkHtml;\n",
              "          element.appendChild(docLink);\n",
              "        }\n",
              "      </script>\n",
              "    </div>\n",
              "  </div>\n",
              "  "
            ]
          },
          "metadata": {},
          "execution_count": 281
        }
      ],
      "source": [
        "# To check if my \"date_month\" column was successfully included in my database, I will see my first 5 rows.\n",
        "dataset.head()"
      ]
    },
    {
      "cell_type": "code",
      "execution_count": 282,
      "metadata": {
        "id": "vP48Opu7Fdp3",
        "colab": {
          "base_uri": "https://localhost:8080/"
        },
        "outputId": "18e725c3-0ffc-498b-9a83-9ca694e7c1fc"
      },
      "outputs": [
        {
          "output_type": "execute_result",
          "data": {
            "text/plain": [
              "date_month\n",
              "2019-01     99\n",
              "2019-02    153\n",
              "2019-03    120\n",
              "2019-04    125\n",
              "2019-05    125\n",
              "Name: sentiment, dtype: int64"
            ]
          },
          "metadata": {},
          "execution_count": 282
        }
      ],
      "source": [
        "# Creating my \"sentiment_month\" object by grouping the numer of sentiments in each month\n",
        "# This evaluation will tell me if there were more sentiments during a specific month compared to others\n",
        "sentiment_month = dataset.groupby(by = 'date_month').sentiment.count()\n",
        "sentiment_month.head()"
      ]
    },
    {
      "cell_type": "code",
      "execution_count": 283,
      "metadata": {
        "colab": {
          "base_uri": "https://localhost:8080/"
        },
        "id": "5r8KfZHVHoot",
        "outputId": "27982d75-6d9d-4e20-f139-0c1fb55b15e6"
      },
      "outputs": [
        {
          "output_type": "execute_result",
          "data": {
            "text/plain": [
              "Index(['2019-01', '2019-02', '2019-03', '2019-04', '2019-05', '2019-06',\n",
              "       '2019-07', '2019-08', '2019-09', '2019-10', '2019-11', '2019-12',\n",
              "       '2020-01', '2020-02', '2020-03', '2020-04', '2020-05', '2020-06',\n",
              "       '2020-07', '2020-08', '2020-09', '2020-10', '2020-11', '2020-12',\n",
              "       '2021-01', '2021-02', '2021-03', '2021-04', '2021-05', '2021-06',\n",
              "       '2021-07', '2021-08', '2021-09', '2021-10', '2021-11', '2021-12',\n",
              "       '2022-01', '2022-02', '2022-03', '2022-04', '2022-05', '2022-06',\n",
              "       '2022-07', '2022-08', '2022-09'],\n",
              "      dtype='object', name='date_month')"
            ]
          },
          "metadata": {},
          "execution_count": 283
        }
      ],
      "source": [
        "sentiment_month.index"
      ]
    },
    {
      "cell_type": "code",
      "execution_count": 284,
      "metadata": {
        "colab": {
          "base_uri": "https://localhost:8080/"
        },
        "id": "rUklRFKhH2G4",
        "outputId": "d77479c1-0b04-4ba2-e220-8561e6ea8157"
      },
      "outputs": [
        {
          "output_type": "execute_result",
          "data": {
            "text/plain": [
              "array([  99,  153,  120,  125,  125,  353, 2647,  293,  111,  134,  307,\n",
              "         95,   81,   52,   52,  109,   96,   58,   81,   62,   67,   38,\n",
              "         66,   75,   58,   57,   55,   54,   65,   73,   63,   57,   47,\n",
              "         45,   51,   26,   31,   51,   48,   72,   57,   90,   40,   49,\n",
              "       1070])"
            ]
          },
          "metadata": {},
          "execution_count": 284
        }
      ],
      "source": [
        "sentiment_month.values"
      ]
    },
    {
      "cell_type": "code",
      "execution_count": 285,
      "metadata": {
        "id": "9jt_RqxyG4Wg"
      },
      "outputs": [],
      "source": [
        "import plotly\n",
        "import plotly.graph_objs as go\n",
        "import plotly.offline as py"
      ]
    },
    {
      "cell_type": "code",
      "execution_count": 286,
      "metadata": {
        "colab": {
          "base_uri": "https://localhost:8080/",
          "height": 280
        },
        "id": "sU0LxccoH6S2",
        "outputId": "bcbe751f-dfe6-4803-81d4-de4f105a2628"
      },
      "outputs": [
        {
          "output_type": "display_data",
          "data": {
            "text/plain": [
              "<Figure size 2880x576 with 1 Axes>"
            ],
            "image/png": "[encoded data removed]"
          },
          "metadata": {
            "needs_background": "light"
          }
        }
      ],
      "source": [
        "plt.figure(figsize=(40,8))\n",
        "plt.plot(sentiment_month.index,sentiment_month.values)\n",
        "plt.show()"
      ]
    },
    {
      "cell_type": "markdown",
      "source": [
        "As expected, the month regarding most sentiments from users (that is, most interaction on Twitter) was in July 2019, the exact period of time where Halle Bailey was announced as playing Ariel on the new Little Mermaid live-action.\n",
        "\n",
        "Also important to notice, September 2022 was showing a tendency of growth if compared with other months. Unfortunately, I was not able to use all tweets from 2022 but this tendency in this particular month is probably due to the first movie teaser that was released on  September 9th of the current year.\n",
        "\n",
        "Is expected that this tendency also follows our engagement measures, but now I will check and compare."
      ],
      "metadata": {
        "id": "iK85JDLKM0Mn"
      }
    },
    {
      "cell_type": "code",
      "execution_count": 287,
      "metadata": {
        "id": "EqhwGLv6IYjA",
        "colab": {
          "base_uri": "https://localhost:8080/"
        },
        "outputId": "2b7c8c2b-eea4-4228-c2ee-c42b097fe592"
      },
      "outputs": [
        {
          "output_type": "execute_result",
          "data": {
            "text/plain": [
              "date_month\n",
              "2019-01    206\n",
              "2019-02    181\n",
              "2019-03     43\n",
              "2019-04     57\n",
              "2019-05     66\n",
              "Name: replies, dtype: int64"
            ]
          },
          "metadata": {},
          "execution_count": 287
        }
      ],
      "source": [
        "# Creating my \"replies_month\" object by grouping the numer of replies in each month\n",
        "replies_month = dataset.groupby(by = 'date_month').replies.sum()\n",
        "replies_month.head()"
      ]
    },
    {
      "cell_type": "code",
      "execution_count": 288,
      "metadata": {
        "id": "wwtbdfpvLc3L",
        "colab": {
          "base_uri": "https://localhost:8080/"
        },
        "outputId": "a02b6d9c-e231-4c12-da48-1d254fce501c"
      },
      "outputs": [
        {
          "output_type": "execute_result",
          "data": {
            "text/plain": [
              "date_month\n",
              "2019-01    2335\n",
              "2019-02    1001\n",
              "2019-03     280\n",
              "2019-04     217\n",
              "2019-05     448\n",
              "Name: retweets, dtype: int64"
            ]
          },
          "metadata": {},
          "execution_count": 288
        }
      ],
      "source": [
        "# Creating my \"retweets_month\" object by grouping the numer of retweets in each month\n",
        "retweets_month = dataset.groupby(by = 'date_month').retweets.sum()\n",
        "retweets_month.head()"
      ]
    },
    {
      "cell_type": "code",
      "execution_count": 289,
      "metadata": {
        "id": "8xSibAMpLx9F",
        "colab": {
          "base_uri": "https://localhost:8080/"
        },
        "outputId": "8cf79e8f-7802-46c8-b7e2-8c5a46c6dfe4"
      },
      "outputs": [
        {
          "output_type": "execute_result",
          "data": {
            "text/plain": [
              "date_month\n",
              "2019-01    10435\n",
              "2019-02     4364\n",
              "2019-03      852\n",
              "2019-04     1339\n",
              "2019-05     3206\n",
              "Name: likes, dtype: int64"
            ]
          },
          "metadata": {},
          "execution_count": 289
        }
      ],
      "source": [
        "# Creating my \"likes_month\" object by grouping the numer of likes in each month\n",
        "likes_month = dataset.groupby(by = 'date_month').likes.sum()\n",
        "likes_month.head()"
      ]
    },
    {
      "cell_type": "code",
      "execution_count": 290,
      "metadata": {
        "colab": {
          "base_uri": "https://localhost:8080/",
          "height": 282
        },
        "id": "wo141vtMPFRR",
        "outputId": "bdc44ae7-3f0e-43ca-9529-7d87dfca7277"
      },
      "outputs": [
        {
          "output_type": "display_data",
          "data": {
            "text/plain": [
              "<Figure size 432x288 with 1 Axes>"
            ],
            "image/png": "[encoded data removed]"
          },
          "metadata": {
            "needs_background": "light"
          }
        },
        {
          "output_type": "display_data",
          "data": {
            "text/plain": [
              "<Figure size 2880x576 with 0 Axes>"
            ]
          },
          "metadata": {}
        }
      ],
      "source": [
        "# Plotting the engagement measures per year\n",
        "fig, varx = plt.subplots()\n",
        "varx.plot(likes_month.index,replies_month,label='Replies per month')\n",
        "varx.plot(likes_month.index,retweets_month,label='Retweets per month')\n",
        "varx.plot(likes_month.index,likes_month,label='Likes per month')\n",
        "\n",
        "plt.figure(figsize=(40,8))\n",
        "varx.legend()\n",
        "plt.show()"
      ]
    },
    {
      "cell_type": "markdown",
      "metadata": {
        "id": "Tth4utiiQ5T2"
      },
      "source": [
        "Maybe per month is not the best choice for visualization of our data. Let's take a look on engagement analysis per year."
      ]
    },
    {
      "cell_type": "code",
      "execution_count": 291,
      "metadata": {
        "colab": {
          "base_uri": "https://localhost:8080/"
        },
        "id": "HT_Vrx-DPuor",
        "outputId": "a7a90795-d93e-4f2d-9d30-61395549fc2c"
      },
      "outputs": [
        {
          "output_type": "execute_result",
          "data": {
            "text/plain": [
              "0       2022\n",
              "1       2022\n",
              "2       2022\n",
              "3       2022\n",
              "4       2022\n",
              "        ... \n",
              "7553    2019\n",
              "7554    2019\n",
              "7555    2019\n",
              "7556    2019\n",
              "7557    2019\n",
              "Name: date, Length: 7558, dtype: period[A-DEC]"
            ]
          },
          "metadata": {},
          "execution_count": 291
        }
      ],
      "source": [
        "# Grouping my \"date\" information per year\n",
        "dataset.date.dt.to_period('Y')"
      ]
    },
    {
      "cell_type": "code",
      "execution_count": 292,
      "metadata": {
        "id": "5m1IYB9uRH7e"
      },
      "outputs": [],
      "source": [
        "# Creating a \"date_year\" column on my dataset\n",
        "dataset['date_year'] = dataset.date.dt.to_period('Y').astype(str)"
      ]
    },
    {
      "cell_type": "code",
      "execution_count": 293,
      "metadata": {
        "colab": {
          "base_uri": "https://localhost:8080/"
        },
        "id": "5BInYx88RRf6",
        "outputId": "4b7f99dd-f808-4e5e-abf1-74fa3ff924bf"
      },
      "outputs": [
        {
          "output_type": "execute_result",
          "data": {
            "text/plain": [
              "0    2022\n",
              "1    2022\n",
              "2    2022\n",
              "3    2022\n",
              "4    2022\n",
              "Name: date_year, dtype: object"
            ]
          },
          "metadata": {},
          "execution_count": 293
        }
      ],
      "source": [
        "dataset.date_year.head()"
      ]
    },
    {
      "cell_type": "code",
      "execution_count": 294,
      "metadata": {
        "colab": {
          "base_uri": "https://localhost:8080/"
        },
        "id": "Ew9eocYlRdlr",
        "outputId": "b32c0957-ccbf-49c3-865a-2ad12c0a9b49"
      },
      "outputs": [
        {
          "output_type": "execute_result",
          "data": {
            "text/plain": [
              "7553    2019\n",
              "7554    2019\n",
              "7555    2019\n",
              "7556    2019\n",
              "7557    2019\n",
              "Name: date_year, dtype: object"
            ]
          },
          "metadata": {},
          "execution_count": 294
        }
      ],
      "source": [
        "dataset.date_year.tail()"
      ]
    },
    {
      "cell_type": "code",
      "execution_count": 295,
      "metadata": {
        "colab": {
          "base_uri": "https://localhost:8080/",
          "height": 206
        },
        "id": "EFBwupaqRgUs",
        "outputId": "916822b2-1652-4824-e88a-3cdd61b664d4"
      },
      "outputs": [
        {
          "output_type": "execute_result",
          "data": {
            "text/plain": [
              "                       date       user_id  \\\n",
              "0 2022-09-29 22:32:31+00:00  1.575615e+18   \n",
              "1 2022-09-29 16:30:41+00:00  1.575523e+18   \n",
              "2 2022-09-29 13:39:33+00:00  1.575480e+18   \n",
              "3 2022-09-29 13:11:28+00:00  1.575473e+18   \n",
              "4 2022-09-29 10:53:55+00:00  1.575439e+18   \n",
              "\n",
              "                                                text sentiment  replies  \\\n",
              "0  Celebrities Have HUGE MELTDOWN After WOKE Litt...  negative        0   \n",
              "1  Hey @Disney, is it too late to add a scene to ...   neutral        0   \n",
              "2  @rachelzegler Who is doing the casting work at...  negative        0   \n",
              "3  My gf keeps bullying me because I thought Ursu...   neutral        4   \n",
              "4  Um @Disney why not make a movie about Gabriell...   neutral        0   \n",
              "\n",
              "   retweets  likes date_month date_year  \n",
              "0         0      1    2022-09      2022  \n",
              "1         0      3    2022-09      2022  \n",
              "2         0      0    2022-09      2022  \n",
              "3         0      1    2022-09      2022  \n",
              "4         0      0    2022-09      2022  "
            ],
            "text/html": [
              "\n",
              "  <div id=\"df-68e1d7f5-17ee-4174-855c-e0a92fa93ca2\">\n",
              "    <div class=\"colab-df-container\">\n",
              "      <div>\n",
              "<style scoped>\n",
              "    .dataframe tbody tr th:only-of-type {\n",
              "        vertical-align: middle;\n",
              "    }\n",
              "\n",
              "    .dataframe tbody tr th {\n",
              "        vertical-align: top;\n",
              "    }\n",
              "\n",
              "    .dataframe thead th {\n",
              "        text-align: right;\n",
              "    }\n",
              "</style>\n",
              "<table border=\"1\" class=\"dataframe\">\n",
              "  <thead>\n",
              "    <tr style=\"text-align: right;\">\n",
              "      <th></th>\n",
              "      <th>date</th>\n",
              "      <th>user_id</th>\n",
              "      <th>text</th>\n",
              "      <th>sentiment</th>\n",
              "      <th>replies</th>\n",
              "      <th>retweets</th>\n",
              "      <th>likes</th>\n",
              "      <th>date_month</th>\n",
              "      <th>date_year</th>\n",
              "    </tr>\n",
              "  </thead>\n",
              "  <tbody>\n",
              "    <tr>\n",
              "      <th>0</th>\n",
              "      <td>2022-09-29 22:32:31+00:00</td>\n",
              "      <td>1.575615e+18</td>\n",
              "      <td>Celebrities Have HUGE MELTDOWN After WOKE Litt...</td>\n",
              "      <td>negative</td>\n",
              "      <td>0</td>\n",
              "      <td>0</td>\n",
              "      <td>1</td>\n",
              "      <td>2022-09</td>\n",
              "      <td>2022</td>\n",
              "    </tr>\n",
              "    <tr>\n",
              "      <th>1</th>\n",
              "      <td>2022-09-29 16:30:41+00:00</td>\n",
              "      <td>1.575523e+18</td>\n",
              "      <td>Hey @Disney, is it too late to add a scene to ...</td>\n",
              "      <td>neutral</td>\n",
              "      <td>0</td>\n",
              "      <td>0</td>\n",
              "      <td>3</td>\n",
              "      <td>2022-09</td>\n",
              "      <td>2022</td>\n",
              "    </tr>\n",
              "    <tr>\n",
              "      <th>2</th>\n",
              "      <td>2022-09-29 13:39:33+00:00</td>\n",
              "      <td>1.575480e+18</td>\n",
              "      <td>@rachelzegler Who is doing the casting work at...</td>\n",
              "      <td>negative</td>\n",
              "      <td>0</td>\n",
              "      <td>0</td>\n",
              "      <td>0</td>\n",
              "      <td>2022-09</td>\n",
              "      <td>2022</td>\n",
              "    </tr>\n",
              "    <tr>\n",
              "      <th>3</th>\n",
              "      <td>2022-09-29 13:11:28+00:00</td>\n",
              "      <td>1.575473e+18</td>\n",
              "      <td>My gf keeps bullying me because I thought Ursu...</td>\n",
              "      <td>neutral</td>\n",
              "      <td>4</td>\n",
              "      <td>0</td>\n",
              "      <td>1</td>\n",
              "      <td>2022-09</td>\n",
              "      <td>2022</td>\n",
              "    </tr>\n",
              "    <tr>\n",
              "      <th>4</th>\n",
              "      <td>2022-09-29 10:53:55+00:00</td>\n",
              "      <td>1.575439e+18</td>\n",
              "      <td>Um @Disney why not make a movie about Gabriell...</td>\n",
              "      <td>neutral</td>\n",
              "      <td>0</td>\n",
              "      <td>0</td>\n",
              "      <td>0</td>\n",
              "      <td>2022-09</td>\n",
              "      <td>2022</td>\n",
              "    </tr>\n",
              "  </tbody>\n",
              "</table>\n",
              "</div>\n",
              "      <button class=\"colab-df-convert\" onclick=\"convertToInteractive('df-68e1d7f5-17ee-4174-855c-e0a92fa93ca2')\"\n",
              "              title=\"Convert this dataframe to an interactive table.\"\n",
              "              style=\"display:none;\">\n",
              "        \n",
              "  <svg xmlns=\"http://www.w3.org/2000/svg\" height=\"24px\"viewBox=\"0 0 24 24\"\n",
              "       width=\"24px\">\n",
              "    <path d=\"M0 0h24v24H0V0z\" fill=\"none\"/>\n",
              "    <path d=\"M18.56 5.44l.94 2.06.94-2.06 2.06-.94-2.06-.94-.94-2.06-.94 2.06-2.06.94zm-11 1L8.5 8.5l.94-2.06 2.06-.94-2.06-.94L8.5 2.5l-.94 2.06-2.06.94zm10 10l.94 2.06.94-2.06 2.06-.94-2.06-.94-.94-2.06-.94 2.06-2.06.94z\"/><path d=\"M17.41 7.96l-1.37-1.37c-.4-.4-.92-.59-1.43-.59-.52 0-1.04.2-1.43.59L10.3 9.45l-7.72 7.72c-.78.78-.78 2.05 0 2.83L4 21.41c.39.39.9.59 1.41.59.51 0 1.02-.2 1.41-.59l7.78-7.78 2.81-2.81c.8-.78.8-2.07 0-2.86zM5.41 20L4 18.59l7.72-7.72 1.47 1.35L5.41 20z\"/>\n",
              "  </svg>\n",
              "      </button>\n",
              "      \n",
              "  <style>\n",
              "    .colab-df-container {\n",
              "      display:flex;\n",
              "      flex-wrap:wrap;\n",
              "      gap: 12px;\n",
              "    }\n",
              "\n",
              "    .colab-df-convert {\n",
              "      background-color: #E8F0FE;\n",
              "      border: none;\n",
              "      border-radius: 50%;\n",
              "      cursor: pointer;\n",
              "      display: none;\n",
              "      fill: #1967D2;\n",
              "      height: 32px;\n",
              "      padding: 0 0 0 0;\n",
              "      width: 32px;\n",
              "    }\n",
              "\n",
              "    .colab-df-convert:hover {\n",
              "      background-color: #E2EBFA;\n",
              "      box-shadow: 0px 1px 2px rgba(60, 64, 67, 0.3), 0px 1px 3px 1px rgba(60, 64, 67, 0.15);\n",
              "      fill: #174EA6;\n",
              "    }\n",
              "\n",
              "    [theme=dark] .colab-df-convert {\n",
              "      background-color: #3B4455;\n",
              "      fill: #D2E3FC;\n",
              "    }\n",
              "\n",
              "    [theme=dark] .colab-df-convert:hover {\n",
              "      background-color: #434B5C;\n",
              "      box-shadow: 0px 1px 3px 1px rgba(0, 0, 0, 0.15);\n",
              "      filter: drop-shadow(0px 1px 2px rgba(0, 0, 0, 0.3));\n",
              "      fill: #FFFFFF;\n",
              "    }\n",
              "  </style>\n",
              "\n",
              "      <script>\n",
              "        const buttonEl =\n",
              "          document.querySelector('#df-68e1d7f5-17ee-4174-855c-e0a92fa93ca2 button.colab-df-convert');\n",
              "        buttonEl.style.display =\n",
              "          google.colab.kernel.accessAllowed ? 'block' : 'none';\n",
              "\n",
              "        async function convertToInteractive(key) {\n",
              "          const element = document.querySelector('#df-68e1d7f5-17ee-4174-855c-e0a92fa93ca2');\n",
              "          const dataTable =\n",
              "            await google.colab.kernel.invokeFunction('convertToInteractive',\n",
              "                                                     [key], {});\n",
              "          if (!dataTable) return;\n",
              "\n",
              "          const docLinkHtml = 'Like what you see? Visit the ' +\n",
              "            '<a target=\"_blank\" href=https://colab.research.google.com/notebooks/data_table.ipynb>data table notebook</a>'\n",
              "            + ' to learn more about interactive tables.';\n",
              "          element.innerHTML = '';\n",
              "          dataTable['output_type'] = 'display_data';\n",
              "          await google.colab.output.renderOutput(dataTable, element);\n",
              "          const docLink = document.createElement('div');\n",
              "          docLink.innerHTML = docLinkHtml;\n",
              "          element.appendChild(docLink);\n",
              "        }\n",
              "      </script>\n",
              "    </div>\n",
              "  </div>\n",
              "  "
            ]
          },
          "metadata": {},
          "execution_count": 295
        }
      ],
      "source": [
        "dataset.head()"
      ]
    },
    {
      "cell_type": "code",
      "execution_count": 296,
      "metadata": {
        "id": "mJXzf_haRrBa",
        "colab": {
          "base_uri": "https://localhost:8080/"
        },
        "outputId": "ac0a8542-c7a3-4dcb-97e6-42def54c07d5"
      },
      "outputs": [
        {
          "output_type": "execute_result",
          "data": {
            "text/plain": [
              "date_year\n",
              "2019    8463\n",
              "2020     744\n",
              "2021     564\n",
              "2022    2230\n",
              "Name: replies, dtype: int64"
            ]
          },
          "metadata": {},
          "execution_count": 296
        }
      ],
      "source": [
        "# Creating my \"replies_year\" object by grouping the numer of replies in each year\n",
        "replies_year = dataset.groupby(by = 'date_year').replies.sum()\n",
        "replies_year.head()"
      ]
    },
    {
      "cell_type": "code",
      "execution_count": 297,
      "metadata": {
        "id": "wI3CdketSD0S",
        "colab": {
          "base_uri": "https://localhost:8080/"
        },
        "outputId": "77f9ba3e-051c-4a36-c80d-de230916d252"
      },
      "outputs": [
        {
          "output_type": "execute_result",
          "data": {
            "text/plain": [
              "date_year\n",
              "2019    115763\n",
              "2020     32514\n",
              "2021     18277\n",
              "2022     57352\n",
              "Name: likes, dtype: int64"
            ]
          },
          "metadata": {},
          "execution_count": 297
        }
      ],
      "source": [
        "# Creating my \"likes_year\" object by grouping the numer of likes in each year\n",
        "likes_year = dataset.groupby(by = 'date_year').likes.sum()\n",
        "likes_year.head()"
      ]
    },
    {
      "cell_type": "code",
      "execution_count": 298,
      "metadata": {
        "id": "hfZew3FKSUOy",
        "colab": {
          "base_uri": "https://localhost:8080/"
        },
        "outputId": "e89811d4-ddce-448d-b51b-e20fa3c74f7d"
      },
      "outputs": [
        {
          "output_type": "execute_result",
          "data": {
            "text/plain": [
              "date_year\n",
              "2019    19416\n",
              "2020     5685\n",
              "2021     3146\n",
              "2022    11676\n",
              "Name: retweets, dtype: int64"
            ]
          },
          "metadata": {},
          "execution_count": 298
        }
      ],
      "source": [
        "# Creating my \"retweets_year\" object by grouping the numer of retweets in each year\n",
        "retweets_year = dataset.groupby(by = 'date_year').retweets.sum()\n",
        "retweets_year.head()"
      ]
    },
    {
      "cell_type": "code",
      "execution_count": 299,
      "metadata": {
        "colab": {
          "base_uri": "https://localhost:8080/",
          "height": 284
        },
        "id": "_GAW2BJHSivm",
        "outputId": "61abf0c5-1c26-4bed-b7bc-e3519a709d63"
      },
      "outputs": [
        {
          "output_type": "display_data",
          "data": {
            "text/plain": [
              "<Figure size 432x288 with 1 Axes>"
            ],
            "image/png": "[encoded data removed]"
          },
          "metadata": {
            "needs_background": "light"
          }
        },
        {
          "output_type": "display_data",
          "data": {
            "text/plain": [
              "<Figure size 1440x720 with 0 Axes>"
            ]
          },
          "metadata": {}
        }
      ],
      "source": [
        "# Plotting the engagement measures per year\n",
        "fig, varx = plt.subplots()\n",
        "varx.plot(likes_year.index,replies_year,label='Replies per year')\n",
        "varx.plot(likes_year.index,retweets_year,label='Retweets per year')\n",
        "varx.plot(likes_year.index,likes_year,label='Likes per year')\n",
        "\n",
        "\n",
        "plt.figure(figsize=(20,10))\n",
        "varx.legend()\n",
        "plt.show()"
      ]
    },
    {
      "cell_type": "markdown",
      "metadata": {
        "id": "feXEPMMxTJEf"
      },
      "source": [
        "Although the evaluation per month gives us more variability of the data, analysis per year is more interpretable. Both of them show the same tendency: the levels of engagement are way higher during controversial times. That is, replies, retweets, and likes were higher in 2019 (when the casting for Little Mermaid was released) than in other years. Interesting to note as well: 2022 (when Disney released the first teaser) also shows a tendency of higher levels of engagement on the 3 dimensions.\n",
        "\n",
        "Now let's take a quick glimpse into how users' sentiments vary over the years."
      ]
    },
    {
      "cell_type": "code",
      "execution_count": 300,
      "metadata": {
        "id": "bT4xqQQpS2sp"
      },
      "outputs": [],
      "source": [
        "sentiment_year = dataset.groupby(by = 'date_year').sentiment.value_counts()"
      ]
    },
    {
      "cell_type": "code",
      "execution_count": 301,
      "metadata": {
        "colab": {
          "base_uri": "https://localhost:8080/"
        },
        "id": "JYUMT_F1WKHF",
        "outputId": "cabccfa6-fc41-46e1-827b-43e87a61a6ba"
      },
      "outputs": [
        {
          "output_type": "execute_result",
          "data": {
            "text/plain": [
              "<bound method IndexOpsMixin.value_counts of date_year  sentiment\n",
              "2019       positive     2868\n",
              "           negative     1194\n",
              "           neutral       500\n",
              "2020       positive      465\n",
              "           negative      199\n",
              "           neutral       173\n",
              "2021       positive      397\n",
              "           neutral       149\n",
              "           negative      105\n",
              "2022       positive      881\n",
              "           negative      450\n",
              "           neutral       177\n",
              "Name: sentiment, dtype: int64>"
            ]
          },
          "metadata": {},
          "execution_count": 301
        }
      ],
      "source": [
        "sentiment_year.value_counts"
      ]
    },
    {
      "cell_type": "markdown",
      "metadata": {
        "id": "YjWJ1nY8W3it"
      },
      "source": [
        "The years with the most negative feelings were 2019, 2022, 2020, and 2021, respectively. Once again, higher levels of negative feelings were due to events related to casting and the teaser release. However, positive sentiments were higher in all cases."
      ]
    },
    {
      "cell_type": "markdown",
      "metadata": {
        "id": "cLk-8svFZiCs"
      },
      "source": [
        "## Supervised Learning for Sentiment Analysis"
      ]
    },
    {
      "cell_type": "markdown",
      "metadata": {
        "id": "qiy0GKhAZuhW"
      },
      "source": [
        "### Preprocessing\n",
        "\n",
        "The EDA indicates that, although business newspapers usually portray a [disproportionate backlash](https://www.forbes.com/sites/danidiplacido/2022/09/14/disneys-little-mermaid-backlash-has-reached-insane-heights/?sh=1ce9ae415592) against Disney for casting a black woman to be Ariel, positive feelings outweigh negative feelings.\n",
        "\n",
        "However, data from social networks (such as Twitter) needs a text treatment for ML prediction and further analysis. This section will be dedicated to that. \n",
        "\n",
        "The data will be preprocessed as it follows:\n",
        "\n",
        "1. Drop unused columns\n",
        "2. Transform the \"sentiment\" variable from categorical to numerical\n",
        "3. HTML tag removal.\n",
        "4. Removal of numbers and mentions.\n",
        "5. Tokenization.\n",
        "6. Lower case convertion.\n",
        "7. Removal of Special Characters and Punctuations.\n",
        "8. Removal of stopwords\n",
        "9. Lemmatize.\n",
        "10. Join the words in the list to convert back to text string in the data frame."
      ]
    },
    {
      "cell_type": "markdown",
      "metadata": {
        "id": "bE_Xt9QmdjCd"
      },
      "source": [
        "#### Dropping unused columns"
      ]
    },
    {
      "cell_type": "code",
      "execution_count": 302,
      "metadata": {
        "id": "AgH9BAADWv0P"
      },
      "outputs": [],
      "source": [
        "# Dropping all columns except for sentiment and text (engagement measures will no longer be used)\n",
        "dataset.drop(['date','user_id','replies', 'retweets', 'likes','date_month','date_year'],inplace=True, axis=1)"
      ]
    },
    {
      "cell_type": "code",
      "execution_count": 303,
      "metadata": {
        "colab": {
          "base_uri": "https://localhost:8080/",
          "height": 206
        },
        "id": "sdtZjFvGbGnj",
        "outputId": "508a59ff-2bd1-44f6-b2fa-de1b76bb0fe5"
      },
      "outputs": [
        {
          "output_type": "execute_result",
          "data": {
            "text/plain": [
              "                                                text sentiment\n",
              "0  Celebrities Have HUGE MELTDOWN After WOKE Litt...  negative\n",
              "1  Hey @Disney, is it too late to add a scene to ...   neutral\n",
              "2  @rachelzegler Who is doing the casting work at...  negative\n",
              "3  My gf keeps bullying me because I thought Ursu...   neutral\n",
              "4  Um @Disney why not make a movie about Gabriell...   neutral"
            ],
            "text/html": [
              "\n",
              "  <div id=\"df-122aff14-d8d2-4828-bee9-7ad9c2b21717\">\n",
              "    <div class=\"colab-df-container\">\n",
              "      <div>\n",
              "<style scoped>\n",
              "    .dataframe tbody tr th:only-of-type {\n",
              "        vertical-align: middle;\n",
              "    }\n",
              "\n",
              "    .dataframe tbody tr th {\n",
              "        vertical-align: top;\n",
              "    }\n",
              "\n",
              "    .dataframe thead th {\n",
              "        text-align: right;\n",
              "    }\n",
              "</style>\n",
              "<table border=\"1\" class=\"dataframe\">\n",
              "  <thead>\n",
              "    <tr style=\"text-align: right;\">\n",
              "      <th></th>\n",
              "      <th>text</th>\n",
              "      <th>sentiment</th>\n",
              "    </tr>\n",
              "  </thead>\n",
              "  <tbody>\n",
              "    <tr>\n",
              "      <th>0</th>\n",
              "      <td>Celebrities Have HUGE MELTDOWN After WOKE Litt...</td>\n",
              "      <td>negative</td>\n",
              "    </tr>\n",
              "    <tr>\n",
              "      <th>1</th>\n",
              "      <td>Hey @Disney, is it too late to add a scene to ...</td>\n",
              "      <td>neutral</td>\n",
              "    </tr>\n",
              "    <tr>\n",
              "      <th>2</th>\n",
              "      <td>@rachelzegler Who is doing the casting work at...</td>\n",
              "      <td>negative</td>\n",
              "    </tr>\n",
              "    <tr>\n",
              "      <th>3</th>\n",
              "      <td>My gf keeps bullying me because I thought Ursu...</td>\n",
              "      <td>neutral</td>\n",
              "    </tr>\n",
              "    <tr>\n",
              "      <th>4</th>\n",
              "      <td>Um @Disney why not make a movie about Gabriell...</td>\n",
              "      <td>neutral</td>\n",
              "    </tr>\n",
              "  </tbody>\n",
              "</table>\n",
              "</div>\n",
              "      <button class=\"colab-df-convert\" onclick=\"convertToInteractive('df-122aff14-d8d2-4828-bee9-7ad9c2b21717')\"\n",
              "              title=\"Convert this dataframe to an interactive table.\"\n",
              "              style=\"display:none;\">\n",
              "        \n",
              "  <svg xmlns=\"http://www.w3.org/2000/svg\" height=\"24px\"viewBox=\"0 0 24 24\"\n",
              "       width=\"24px\">\n",
              "    <path d=\"M0 0h24v24H0V0z\" fill=\"none\"/>\n",
              "    <path d=\"M18.56 5.44l.94 2.06.94-2.06 2.06-.94-2.06-.94-.94-2.06-.94 2.06-2.06.94zm-11 1L8.5 8.5l.94-2.06 2.06-.94-2.06-.94L8.5 2.5l-.94 2.06-2.06.94zm10 10l.94 2.06.94-2.06 2.06-.94-2.06-.94-.94-2.06-.94 2.06-2.06.94z\"/><path d=\"M17.41 7.96l-1.37-1.37c-.4-.4-.92-.59-1.43-.59-.52 0-1.04.2-1.43.59L10.3 9.45l-7.72 7.72c-.78.78-.78 2.05 0 2.83L4 21.41c.39.39.9.59 1.41.59.51 0 1.02-.2 1.41-.59l7.78-7.78 2.81-2.81c.8-.78.8-2.07 0-2.86zM5.41 20L4 18.59l7.72-7.72 1.47 1.35L5.41 20z\"/>\n",
              "  </svg>\n",
              "      </button>\n",
              "      \n",
              "  <style>\n",
              "    .colab-df-container {\n",
              "      display:flex;\n",
              "      flex-wrap:wrap;\n",
              "      gap: 12px;\n",
              "    }\n",
              "\n",
              "    .colab-df-convert {\n",
              "      background-color: #E8F0FE;\n",
              "      border: none;\n",
              "      border-radius: 50%;\n",
              "      cursor: pointer;\n",
              "      display: none;\n",
              "      fill: #1967D2;\n",
              "      height: 32px;\n",
              "      padding: 0 0 0 0;\n",
              "      width: 32px;\n",
              "    }\n",
              "\n",
              "    .colab-df-convert:hover {\n",
              "      background-color: #E2EBFA;\n",
              "      box-shadow: 0px 1px 2px rgba(60, 64, 67, 0.3), 0px 1px 3px 1px rgba(60, 64, 67, 0.15);\n",
              "      fill: #174EA6;\n",
              "    }\n",
              "\n",
              "    [theme=dark] .colab-df-convert {\n",
              "      background-color: #3B4455;\n",
              "      fill: #D2E3FC;\n",
              "    }\n",
              "\n",
              "    [theme=dark] .colab-df-convert:hover {\n",
              "      background-color: #434B5C;\n",
              "      box-shadow: 0px 1px 3px 1px rgba(0, 0, 0, 0.15);\n",
              "      filter: drop-shadow(0px 1px 2px rgba(0, 0, 0, 0.3));\n",
              "      fill: #FFFFFF;\n",
              "    }\n",
              "  </style>\n",
              "\n",
              "      <script>\n",
              "        const buttonEl =\n",
              "          document.querySelector('#df-122aff14-d8d2-4828-bee9-7ad9c2b21717 button.colab-df-convert');\n",
              "        buttonEl.style.display =\n",
              "          google.colab.kernel.accessAllowed ? 'block' : 'none';\n",
              "\n",
              "        async function convertToInteractive(key) {\n",
              "          const element = document.querySelector('#df-122aff14-d8d2-4828-bee9-7ad9c2b21717');\n",
              "          const dataTable =\n",
              "            await google.colab.kernel.invokeFunction('convertToInteractive',\n",
              "                                                     [key], {});\n",
              "          if (!dataTable) return;\n",
              "\n",
              "          const docLinkHtml = 'Like what you see? Visit the ' +\n",
              "            '<a target=\"_blank\" href=https://colab.research.google.com/notebooks/data_table.ipynb>data table notebook</a>'\n",
              "            + ' to learn more about interactive tables.';\n",
              "          element.innerHTML = '';\n",
              "          dataTable['output_type'] = 'display_data';\n",
              "          await google.colab.output.renderOutput(dataTable, element);\n",
              "          const docLink = document.createElement('div');\n",
              "          docLink.innerHTML = docLinkHtml;\n",
              "          element.appendChild(docLink);\n",
              "        }\n",
              "      </script>\n",
              "    </div>\n",
              "  </div>\n",
              "  "
            ]
          },
          "metadata": {},
          "execution_count": 303
        }
      ],
      "source": [
        "dataset.head()"
      ]
    },
    {
      "cell_type": "markdown",
      "metadata": {
        "id": "0qayZQH7dn80"
      },
      "source": [
        "#### Transforming categorical variable to numerical"
      ]
    },
    {
      "cell_type": "code",
      "execution_count": 304,
      "metadata": {
        "colab": {
          "base_uri": "https://localhost:8080/",
          "height": 206
        },
        "id": "pQuFmEEYbhJ3",
        "outputId": "a0a0c97e-0f87-481c-bba0-31e8790c72dd"
      },
      "outputs": [
        {
          "output_type": "execute_result",
          "data": {
            "text/plain": [
              "                                                text  sentiment\n",
              "0  Celebrities Have HUGE MELTDOWN After WOKE Litt...          0\n",
              "1  Hey @Disney, is it too late to add a scene to ...          1\n",
              "2  @rachelzegler Who is doing the casting work at...          0\n",
              "3  My gf keeps bullying me because I thought Ursu...          1\n",
              "4  Um @Disney why not make a movie about Gabriell...          1"
            ],
            "text/html": [
              "\n",
              "  <div id=\"df-7fa64bdf-abee-4caf-8fed-d515c7ef0571\">\n",
              "    <div class=\"colab-df-container\">\n",
              "      <div>\n",
              "<style scoped>\n",
              "    .dataframe tbody tr th:only-of-type {\n",
              "        vertical-align: middle;\n",
              "    }\n",
              "\n",
              "    .dataframe tbody tr th {\n",
              "        vertical-align: top;\n",
              "    }\n",
              "\n",
              "    .dataframe thead th {\n",
              "        text-align: right;\n",
              "    }\n",
              "</style>\n",
              "<table border=\"1\" class=\"dataframe\">\n",
              "  <thead>\n",
              "    <tr style=\"text-align: right;\">\n",
              "      <th></th>\n",
              "      <th>text</th>\n",
              "      <th>sentiment</th>\n",
              "    </tr>\n",
              "  </thead>\n",
              "  <tbody>\n",
              "    <tr>\n",
              "      <th>0</th>\n",
              "      <td>Celebrities Have HUGE MELTDOWN After WOKE Litt...</td>\n",
              "      <td>0</td>\n",
              "    </tr>\n",
              "    <tr>\n",
              "      <th>1</th>\n",
              "      <td>Hey @Disney, is it too late to add a scene to ...</td>\n",
              "      <td>1</td>\n",
              "    </tr>\n",
              "    <tr>\n",
              "      <th>2</th>\n",
              "      <td>@rachelzegler Who is doing the casting work at...</td>\n",
              "      <td>0</td>\n",
              "    </tr>\n",
              "    <tr>\n",
              "      <th>3</th>\n",
              "      <td>My gf keeps bullying me because I thought Ursu...</td>\n",
              "      <td>1</td>\n",
              "    </tr>\n",
              "    <tr>\n",
              "      <th>4</th>\n",
              "      <td>Um @Disney why not make a movie about Gabriell...</td>\n",
              "      <td>1</td>\n",
              "    </tr>\n",
              "  </tbody>\n",
              "</table>\n",
              "</div>\n",
              "      <button class=\"colab-df-convert\" onclick=\"convertToInteractive('df-7fa64bdf-abee-4caf-8fed-d515c7ef0571')\"\n",
              "              title=\"Convert this dataframe to an interactive table.\"\n",
              "              style=\"display:none;\">\n",
              "        \n",
              "  <svg xmlns=\"http://www.w3.org/2000/svg\" height=\"24px\"viewBox=\"0 0 24 24\"\n",
              "       width=\"24px\">\n",
              "    <path d=\"M0 0h24v24H0V0z\" fill=\"none\"/>\n",
              "    <path d=\"M18.56 5.44l.94 2.06.94-2.06 2.06-.94-2.06-.94-.94-2.06-.94 2.06-2.06.94zm-11 1L8.5 8.5l.94-2.06 2.06-.94-2.06-.94L8.5 2.5l-.94 2.06-2.06.94zm10 10l.94 2.06.94-2.06 2.06-.94-2.06-.94-.94-2.06-.94 2.06-2.06.94z\"/><path d=\"M17.41 7.96l-1.37-1.37c-.4-.4-.92-.59-1.43-.59-.52 0-1.04.2-1.43.59L10.3 9.45l-7.72 7.72c-.78.78-.78 2.05 0 2.83L4 21.41c.39.39.9.59 1.41.59.51 0 1.02-.2 1.41-.59l7.78-7.78 2.81-2.81c.8-.78.8-2.07 0-2.86zM5.41 20L4 18.59l7.72-7.72 1.47 1.35L5.41 20z\"/>\n",
              "  </svg>\n",
              "      </button>\n",
              "      \n",
              "  <style>\n",
              "    .colab-df-container {\n",
              "      display:flex;\n",
              "      flex-wrap:wrap;\n",
              "      gap: 12px;\n",
              "    }\n",
              "\n",
              "    .colab-df-convert {\n",
              "      background-color: #E8F0FE;\n",
              "      border: none;\n",
              "      border-radius: 50%;\n",
              "      cursor: pointer;\n",
              "      display: none;\n",
              "      fill: #1967D2;\n",
              "      height: 32px;\n",
              "      padding: 0 0 0 0;\n",
              "      width: 32px;\n",
              "    }\n",
              "\n",
              "    .colab-df-convert:hover {\n",
              "      background-color: #E2EBFA;\n",
              "      box-shadow: 0px 1px 2px rgba(60, 64, 67, 0.3), 0px 1px 3px 1px rgba(60, 64, 67, 0.15);\n",
              "      fill: #174EA6;\n",
              "    }\n",
              "\n",
              "    [theme=dark] .colab-df-convert {\n",
              "      background-color: #3B4455;\n",
              "      fill: #D2E3FC;\n",
              "    }\n",
              "\n",
              "    [theme=dark] .colab-df-convert:hover {\n",
              "      background-color: #434B5C;\n",
              "      box-shadow: 0px 1px 3px 1px rgba(0, 0, 0, 0.15);\n",
              "      filter: drop-shadow(0px 1px 2px rgba(0, 0, 0, 0.3));\n",
              "      fill: #FFFFFF;\n",
              "    }\n",
              "  </style>\n",
              "\n",
              "      <script>\n",
              "        const buttonEl =\n",
              "          document.querySelector('#df-7fa64bdf-abee-4caf-8fed-d515c7ef0571 button.colab-df-convert');\n",
              "        buttonEl.style.display =\n",
              "          google.colab.kernel.accessAllowed ? 'block' : 'none';\n",
              "\n",
              "        async function convertToInteractive(key) {\n",
              "          const element = document.querySelector('#df-7fa64bdf-abee-4caf-8fed-d515c7ef0571');\n",
              "          const dataTable =\n",
              "            await google.colab.kernel.invokeFunction('convertToInteractive',\n",
              "                                                     [key], {});\n",
              "          if (!dataTable) return;\n",
              "\n",
              "          const docLinkHtml = 'Like what you see? Visit the ' +\n",
              "            '<a target=\"_blank\" href=https://colab.research.google.com/notebooks/data_table.ipynb>data table notebook</a>'\n",
              "            + ' to learn more about interactive tables.';\n",
              "          element.innerHTML = '';\n",
              "          dataTable['output_type'] = 'display_data';\n",
              "          await google.colab.output.renderOutput(dataTable, element);\n",
              "          const docLink = document.createElement('div');\n",
              "          docLink.innerHTML = docLinkHtml;\n",
              "          element.appendChild(docLink);\n",
              "        }\n",
              "      </script>\n",
              "    </div>\n",
              "  </div>\n",
              "  "
            ]
          },
          "metadata": {},
          "execution_count": 304
        }
      ],
      "source": [
        "# Transforming \"sentiment\" in a numerical variable\n",
        "from nltk.classify.scikitlearn import LabelEncoder\n",
        "from sklearn import preprocessing\n",
        "for variaveis in ['sentiment']:\n",
        "  dataset[variaveis] = LabelEncoder().fit_transform(dataset[variaveis])\n",
        "\n",
        "dataset.head()"
      ]
    },
    {
      "cell_type": "code",
      "execution_count": 305,
      "metadata": {
        "colab": {
          "base_uri": "https://localhost:8080/"
        },
        "id": "HAgVbfY8b1bs",
        "outputId": "c85a38c8-8048-497b-c661-82744ea46de3"
      },
      "outputs": [
        {
          "output_type": "execute_result",
          "data": {
            "text/plain": [
              "2    4611\n",
              "0    1948\n",
              "1     999\n",
              "Name: sentiment, dtype: int64"
            ]
          },
          "metadata": {},
          "execution_count": 305
        }
      ],
      "source": [
        "# The Label Encoder function transformed negative sentiments to 0, neutral sentiments to 1, and positive sentiments to 2.\n",
        "dataset.sentiment.value_counts()"
      ]
    },
    {
      "cell_type": "markdown",
      "metadata": {
        "id": "pxVEDZwudtuS"
      },
      "source": [
        "#### HTML Removal"
      ]
    },
    {
      "cell_type": "code",
      "execution_count": 306,
      "metadata": {
        "id": "NEfJUFLZb5VG"
      },
      "outputs": [],
      "source": [
        "from bs4 import BeautifulSoup\n",
        "def strip_html(text):\n",
        "    soup = BeautifulSoup(text, \"html.parser\")                    \n",
        "    return soup.get_text()\n",
        "\n",
        "\n",
        "dataset['text'] = dataset['text'].apply(lambda x: strip_html(x))"
      ]
    },
    {
      "cell_type": "code",
      "execution_count": 307,
      "metadata": {
        "colab": {
          "base_uri": "https://localhost:8080/",
          "height": 206
        },
        "id": "CyiN_q3cdwkb",
        "outputId": "a72d7fb2-f14b-4f4a-b040-09d1a028b8a5"
      },
      "outputs": [
        {
          "output_type": "execute_result",
          "data": {
            "text/plain": [
              "                                                text  sentiment\n",
              "0  Celebrities Have HUGE MELTDOWN After WOKE Litt...          0\n",
              "1  Hey @Disney, is it too late to add a scene to ...          1\n",
              "2  @rachelzegler Who is doing the casting work at...          0\n",
              "3  My gf keeps bullying me because I thought Ursu...          1\n",
              "4  Um @Disney why not make a movie about Gabriell...          1"
            ],
            "text/html": [
              "\n",
              "  <div id=\"df-3e4e120d-b9a7-43b0-8e94-9ce1fb78e090\">\n",
              "    <div class=\"colab-df-container\">\n",
              "      <div>\n",
              "<style scoped>\n",
              "    .dataframe tbody tr th:only-of-type {\n",
              "        vertical-align: middle;\n",
              "    }\n",
              "\n",
              "    .dataframe tbody tr th {\n",
              "        vertical-align: top;\n",
              "    }\n",
              "\n",
              "    .dataframe thead th {\n",
              "        text-align: right;\n",
              "    }\n",
              "</style>\n",
              "<table border=\"1\" class=\"dataframe\">\n",
              "  <thead>\n",
              "    <tr style=\"text-align: right;\">\n",
              "      <th></th>\n",
              "      <th>text</th>\n",
              "      <th>sentiment</th>\n",
              "    </tr>\n",
              "  </thead>\n",
              "  <tbody>\n",
              "    <tr>\n",
              "      <th>0</th>\n",
              "      <td>Celebrities Have HUGE MELTDOWN After WOKE Litt...</td>\n",
              "      <td>0</td>\n",
              "    </tr>\n",
              "    <tr>\n",
              "      <th>1</th>\n",
              "      <td>Hey @Disney, is it too late to add a scene to ...</td>\n",
              "      <td>1</td>\n",
              "    </tr>\n",
              "    <tr>\n",
              "      <th>2</th>\n",
              "      <td>@rachelzegler Who is doing the casting work at...</td>\n",
              "      <td>0</td>\n",
              "    </tr>\n",
              "    <tr>\n",
              "      <th>3</th>\n",
              "      <td>My gf keeps bullying me because I thought Ursu...</td>\n",
              "      <td>1</td>\n",
              "    </tr>\n",
              "    <tr>\n",
              "      <th>4</th>\n",
              "      <td>Um @Disney why not make a movie about Gabriell...</td>\n",
              "      <td>1</td>\n",
              "    </tr>\n",
              "  </tbody>\n",
              "</table>\n",
              "</div>\n",
              "      <button class=\"colab-df-convert\" onclick=\"convertToInteractive('df-3e4e120d-b9a7-43b0-8e94-9ce1fb78e090')\"\n",
              "              title=\"Convert this dataframe to an interactive table.\"\n",
              "              style=\"display:none;\">\n",
              "        \n",
              "  <svg xmlns=\"http://www.w3.org/2000/svg\" height=\"24px\"viewBox=\"0 0 24 24\"\n",
              "       width=\"24px\">\n",
              "    <path d=\"M0 0h24v24H0V0z\" fill=\"none\"/>\n",
              "    <path d=\"M18.56 5.44l.94 2.06.94-2.06 2.06-.94-2.06-.94-.94-2.06-.94 2.06-2.06.94zm-11 1L8.5 8.5l.94-2.06 2.06-.94-2.06-.94L8.5 2.5l-.94 2.06-2.06.94zm10 10l.94 2.06.94-2.06 2.06-.94-2.06-.94-.94-2.06-.94 2.06-2.06.94z\"/><path d=\"M17.41 7.96l-1.37-1.37c-.4-.4-.92-.59-1.43-.59-.52 0-1.04.2-1.43.59L10.3 9.45l-7.72 7.72c-.78.78-.78 2.05 0 2.83L4 21.41c.39.39.9.59 1.41.59.51 0 1.02-.2 1.41-.59l7.78-7.78 2.81-2.81c.8-.78.8-2.07 0-2.86zM5.41 20L4 18.59l7.72-7.72 1.47 1.35L5.41 20z\"/>\n",
              "  </svg>\n",
              "      </button>\n",
              "      \n",
              "  <style>\n",
              "    .colab-df-container {\n",
              "      display:flex;\n",
              "      flex-wrap:wrap;\n",
              "      gap: 12px;\n",
              "    }\n",
              "\n",
              "    .colab-df-convert {\n",
              "      background-color: #E8F0FE;\n",
              "      border: none;\n",
              "      border-radius: 50%;\n",
              "      cursor: pointer;\n",
              "      display: none;\n",
              "      fill: #1967D2;\n",
              "      height: 32px;\n",
              "      padding: 0 0 0 0;\n",
              "      width: 32px;\n",
              "    }\n",
              "\n",
              "    .colab-df-convert:hover {\n",
              "      background-color: #E2EBFA;\n",
              "      box-shadow: 0px 1px 2px rgba(60, 64, 67, 0.3), 0px 1px 3px 1px rgba(60, 64, 67, 0.15);\n",
              "      fill: #174EA6;\n",
              "    }\n",
              "\n",
              "    [theme=dark] .colab-df-convert {\n",
              "      background-color: #3B4455;\n",
              "      fill: #D2E3FC;\n",
              "    }\n",
              "\n",
              "    [theme=dark] .colab-df-convert:hover {\n",
              "      background-color: #434B5C;\n",
              "      box-shadow: 0px 1px 3px 1px rgba(0, 0, 0, 0.15);\n",
              "      filter: drop-shadow(0px 1px 2px rgba(0, 0, 0, 0.3));\n",
              "      fill: #FFFFFF;\n",
              "    }\n",
              "  </style>\n",
              "\n",
              "      <script>\n",
              "        const buttonEl =\n",
              "          document.querySelector('#df-3e4e120d-b9a7-43b0-8e94-9ce1fb78e090 button.colab-df-convert');\n",
              "        buttonEl.style.display =\n",
              "          google.colab.kernel.accessAllowed ? 'block' : 'none';\n",
              "\n",
              "        async function convertToInteractive(key) {\n",
              "          const element = document.querySelector('#df-3e4e120d-b9a7-43b0-8e94-9ce1fb78e090');\n",
              "          const dataTable =\n",
              "            await google.colab.kernel.invokeFunction('convertToInteractive',\n",
              "                                                     [key], {});\n",
              "          if (!dataTable) return;\n",
              "\n",
              "          const docLinkHtml = 'Like what you see? Visit the ' +\n",
              "            '<a target=\"_blank\" href=https://colab.research.google.com/notebooks/data_table.ipynb>data table notebook</a>'\n",
              "            + ' to learn more about interactive tables.';\n",
              "          element.innerHTML = '';\n",
              "          dataTable['output_type'] = 'display_data';\n",
              "          await google.colab.output.renderOutput(dataTable, element);\n",
              "          const docLink = document.createElement('div');\n",
              "          docLink.innerHTML = docLinkHtml;\n",
              "          element.appendChild(docLink);\n",
              "        }\n",
              "      </script>\n",
              "    </div>\n",
              "  </div>\n",
              "  "
            ]
          },
          "metadata": {},
          "execution_count": 307
        }
      ],
      "source": [
        "# I will also remove URLs (if any)\n",
        "def remove_url(text): \n",
        "    text = re.sub('http[s]?://(?:[a-zA-Z]|[0-9]|[$-_@.&+]|[!*\\(\\),]|(?:%[0-9a-fA-F][0-9a-fA-F]))+','',text)\n",
        "    return text\n",
        "dataset['text'] = dataset['text'].apply(lambda x: remove_url(x))\n",
        "dataset.head()"
      ]
    },
    {
      "cell_type": "markdown",
      "metadata": {
        "id": "MgtTrd3sd4QK"
      },
      "source": [
        "No HTML tags or URLs were present in the 5 first rows so no change is seen here."
      ]
    },
    {
      "cell_type": "markdown",
      "metadata": {
        "id": "0_hYXCpRd7oq"
      },
      "source": [
        "#### Removal of numbers and mentions"
      ]
    },
    {
      "cell_type": "code",
      "execution_count": 308,
      "metadata": {
        "id": "5TClpMePdy3z"
      },
      "outputs": [],
      "source": [
        "#remove the numericals present in the text\n",
        "def remove_numbers(text):\n",
        "  text = re.sub(r'\\d+', '', text)\n",
        "  return text\n",
        "\n",
        "dataset['text'] = dataset['text'].apply(lambda x: remove_numbers(x))"
      ]
    },
    {
      "cell_type": "code",
      "execution_count": 309,
      "metadata": {
        "colab": {
          "base_uri": "https://localhost:8080/",
          "height": 206
        },
        "id": "75wbnX8bd-nK",
        "outputId": "d4a98639-4894-4afd-a9ba-9bd948315679"
      },
      "outputs": [
        {
          "output_type": "execute_result",
          "data": {
            "text/plain": [
              "                                                text  sentiment\n",
              "0  Celebrities Have HUGE MELTDOWN After WOKE Litt...          0\n",
              "1  Hey , is it too late to add a scene to the new...          1\n",
              "2   Who is doing the casting work at ? She/He nee...          0\n",
              "3  My gf keeps bullying me because I thought Ursu...          1\n",
              "4  Um  why not make a movie about Gabriella inste...          1"
            ],
            "text/html": [
              "\n",
              "  <div id=\"df-fe930f86-2ff2-4d55-9020-92c857a653df\">\n",
              "    <div class=\"colab-df-container\">\n",
              "      <div>\n",
              "<style scoped>\n",
              "    .dataframe tbody tr th:only-of-type {\n",
              "        vertical-align: middle;\n",
              "    }\n",
              "\n",
              "    .dataframe tbody tr th {\n",
              "        vertical-align: top;\n",
              "    }\n",
              "\n",
              "    .dataframe thead th {\n",
              "        text-align: right;\n",
              "    }\n",
              "</style>\n",
              "<table border=\"1\" class=\"dataframe\">\n",
              "  <thead>\n",
              "    <tr style=\"text-align: right;\">\n",
              "      <th></th>\n",
              "      <th>text</th>\n",
              "      <th>sentiment</th>\n",
              "    </tr>\n",
              "  </thead>\n",
              "  <tbody>\n",
              "    <tr>\n",
              "      <th>0</th>\n",
              "      <td>Celebrities Have HUGE MELTDOWN After WOKE Litt...</td>\n",
              "      <td>0</td>\n",
              "    </tr>\n",
              "    <tr>\n",
              "      <th>1</th>\n",
              "      <td>Hey , is it too late to add a scene to the new...</td>\n",
              "      <td>1</td>\n",
              "    </tr>\n",
              "    <tr>\n",
              "      <th>2</th>\n",
              "      <td>Who is doing the casting work at ? She/He nee...</td>\n",
              "      <td>0</td>\n",
              "    </tr>\n",
              "    <tr>\n",
              "      <th>3</th>\n",
              "      <td>My gf keeps bullying me because I thought Ursu...</td>\n",
              "      <td>1</td>\n",
              "    </tr>\n",
              "    <tr>\n",
              "      <th>4</th>\n",
              "      <td>Um  why not make a movie about Gabriella inste...</td>\n",
              "      <td>1</td>\n",
              "    </tr>\n",
              "  </tbody>\n",
              "</table>\n",
              "</div>\n",
              "      <button class=\"colab-df-convert\" onclick=\"convertToInteractive('df-fe930f86-2ff2-4d55-9020-92c857a653df')\"\n",
              "              title=\"Convert this dataframe to an interactive table.\"\n",
              "              style=\"display:none;\">\n",
              "        \n",
              "  <svg xmlns=\"http://www.w3.org/2000/svg\" height=\"24px\"viewBox=\"0 0 24 24\"\n",
              "       width=\"24px\">\n",
              "    <path d=\"M0 0h24v24H0V0z\" fill=\"none\"/>\n",
              "    <path d=\"M18.56 5.44l.94 2.06.94-2.06 2.06-.94-2.06-.94-.94-2.06-.94 2.06-2.06.94zm-11 1L8.5 8.5l.94-2.06 2.06-.94-2.06-.94L8.5 2.5l-.94 2.06-2.06.94zm10 10l.94 2.06.94-2.06 2.06-.94-2.06-.94-.94-2.06-.94 2.06-2.06.94z\"/><path d=\"M17.41 7.96l-1.37-1.37c-.4-.4-.92-.59-1.43-.59-.52 0-1.04.2-1.43.59L10.3 9.45l-7.72 7.72c-.78.78-.78 2.05 0 2.83L4 21.41c.39.39.9.59 1.41.59.51 0 1.02-.2 1.41-.59l7.78-7.78 2.81-2.81c.8-.78.8-2.07 0-2.86zM5.41 20L4 18.59l7.72-7.72 1.47 1.35L5.41 20z\"/>\n",
              "  </svg>\n",
              "      </button>\n",
              "      \n",
              "  <style>\n",
              "    .colab-df-container {\n",
              "      display:flex;\n",
              "      flex-wrap:wrap;\n",
              "      gap: 12px;\n",
              "    }\n",
              "\n",
              "    .colab-df-convert {\n",
              "      background-color: #E8F0FE;\n",
              "      border: none;\n",
              "      border-radius: 50%;\n",
              "      cursor: pointer;\n",
              "      display: none;\n",
              "      fill: #1967D2;\n",
              "      height: 32px;\n",
              "      padding: 0 0 0 0;\n",
              "      width: 32px;\n",
              "    }\n",
              "\n",
              "    .colab-df-convert:hover {\n",
              "      background-color: #E2EBFA;\n",
              "      box-shadow: 0px 1px 2px rgba(60, 64, 67, 0.3), 0px 1px 3px 1px rgba(60, 64, 67, 0.15);\n",
              "      fill: #174EA6;\n",
              "    }\n",
              "\n",
              "    [theme=dark] .colab-df-convert {\n",
              "      background-color: #3B4455;\n",
              "      fill: #D2E3FC;\n",
              "    }\n",
              "\n",
              "    [theme=dark] .colab-df-convert:hover {\n",
              "      background-color: #434B5C;\n",
              "      box-shadow: 0px 1px 3px 1px rgba(0, 0, 0, 0.15);\n",
              "      filter: drop-shadow(0px 1px 2px rgba(0, 0, 0, 0.3));\n",
              "      fill: #FFFFFF;\n",
              "    }\n",
              "  </style>\n",
              "\n",
              "      <script>\n",
              "        const buttonEl =\n",
              "          document.querySelector('#df-fe930f86-2ff2-4d55-9020-92c857a653df button.colab-df-convert');\n",
              "        buttonEl.style.display =\n",
              "          google.colab.kernel.accessAllowed ? 'block' : 'none';\n",
              "\n",
              "        async function convertToInteractive(key) {\n",
              "          const element = document.querySelector('#df-fe930f86-2ff2-4d55-9020-92c857a653df');\n",
              "          const dataTable =\n",
              "            await google.colab.kernel.invokeFunction('convertToInteractive',\n",
              "                                                     [key], {});\n",
              "          if (!dataTable) return;\n",
              "\n",
              "          const docLinkHtml = 'Like what you see? Visit the ' +\n",
              "            '<a target=\"_blank\" href=https://colab.research.google.com/notebooks/data_table.ipynb>data table notebook</a>'\n",
              "            + ' to learn more about interactive tables.';\n",
              "          element.innerHTML = '';\n",
              "          dataTable['output_type'] = 'display_data';\n",
              "          await google.colab.output.renderOutput(dataTable, element);\n",
              "          const docLink = document.createElement('div');\n",
              "          docLink.innerHTML = docLinkHtml;\n",
              "          element.appendChild(docLink);\n",
              "        }\n",
              "      </script>\n",
              "    </div>\n",
              "  </div>\n",
              "  "
            ]
          },
          "metadata": {},
          "execution_count": 309
        }
      ],
      "source": [
        "# remove the mentions in the tweets\n",
        "def remove_mention(text):\n",
        "    text = re.sub(r'@\\w+','',text)\n",
        "    return text\n",
        "dataset['text'] = dataset['text'].apply(lambda x: remove_mention(x))\n",
        "dataset.head()"
      ]
    },
    {
      "cell_type": "markdown",
      "metadata": {
        "id": "taFT4OKveDt0"
      },
      "source": [
        "#### Tokenization\n",
        "\n",
        "Tokenization breaks the raw text into words. A token is an instance of a sequence of characters in some particular document that are grouped together as a useful semantic unit for processing."
      ]
    },
    {
      "cell_type": "code",
      "execution_count": 310,
      "metadata": {
        "id": "7GG1C-IIeBnL"
      },
      "outputs": [],
      "source": [
        "# First I will remove contractions\n",
        "contractions = { \n",
        "\"ain't\": \"am not\",\n",
        "\"aren't\": \"are not\",\n",
        "\"can't\": \"cannot\",\n",
        "\"can't've\": \"cannot have\",\n",
        "\"'cause\": \"because\",\n",
        "\"could've\": \"could have\",\n",
        "\"couldn't\": \"could not\",\n",
        "\"couldn't've\": \"could not have\",\n",
        "\"didn't\": \"did not\",\n",
        "\"doesn't\": \"does not\",\n",
        "\"don't\": \"do not\",\n",
        "\"hadn't\": \"had not\",\n",
        "\"hadn't've\": \"had not have\",\n",
        "\"hasn't\": \"has not\",\n",
        "\"haven't\": \"have not\",\n",
        "\"he'd\": \"he would\",\n",
        "\"he'd've\": \"he would have\",\n",
        "\"he'll\": \"he will\",\n",
        "\"he'll've\": \"he will have\",\n",
        "\"he's\": \"he is\",\n",
        "\"how'd\": \"how did\",\n",
        "\"how'd'y\": \"how do you\",\n",
        "\"how'll\": \"how will\",\n",
        "\"how's\": \"how is\",\n",
        "\"I'd\": \"I would\",\n",
        "\"I'd've\": \"I would have\",\n",
        "\"I'll\": \"I will\",\n",
        "\"I'll've\": \"I will have\",\n",
        "\"I'm\": \"I am\",\n",
        "\"I've\": \"I have\",\n",
        "\"isn't\": \"is not\",\n",
        "\"it'd\": \"it would\",\n",
        "\"it'd've\": \"it would have\",\n",
        "\"it'll\": \"it will\",\n",
        "\"it'll've\": \"it will have\",\n",
        "\"it's\": \"it is\",\n",
        "\"let's\": \"let us\",\n",
        "\"ma'am\": \"madam\",\n",
        "\"mayn't\": \"may not\",\n",
        "\"might've\": \"might have\",\n",
        "\"mightn't\": \"might not\",\n",
        "\"mightn't've\": \"might not have\",\n",
        "\"must've\": \"must have\",\n",
        "\"mustn't\": \"must not\",\n",
        "\"mustn't've\": \"must not have\",\n",
        "\"needn't\": \"need not\",\n",
        "\"needn't've\": \"need not have\",\n",
        "\"o'clock\": \"of the clock\",\n",
        "\"oughtn't\": \"ought not\",\n",
        "\"oughtn't've\": \"ought not have\",\n",
        "\"shan't\": \"shall not\",\n",
        "\"sha'n't\": \"shall not\",\n",
        "\"shan't've\": \"shall not have\",\n",
        "\"she'd\": \"she would\",\n",
        "\"she'd've\": \"she would have\",\n",
        "\"she'll\": \"she will\",\n",
        "\"she'll've\": \"she will have\",\n",
        "\"she's\": \"she is\",\n",
        "\"should've\": \"should have\",\n",
        "\"shouldn't\": \"should not\",\n",
        "\"shouldn't've\": \"should not have\",\n",
        "\"so've\": \"so have\",\n",
        "\"so's\": \"so is\",\n",
        "\"that'd\": \"that would\",\n",
        "\"that'd've\": \"that would have\",\n",
        "\"that's\": \"that is\",\n",
        "\"there'd\": \"there would\",\n",
        "\"there'd've\": \"there would have\",\n",
        "\"there's\": \"there is\",\n",
        "\"they'd\": \"they would\",\n",
        "\"they'd've\": \"they would have\",\n",
        "\"they'll\": \"they will\",\n",
        "\"they'll've\": \"they will have\",\n",
        "\"they're\": \"they are\",\n",
        "\"they've\": \"they have\",\n",
        "\"to've\": \"to have\",\n",
        "\"wasn't\": \"was not\",\n",
        "\"we'd\": \"we would\",\n",
        "\"we'd've\": \"we would have\",\n",
        "\"we'll\": \"we will\",\n",
        "\"we'll've\": \"we will have\",\n",
        "\"we're\": \"we are\",\n",
        "\"we've\": \"we have\",\n",
        "\"weren't\": \"were not\",\n",
        "\"what'll\": \"what will\",\n",
        "\"what'll've\": \"what will have\",\n",
        "\"what're\": \"what are\",\n",
        "\"what's\": \"what is\",\n",
        "\"what've\": \"what have\",\n",
        "\"when's\": \"when is\",\n",
        "\"when've\": \"when have\",\n",
        "\"where'd\": \"where did\",\n",
        "\"where's\": \"where is\",\n",
        "\"where've\": \"where have\",\n",
        "\"who'll\": \"who will\",\n",
        "\"who'll've\": \"who will have\",\n",
        "\"who's\": \"who is\",\n",
        "\"who've\": \"who have\",\n",
        "\"why's\": \"why is\",\n",
        "\"why've\": \"why have\",\n",
        "\"will've\": \"will have\",\n",
        "\"won't\": \"will not\",\n",
        "\"won't've\": \"will not have\",\n",
        "\"would've\": \"would have\",\n",
        "\"wouldn't\": \"would not\",\n",
        "\"wouldn't've\": \"would not have\",\n",
        "\"y'all\": \"you all\",\n",
        "\"y'all'd\": \"you all would\",\n",
        "\"y'all'd've\": \"you all would have\",\n",
        "\"y'all're\": \"you all are\",\n",
        "\"y'all've\": \"you all have\",\n",
        "\"you'd\": \"you would\",\n",
        "\"you'd've\": \"you would have\",\n",
        "\"you'll\": \"you will\",\n",
        "\"you'll've\": \"you will have\",\n",
        "\"you're\": \"you are\",\n",
        "\"you've\": \"you have\"\n",
        "}"
      ]
    },
    {
      "cell_type": "code",
      "execution_count": 311,
      "metadata": {
        "colab": {
          "base_uri": "https://localhost:8080/",
          "height": 206
        },
        "id": "nks6Erd8eLPZ",
        "outputId": "14150d72-e6f9-4111-f79d-47ae06349418"
      },
      "outputs": [
        {
          "output_type": "execute_result",
          "data": {
            "text/plain": [
              "                                                text  sentiment\n",
              "0  Celebrities Have HUGE MELTDOWN After WOKE Litt...          0\n",
              "1  Hey , is it too late to add a scene to the new...          1\n",
              "2   Who is doing the casting work at ? She/He nee...          0\n",
              "3  My gf keeps bullying me because I thought Ursu...          1\n",
              "4  Um  why not make a movie about Gabriella inste...          1"
            ],
            "text/html": [
              "\n",
              "  <div id=\"df-4ff14749-b8ec-4eb3-bc48-d85a3361a909\">\n",
              "    <div class=\"colab-df-container\">\n",
              "      <div>\n",
              "<style scoped>\n",
              "    .dataframe tbody tr th:only-of-type {\n",
              "        vertical-align: middle;\n",
              "    }\n",
              "\n",
              "    .dataframe tbody tr th {\n",
              "        vertical-align: top;\n",
              "    }\n",
              "\n",
              "    .dataframe thead th {\n",
              "        text-align: right;\n",
              "    }\n",
              "</style>\n",
              "<table border=\"1\" class=\"dataframe\">\n",
              "  <thead>\n",
              "    <tr style=\"text-align: right;\">\n",
              "      <th></th>\n",
              "      <th>text</th>\n",
              "      <th>sentiment</th>\n",
              "    </tr>\n",
              "  </thead>\n",
              "  <tbody>\n",
              "    <tr>\n",
              "      <th>0</th>\n",
              "      <td>Celebrities Have HUGE MELTDOWN After WOKE Litt...</td>\n",
              "      <td>0</td>\n",
              "    </tr>\n",
              "    <tr>\n",
              "      <th>1</th>\n",
              "      <td>Hey , is it too late to add a scene to the new...</td>\n",
              "      <td>1</td>\n",
              "    </tr>\n",
              "    <tr>\n",
              "      <th>2</th>\n",
              "      <td>Who is doing the casting work at ? She/He nee...</td>\n",
              "      <td>0</td>\n",
              "    </tr>\n",
              "    <tr>\n",
              "      <th>3</th>\n",
              "      <td>My gf keeps bullying me because I thought Ursu...</td>\n",
              "      <td>1</td>\n",
              "    </tr>\n",
              "    <tr>\n",
              "      <th>4</th>\n",
              "      <td>Um  why not make a movie about Gabriella inste...</td>\n",
              "      <td>1</td>\n",
              "    </tr>\n",
              "  </tbody>\n",
              "</table>\n",
              "</div>\n",
              "      <button class=\"colab-df-convert\" onclick=\"convertToInteractive('df-4ff14749-b8ec-4eb3-bc48-d85a3361a909')\"\n",
              "              title=\"Convert this dataframe to an interactive table.\"\n",
              "              style=\"display:none;\">\n",
              "        \n",
              "  <svg xmlns=\"http://www.w3.org/2000/svg\" height=\"24px\"viewBox=\"0 0 24 24\"\n",
              "       width=\"24px\">\n",
              "    <path d=\"M0 0h24v24H0V0z\" fill=\"none\"/>\n",
              "    <path d=\"M18.56 5.44l.94 2.06.94-2.06 2.06-.94-2.06-.94-.94-2.06-.94 2.06-2.06.94zm-11 1L8.5 8.5l.94-2.06 2.06-.94-2.06-.94L8.5 2.5l-.94 2.06-2.06.94zm10 10l.94 2.06.94-2.06 2.06-.94-2.06-.94-.94-2.06-.94 2.06-2.06.94z\"/><path d=\"M17.41 7.96l-1.37-1.37c-.4-.4-.92-.59-1.43-.59-.52 0-1.04.2-1.43.59L10.3 9.45l-7.72 7.72c-.78.78-.78 2.05 0 2.83L4 21.41c.39.39.9.59 1.41.59.51 0 1.02-.2 1.41-.59l7.78-7.78 2.81-2.81c.8-.78.8-2.07 0-2.86zM5.41 20L4 18.59l7.72-7.72 1.47 1.35L5.41 20z\"/>\n",
              "  </svg>\n",
              "      </button>\n",
              "      \n",
              "  <style>\n",
              "    .colab-df-container {\n",
              "      display:flex;\n",
              "      flex-wrap:wrap;\n",
              "      gap: 12px;\n",
              "    }\n",
              "\n",
              "    .colab-df-convert {\n",
              "      background-color: #E8F0FE;\n",
              "      border: none;\n",
              "      border-radius: 50%;\n",
              "      cursor: pointer;\n",
              "      display: none;\n",
              "      fill: #1967D2;\n",
              "      height: 32px;\n",
              "      padding: 0 0 0 0;\n",
              "      width: 32px;\n",
              "    }\n",
              "\n",
              "    .colab-df-convert:hover {\n",
              "      background-color: #E2EBFA;\n",
              "      box-shadow: 0px 1px 2px rgba(60, 64, 67, 0.3), 0px 1px 3px 1px rgba(60, 64, 67, 0.15);\n",
              "      fill: #174EA6;\n",
              "    }\n",
              "\n",
              "    [theme=dark] .colab-df-convert {\n",
              "      background-color: #3B4455;\n",
              "      fill: #D2E3FC;\n",
              "    }\n",
              "\n",
              "    [theme=dark] .colab-df-convert:hover {\n",
              "      background-color: #434B5C;\n",
              "      box-shadow: 0px 1px 3px 1px rgba(0, 0, 0, 0.15);\n",
              "      filter: drop-shadow(0px 1px 2px rgba(0, 0, 0, 0.3));\n",
              "      fill: #FFFFFF;\n",
              "    }\n",
              "  </style>\n",
              "\n",
              "      <script>\n",
              "        const buttonEl =\n",
              "          document.querySelector('#df-4ff14749-b8ec-4eb3-bc48-d85a3361a909 button.colab-df-convert');\n",
              "        buttonEl.style.display =\n",
              "          google.colab.kernel.accessAllowed ? 'block' : 'none';\n",
              "\n",
              "        async function convertToInteractive(key) {\n",
              "          const element = document.querySelector('#df-4ff14749-b8ec-4eb3-bc48-d85a3361a909');\n",
              "          const dataTable =\n",
              "            await google.colab.kernel.invokeFunction('convertToInteractive',\n",
              "                                                     [key], {});\n",
              "          if (!dataTable) return;\n",
              "\n",
              "          const docLinkHtml = 'Like what you see? Visit the ' +\n",
              "            '<a target=\"_blank\" href=https://colab.research.google.com/notebooks/data_table.ipynb>data table notebook</a>'\n",
              "            + ' to learn more about interactive tables.';\n",
              "          element.innerHTML = '';\n",
              "          dataTable['output_type'] = 'display_data';\n",
              "          await google.colab.output.renderOutput(dataTable, element);\n",
              "          const docLink = document.createElement('div');\n",
              "          docLink.innerHTML = docLinkHtml;\n",
              "          element.appendChild(docLink);\n",
              "        }\n",
              "      </script>\n",
              "    </div>\n",
              "  </div>\n",
              "  "
            ]
          },
          "metadata": {},
          "execution_count": 311
        }
      ],
      "source": [
        "def cont_to_exp(x):\n",
        "    for key in contractions:\n",
        "        value=contractions[key]\n",
        "        x=x.replace(key,value)\n",
        "    return x\n",
        "\n",
        "\n",
        "dataset['text'] = dataset['text'].apply(lambda x: cont_to_exp(x))\n",
        "dataset.head()"
      ]
    },
    {
      "cell_type": "code",
      "execution_count": 312,
      "metadata": {
        "colab": {
          "base_uri": "https://localhost:8080/"
        },
        "id": "q42tQYe-eNmH",
        "outputId": "62f6bbf9-5b40-40fe-898e-7c6908475fb7"
      },
      "outputs": [
        {
          "output_type": "stream",
          "name": "stdout",
          "text": [
            "Looking in indexes: https://pypi.org/simple, https://us-python.pkg.dev/colab-wheels/public/simple/\n",
            "Requirement already satisfied: nltk in /usr/local/lib/python3.8/dist-packages (3.7)\n",
            "Requirement already satisfied: joblib in /usr/local/lib/python3.8/dist-packages (from nltk) (1.2.0)\n",
            "Requirement already satisfied: regex>=2021.8.3 in /usr/local/lib/python3.8/dist-packages (from nltk) (2022.6.2)\n",
            "Requirement already satisfied: click in /usr/local/lib/python3.8/dist-packages (from nltk) (7.1.2)\n",
            "Requirement already satisfied: tqdm in /usr/local/lib/python3.8/dist-packages (from nltk) (4.64.1)\n"
          ]
        },
        {
          "output_type": "stream",
          "name": "stderr",
          "text": [
            "[nltk_data] Downloading package punkt to /root/nltk_data...\n",
            "[nltk_data]   Package punkt is already up-to-date!\n",
            "[nltk_data] Downloading package stopwords to /root/nltk_data...\n",
            "[nltk_data]   Package stopwords is already up-to-date!\n",
            "[nltk_data] Downloading package wordnet to /root/nltk_data...\n",
            "[nltk_data]   Package wordnet is already up-to-date!\n"
          ]
        }
      ],
      "source": [
        "#for tokenize\n",
        "\n",
        "!pip install nltk\n",
        "import nltk\n",
        "nltk.download('punkt')\n",
        "nltk.download('stopwords')\n",
        "nltk.download('wordnet')\n",
        "import unicodedata\n",
        "from nltk.corpus import stopwords                       # Import stopwords.\n",
        "from nltk.tokenize import word_tokenize, sent_tokenize  # Import Tokenizer.\n",
        "from nltk.stem.wordnet import WordNetLemmatizer         # Import Lemmatizer."
      ]
    },
    {
      "cell_type": "code",
      "execution_count": 313,
      "metadata": {
        "colab": {
          "base_uri": "https://localhost:8080/",
          "height": 206
        },
        "id": "Qs-5NQCMeSro",
        "outputId": "dab2357c-53a0-43f2-f9dc-09c61d738463"
      },
      "outputs": [
        {
          "output_type": "execute_result",
          "data": {
            "text/plain": [
              "                                                text  sentiment\n",
              "0  [Celebrities, Have, HUGE, MELTDOWN, After, WOK...          0\n",
              "1  [Hey, ,, is, it, too, late, to, add, a, scene,...          1\n",
              "2  [Who, is, doing, the, casting, work, at, ?, Sh...          0\n",
              "3  [My, gf, keeps, bullying, me, because, I, thou...          1\n",
              "4  [Um, why, not, make, a, movie, about, Gabriell...          1"
            ],
            "text/html": [
              "\n",
              "  <div id=\"df-1761b7cf-ed8c-4d26-923f-ecc3fb964909\">\n",
              "    <div class=\"colab-df-container\">\n",
              "      <div>\n",
              "<style scoped>\n",
              "    .dataframe tbody tr th:only-of-type {\n",
              "        vertical-align: middle;\n",
              "    }\n",
              "\n",
              "    .dataframe tbody tr th {\n",
              "        vertical-align: top;\n",
              "    }\n",
              "\n",
              "    .dataframe thead th {\n",
              "        text-align: right;\n",
              "    }\n",
              "</style>\n",
              "<table border=\"1\" class=\"dataframe\">\n",
              "  <thead>\n",
              "    <tr style=\"text-align: right;\">\n",
              "      <th></th>\n",
              "      <th>text</th>\n",
              "      <th>sentiment</th>\n",
              "    </tr>\n",
              "  </thead>\n",
              "  <tbody>\n",
              "    <tr>\n",
              "      <th>0</th>\n",
              "      <td>[Celebrities, Have, HUGE, MELTDOWN, After, WOK...</td>\n",
              "      <td>0</td>\n",
              "    </tr>\n",
              "    <tr>\n",
              "      <th>1</th>\n",
              "      <td>[Hey, ,, is, it, too, late, to, add, a, scene,...</td>\n",
              "      <td>1</td>\n",
              "    </tr>\n",
              "    <tr>\n",
              "      <th>2</th>\n",
              "      <td>[Who, is, doing, the, casting, work, at, ?, Sh...</td>\n",
              "      <td>0</td>\n",
              "    </tr>\n",
              "    <tr>\n",
              "      <th>3</th>\n",
              "      <td>[My, gf, keeps, bullying, me, because, I, thou...</td>\n",
              "      <td>1</td>\n",
              "    </tr>\n",
              "    <tr>\n",
              "      <th>4</th>\n",
              "      <td>[Um, why, not, make, a, movie, about, Gabriell...</td>\n",
              "      <td>1</td>\n",
              "    </tr>\n",
              "  </tbody>\n",
              "</table>\n",
              "</div>\n",
              "      <button class=\"colab-df-convert\" onclick=\"convertToInteractive('df-1761b7cf-ed8c-4d26-923f-ecc3fb964909')\"\n",
              "              title=\"Convert this dataframe to an interactive table.\"\n",
              "              style=\"display:none;\">\n",
              "        \n",
              "  <svg xmlns=\"http://www.w3.org/2000/svg\" height=\"24px\"viewBox=\"0 0 24 24\"\n",
              "       width=\"24px\">\n",
              "    <path d=\"M0 0h24v24H0V0z\" fill=\"none\"/>\n",
              "    <path d=\"M18.56 5.44l.94 2.06.94-2.06 2.06-.94-2.06-.94-.94-2.06-.94 2.06-2.06.94zm-11 1L8.5 8.5l.94-2.06 2.06-.94-2.06-.94L8.5 2.5l-.94 2.06-2.06.94zm10 10l.94 2.06.94-2.06 2.06-.94-2.06-.94-.94-2.06-.94 2.06-2.06.94z\"/><path d=\"M17.41 7.96l-1.37-1.37c-.4-.4-.92-.59-1.43-.59-.52 0-1.04.2-1.43.59L10.3 9.45l-7.72 7.72c-.78.78-.78 2.05 0 2.83L4 21.41c.39.39.9.59 1.41.59.51 0 1.02-.2 1.41-.59l7.78-7.78 2.81-2.81c.8-.78.8-2.07 0-2.86zM5.41 20L4 18.59l7.72-7.72 1.47 1.35L5.41 20z\"/>\n",
              "  </svg>\n",
              "      </button>\n",
              "      \n",
              "  <style>\n",
              "    .colab-df-container {\n",
              "      display:flex;\n",
              "      flex-wrap:wrap;\n",
              "      gap: 12px;\n",
              "    }\n",
              "\n",
              "    .colab-df-convert {\n",
              "      background-color: #E8F0FE;\n",
              "      border: none;\n",
              "      border-radius: 50%;\n",
              "      cursor: pointer;\n",
              "      display: none;\n",
              "      fill: #1967D2;\n",
              "      height: 32px;\n",
              "      padding: 0 0 0 0;\n",
              "      width: 32px;\n",
              "    }\n",
              "\n",
              "    .colab-df-convert:hover {\n",
              "      background-color: #E2EBFA;\n",
              "      box-shadow: 0px 1px 2px rgba(60, 64, 67, 0.3), 0px 1px 3px 1px rgba(60, 64, 67, 0.15);\n",
              "      fill: #174EA6;\n",
              "    }\n",
              "\n",
              "    [theme=dark] .colab-df-convert {\n",
              "      background-color: #3B4455;\n",
              "      fill: #D2E3FC;\n",
              "    }\n",
              "\n",
              "    [theme=dark] .colab-df-convert:hover {\n",
              "      background-color: #434B5C;\n",
              "      box-shadow: 0px 1px 3px 1px rgba(0, 0, 0, 0.15);\n",
              "      filter: drop-shadow(0px 1px 2px rgba(0, 0, 0, 0.3));\n",
              "      fill: #FFFFFF;\n",
              "    }\n",
              "  </style>\n",
              "\n",
              "      <script>\n",
              "        const buttonEl =\n",
              "          document.querySelector('#df-1761b7cf-ed8c-4d26-923f-ecc3fb964909 button.colab-df-convert');\n",
              "        buttonEl.style.display =\n",
              "          google.colab.kernel.accessAllowed ? 'block' : 'none';\n",
              "\n",
              "        async function convertToInteractive(key) {\n",
              "          const element = document.querySelector('#df-1761b7cf-ed8c-4d26-923f-ecc3fb964909');\n",
              "          const dataTable =\n",
              "            await google.colab.kernel.invokeFunction('convertToInteractive',\n",
              "                                                     [key], {});\n",
              "          if (!dataTable) return;\n",
              "\n",
              "          const docLinkHtml = 'Like what you see? Visit the ' +\n",
              "            '<a target=\"_blank\" href=https://colab.research.google.com/notebooks/data_table.ipynb>data table notebook</a>'\n",
              "            + ' to learn more about interactive tables.';\n",
              "          element.innerHTML = '';\n",
              "          dataTable['output_type'] = 'display_data';\n",
              "          await google.colab.output.renderOutput(dataTable, element);\n",
              "          const docLink = document.createElement('div');\n",
              "          docLink.innerHTML = docLinkHtml;\n",
              "          element.appendChild(docLink);\n",
              "        }\n",
              "      </script>\n",
              "    </div>\n",
              "  </div>\n",
              "  "
            ]
          },
          "metadata": {},
          "execution_count": 313
        }
      ],
      "source": [
        "dataset['text'] = dataset.apply(lambda row: nltk.word_tokenize(row['text']), axis=1)\n",
        "dataset.head()"
      ]
    },
    {
      "cell_type": "code",
      "execution_count": 314,
      "metadata": {
        "colab": {
          "base_uri": "https://localhost:8080/",
          "height": 206
        },
        "id": "qR7J4Y1teWIF",
        "outputId": "60bedc4a-6361-4401-bbc2-d29946f90c02"
      },
      "outputs": [
        {
          "output_type": "execute_result",
          "data": {
            "text/plain": [
              "                                                text  sentiment\n",
              "0  [Celebrities, Have, HUGE, MELTDOWN, After, WOK...          0\n",
              "1  [Hey, ,, is, it, too, late, to, add, a, scene,...          1\n",
              "2  [Who, is, doing, the, casting, work, at, ?, Sh...          0\n",
              "3  [My, gf, keeps, bullying, me, because, I, thou...          1\n",
              "4  [Um, why, not, make, a, movie, about, Gabriell...          1"
            ],
            "text/html": [
              "\n",
              "  <div id=\"df-0a9294a3-319c-4019-b67d-88defa94ddd3\">\n",
              "    <div class=\"colab-df-container\">\n",
              "      <div>\n",
              "<style scoped>\n",
              "    .dataframe tbody tr th:only-of-type {\n",
              "        vertical-align: middle;\n",
              "    }\n",
              "\n",
              "    .dataframe tbody tr th {\n",
              "        vertical-align: top;\n",
              "    }\n",
              "\n",
              "    .dataframe thead th {\n",
              "        text-align: right;\n",
              "    }\n",
              "</style>\n",
              "<table border=\"1\" class=\"dataframe\">\n",
              "  <thead>\n",
              "    <tr style=\"text-align: right;\">\n",
              "      <th></th>\n",
              "      <th>text</th>\n",
              "      <th>sentiment</th>\n",
              "    </tr>\n",
              "  </thead>\n",
              "  <tbody>\n",
              "    <tr>\n",
              "      <th>0</th>\n",
              "      <td>[Celebrities, Have, HUGE, MELTDOWN, After, WOK...</td>\n",
              "      <td>0</td>\n",
              "    </tr>\n",
              "    <tr>\n",
              "      <th>1</th>\n",
              "      <td>[Hey, ,, is, it, too, late, to, add, a, scene,...</td>\n",
              "      <td>1</td>\n",
              "    </tr>\n",
              "    <tr>\n",
              "      <th>2</th>\n",
              "      <td>[Who, is, doing, the, casting, work, at, ?, Sh...</td>\n",
              "      <td>0</td>\n",
              "    </tr>\n",
              "    <tr>\n",
              "      <th>3</th>\n",
              "      <td>[My, gf, keeps, bullying, me, because, I, thou...</td>\n",
              "      <td>1</td>\n",
              "    </tr>\n",
              "    <tr>\n",
              "      <th>4</th>\n",
              "      <td>[Um, why, not, make, a, movie, about, Gabriell...</td>\n",
              "      <td>1</td>\n",
              "    </tr>\n",
              "  </tbody>\n",
              "</table>\n",
              "</div>\n",
              "      <button class=\"colab-df-convert\" onclick=\"convertToInteractive('df-0a9294a3-319c-4019-b67d-88defa94ddd3')\"\n",
              "              title=\"Convert this dataframe to an interactive table.\"\n",
              "              style=\"display:none;\">\n",
              "        \n",
              "  <svg xmlns=\"http://www.w3.org/2000/svg\" height=\"24px\"viewBox=\"0 0 24 24\"\n",
              "       width=\"24px\">\n",
              "    <path d=\"M0 0h24v24H0V0z\" fill=\"none\"/>\n",
              "    <path d=\"M18.56 5.44l.94 2.06.94-2.06 2.06-.94-2.06-.94-.94-2.06-.94 2.06-2.06.94zm-11 1L8.5 8.5l.94-2.06 2.06-.94-2.06-.94L8.5 2.5l-.94 2.06-2.06.94zm10 10l.94 2.06.94-2.06 2.06-.94-2.06-.94-.94-2.06-.94 2.06-2.06.94z\"/><path d=\"M17.41 7.96l-1.37-1.37c-.4-.4-.92-.59-1.43-.59-.52 0-1.04.2-1.43.59L10.3 9.45l-7.72 7.72c-.78.78-.78 2.05 0 2.83L4 21.41c.39.39.9.59 1.41.59.51 0 1.02-.2 1.41-.59l7.78-7.78 2.81-2.81c.8-.78.8-2.07 0-2.86zM5.41 20L4 18.59l7.72-7.72 1.47 1.35L5.41 20z\"/>\n",
              "  </svg>\n",
              "      </button>\n",
              "      \n",
              "  <style>\n",
              "    .colab-df-container {\n",
              "      display:flex;\n",
              "      flex-wrap:wrap;\n",
              "      gap: 12px;\n",
              "    }\n",
              "\n",
              "    .colab-df-convert {\n",
              "      background-color: #E8F0FE;\n",
              "      border: none;\n",
              "      border-radius: 50%;\n",
              "      cursor: pointer;\n",
              "      display: none;\n",
              "      fill: #1967D2;\n",
              "      height: 32px;\n",
              "      padding: 0 0 0 0;\n",
              "      width: 32px;\n",
              "    }\n",
              "\n",
              "    .colab-df-convert:hover {\n",
              "      background-color: #E2EBFA;\n",
              "      box-shadow: 0px 1px 2px rgba(60, 64, 67, 0.3), 0px 1px 3px 1px rgba(60, 64, 67, 0.15);\n",
              "      fill: #174EA6;\n",
              "    }\n",
              "\n",
              "    [theme=dark] .colab-df-convert {\n",
              "      background-color: #3B4455;\n",
              "      fill: #D2E3FC;\n",
              "    }\n",
              "\n",
              "    [theme=dark] .colab-df-convert:hover {\n",
              "      background-color: #434B5C;\n",
              "      box-shadow: 0px 1px 3px 1px rgba(0, 0, 0, 0.15);\n",
              "      filter: drop-shadow(0px 1px 2px rgba(0, 0, 0, 0.3));\n",
              "      fill: #FFFFFF;\n",
              "    }\n",
              "  </style>\n",
              "\n",
              "      <script>\n",
              "        const buttonEl =\n",
              "          document.querySelector('#df-0a9294a3-319c-4019-b67d-88defa94ddd3 button.colab-df-convert');\n",
              "        buttonEl.style.display =\n",
              "          google.colab.kernel.accessAllowed ? 'block' : 'none';\n",
              "\n",
              "        async function convertToInteractive(key) {\n",
              "          const element = document.querySelector('#df-0a9294a3-319c-4019-b67d-88defa94ddd3');\n",
              "          const dataTable =\n",
              "            await google.colab.kernel.invokeFunction('convertToInteractive',\n",
              "                                                     [key], {});\n",
              "          if (!dataTable) return;\n",
              "\n",
              "          const docLinkHtml = 'Like what you see? Visit the ' +\n",
              "            '<a target=\"_blank\" href=https://colab.research.google.com/notebooks/data_table.ipynb>data table notebook</a>'\n",
              "            + ' to learn more about interactive tables.';\n",
              "          element.innerHTML = '';\n",
              "          dataTable['output_type'] = 'display_data';\n",
              "          await google.colab.output.renderOutput(dataTable, element);\n",
              "          const docLink = document.createElement('div');\n",
              "          docLink.innerHTML = docLinkHtml;\n",
              "          element.appendChild(docLink);\n",
              "        }\n",
              "      </script>\n",
              "    </div>\n",
              "  </div>\n",
              "  "
            ]
          },
          "metadata": {},
          "execution_count": 314
        }
      ],
      "source": [
        "#remove the non-ASCII characters\n",
        "def remove_non_ascii(words):\n",
        "    \"\"\"Remove non-ASCII characters from list of tokenized words\"\"\"\n",
        "    new_words = []\n",
        "    for word in words:\n",
        "        new_word = unicodedata.normalize('NFKD', word).encode('ascii', 'ignore').decode('utf-8', 'ignore')\n",
        "        new_words.append(new_word)\n",
        "    return new_words\n",
        "dataset['text']=dataset['text'].apply(lambda x: remove_non_ascii(x))\n",
        "dataset.head()"
      ]
    },
    {
      "cell_type": "markdown",
      "metadata": {
        "id": "WFo_Bxaeeako"
      },
      "source": [
        "#### Lower case convertion"
      ]
    },
    {
      "cell_type": "code",
      "execution_count": 315,
      "metadata": {
        "colab": {
          "base_uri": "https://localhost:8080/",
          "height": 206
        },
        "id": "3vR-7Z9ceYbg",
        "outputId": "f36db022-ec53-4a65-eda8-9bedd00da87f"
      },
      "outputs": [
        {
          "output_type": "execute_result",
          "data": {
            "text/plain": [
              "                                                text  sentiment\n",
              "0  [celebrities, have, huge, meltdown, after, wok...          0\n",
              "1  [hey, ,, is, it, too, late, to, add, a, scene,...          1\n",
              "2  [who, is, doing, the, casting, work, at, ?, sh...          0\n",
              "3  [my, gf, keeps, bullying, me, because, i, thou...          1\n",
              "4  [um, why, not, make, a, movie, about, gabriell...          1"
            ],
            "text/html": [
              "\n",
              "  <div id=\"df-5d69587c-4591-4979-87c6-3aa5cdc7affd\">\n",
              "    <div class=\"colab-df-container\">\n",
              "      <div>\n",
              "<style scoped>\n",
              "    .dataframe tbody tr th:only-of-type {\n",
              "        vertical-align: middle;\n",
              "    }\n",
              "\n",
              "    .dataframe tbody tr th {\n",
              "        vertical-align: top;\n",
              "    }\n",
              "\n",
              "    .dataframe thead th {\n",
              "        text-align: right;\n",
              "    }\n",
              "</style>\n",
              "<table border=\"1\" class=\"dataframe\">\n",
              "  <thead>\n",
              "    <tr style=\"text-align: right;\">\n",
              "      <th></th>\n",
              "      <th>text</th>\n",
              "      <th>sentiment</th>\n",
              "    </tr>\n",
              "  </thead>\n",
              "  <tbody>\n",
              "    <tr>\n",
              "      <th>0</th>\n",
              "      <td>[celebrities, have, huge, meltdown, after, wok...</td>\n",
              "      <td>0</td>\n",
              "    </tr>\n",
              "    <tr>\n",
              "      <th>1</th>\n",
              "      <td>[hey, ,, is, it, too, late, to, add, a, scene,...</td>\n",
              "      <td>1</td>\n",
              "    </tr>\n",
              "    <tr>\n",
              "      <th>2</th>\n",
              "      <td>[who, is, doing, the, casting, work, at, ?, sh...</td>\n",
              "      <td>0</td>\n",
              "    </tr>\n",
              "    <tr>\n",
              "      <th>3</th>\n",
              "      <td>[my, gf, keeps, bullying, me, because, i, thou...</td>\n",
              "      <td>1</td>\n",
              "    </tr>\n",
              "    <tr>\n",
              "      <th>4</th>\n",
              "      <td>[um, why, not, make, a, movie, about, gabriell...</td>\n",
              "      <td>1</td>\n",
              "    </tr>\n",
              "  </tbody>\n",
              "</table>\n",
              "</div>\n",
              "      <button class=\"colab-df-convert\" onclick=\"convertToInteractive('df-5d69587c-4591-4979-87c6-3aa5cdc7affd')\"\n",
              "              title=\"Convert this dataframe to an interactive table.\"\n",
              "              style=\"display:none;\">\n",
              "        \n",
              "  <svg xmlns=\"http://www.w3.org/2000/svg\" height=\"24px\"viewBox=\"0 0 24 24\"\n",
              "       width=\"24px\">\n",
              "    <path d=\"M0 0h24v24H0V0z\" fill=\"none\"/>\n",
              "    <path d=\"M18.56 5.44l.94 2.06.94-2.06 2.06-.94-2.06-.94-.94-2.06-.94 2.06-2.06.94zm-11 1L8.5 8.5l.94-2.06 2.06-.94-2.06-.94L8.5 2.5l-.94 2.06-2.06.94zm10 10l.94 2.06.94-2.06 2.06-.94-2.06-.94-.94-2.06-.94 2.06-2.06.94z\"/><path d=\"M17.41 7.96l-1.37-1.37c-.4-.4-.92-.59-1.43-.59-.52 0-1.04.2-1.43.59L10.3 9.45l-7.72 7.72c-.78.78-.78 2.05 0 2.83L4 21.41c.39.39.9.59 1.41.59.51 0 1.02-.2 1.41-.59l7.78-7.78 2.81-2.81c.8-.78.8-2.07 0-2.86zM5.41 20L4 18.59l7.72-7.72 1.47 1.35L5.41 20z\"/>\n",
              "  </svg>\n",
              "      </button>\n",
              "      \n",
              "  <style>\n",
              "    .colab-df-container {\n",
              "      display:flex;\n",
              "      flex-wrap:wrap;\n",
              "      gap: 12px;\n",
              "    }\n",
              "\n",
              "    .colab-df-convert {\n",
              "      background-color: #E8F0FE;\n",
              "      border: none;\n",
              "      border-radius: 50%;\n",
              "      cursor: pointer;\n",
              "      display: none;\n",
              "      fill: #1967D2;\n",
              "      height: 32px;\n",
              "      padding: 0 0 0 0;\n",
              "      width: 32px;\n",
              "    }\n",
              "\n",
              "    .colab-df-convert:hover {\n",
              "      background-color: #E2EBFA;\n",
              "      box-shadow: 0px 1px 2px rgba(60, 64, 67, 0.3), 0px 1px 3px 1px rgba(60, 64, 67, 0.15);\n",
              "      fill: #174EA6;\n",
              "    }\n",
              "\n",
              "    [theme=dark] .colab-df-convert {\n",
              "      background-color: #3B4455;\n",
              "      fill: #D2E3FC;\n",
              "    }\n",
              "\n",
              "    [theme=dark] .colab-df-convert:hover {\n",
              "      background-color: #434B5C;\n",
              "      box-shadow: 0px 1px 3px 1px rgba(0, 0, 0, 0.15);\n",
              "      filter: drop-shadow(0px 1px 2px rgba(0, 0, 0, 0.3));\n",
              "      fill: #FFFFFF;\n",
              "    }\n",
              "  </style>\n",
              "\n",
              "      <script>\n",
              "        const buttonEl =\n",
              "          document.querySelector('#df-5d69587c-4591-4979-87c6-3aa5cdc7affd button.colab-df-convert');\n",
              "        buttonEl.style.display =\n",
              "          google.colab.kernel.accessAllowed ? 'block' : 'none';\n",
              "\n",
              "        async function convertToInteractive(key) {\n",
              "          const element = document.querySelector('#df-5d69587c-4591-4979-87c6-3aa5cdc7affd');\n",
              "          const dataTable =\n",
              "            await google.colab.kernel.invokeFunction('convertToInteractive',\n",
              "                                                     [key], {});\n",
              "          if (!dataTable) return;\n",
              "\n",
              "          const docLinkHtml = 'Like what you see? Visit the ' +\n",
              "            '<a target=\"_blank\" href=https://colab.research.google.com/notebooks/data_table.ipynb>data table notebook</a>'\n",
              "            + ' to learn more about interactive tables.';\n",
              "          element.innerHTML = '';\n",
              "          dataTable['output_type'] = 'display_data';\n",
              "          await google.colab.output.renderOutput(dataTable, element);\n",
              "          const docLink = document.createElement('div');\n",
              "          docLink.innerHTML = docLinkHtml;\n",
              "          element.appendChild(docLink);\n",
              "        }\n",
              "      </script>\n",
              "    </div>\n",
              "  </div>\n",
              "  "
            ]
          },
          "metadata": {},
          "execution_count": 315
        }
      ],
      "source": [
        "def to_lowercase(words):\n",
        "    \"\"\"Convert all characters to lowercase from list of tokenized words\"\"\"\n",
        "    new_words = []\n",
        "    for word in words:\n",
        "        new_word = word.lower()\n",
        "        new_words.append(new_word)\n",
        "    return new_words\n",
        "dataset['text']=dataset['text'].apply(lambda x: to_lowercase(x))\n",
        "dataset.head()"
      ]
    },
    {
      "cell_type": "markdown",
      "metadata": {
        "id": "cfehF1MRei_O"
      },
      "source": [
        "#### Hashtags Removal"
      ]
    },
    {
      "cell_type": "code",
      "execution_count": 316,
      "metadata": {
        "colab": {
          "base_uri": "https://localhost:8080/",
          "height": 206
        },
        "id": "TuzKUnUHefsS",
        "outputId": "2909c4d3-c235-4251-c46c-d9a3157303af"
      },
      "outputs": [
        {
          "output_type": "execute_result",
          "data": {
            "text/plain": [
              "                                                text  sentiment\n",
              "0  [celebrities, have, huge, meltdown, after, wok...          0\n",
              "1  [hey, ,, is, it, too, late, to, add, a, scene,...          1\n",
              "2  [who, is, doing, the, casting, work, at, ?, sh...          0\n",
              "3  [my, gf, keeps, bullying, me, because, i, thou...          1\n",
              "4  [um, why, not, make, a, movie, about, gabriell...          1"
            ],
            "text/html": [
              "\n",
              "  <div id=\"df-94b1fd20-42c7-4be2-afbe-de96712a0ea8\">\n",
              "    <div class=\"colab-df-container\">\n",
              "      <div>\n",
              "<style scoped>\n",
              "    .dataframe tbody tr th:only-of-type {\n",
              "        vertical-align: middle;\n",
              "    }\n",
              "\n",
              "    .dataframe tbody tr th {\n",
              "        vertical-align: top;\n",
              "    }\n",
              "\n",
              "    .dataframe thead th {\n",
              "        text-align: right;\n",
              "    }\n",
              "</style>\n",
              "<table border=\"1\" class=\"dataframe\">\n",
              "  <thead>\n",
              "    <tr style=\"text-align: right;\">\n",
              "      <th></th>\n",
              "      <th>text</th>\n",
              "      <th>sentiment</th>\n",
              "    </tr>\n",
              "  </thead>\n",
              "  <tbody>\n",
              "    <tr>\n",
              "      <th>0</th>\n",
              "      <td>[celebrities, have, huge, meltdown, after, wok...</td>\n",
              "      <td>0</td>\n",
              "    </tr>\n",
              "    <tr>\n",
              "      <th>1</th>\n",
              "      <td>[hey, ,, is, it, too, late, to, add, a, scene,...</td>\n",
              "      <td>1</td>\n",
              "    </tr>\n",
              "    <tr>\n",
              "      <th>2</th>\n",
              "      <td>[who, is, doing, the, casting, work, at, ?, sh...</td>\n",
              "      <td>0</td>\n",
              "    </tr>\n",
              "    <tr>\n",
              "      <th>3</th>\n",
              "      <td>[my, gf, keeps, bullying, me, because, i, thou...</td>\n",
              "      <td>1</td>\n",
              "    </tr>\n",
              "    <tr>\n",
              "      <th>4</th>\n",
              "      <td>[um, why, not, make, a, movie, about, gabriell...</td>\n",
              "      <td>1</td>\n",
              "    </tr>\n",
              "  </tbody>\n",
              "</table>\n",
              "</div>\n",
              "      <button class=\"colab-df-convert\" onclick=\"convertToInteractive('df-94b1fd20-42c7-4be2-afbe-de96712a0ea8')\"\n",
              "              title=\"Convert this dataframe to an interactive table.\"\n",
              "              style=\"display:none;\">\n",
              "        \n",
              "  <svg xmlns=\"http://www.w3.org/2000/svg\" height=\"24px\"viewBox=\"0 0 24 24\"\n",
              "       width=\"24px\">\n",
              "    <path d=\"M0 0h24v24H0V0z\" fill=\"none\"/>\n",
              "    <path d=\"M18.56 5.44l.94 2.06.94-2.06 2.06-.94-2.06-.94-.94-2.06-.94 2.06-2.06.94zm-11 1L8.5 8.5l.94-2.06 2.06-.94-2.06-.94L8.5 2.5l-.94 2.06-2.06.94zm10 10l.94 2.06.94-2.06 2.06-.94-2.06-.94-.94-2.06-.94 2.06-2.06.94z\"/><path d=\"M17.41 7.96l-1.37-1.37c-.4-.4-.92-.59-1.43-.59-.52 0-1.04.2-1.43.59L10.3 9.45l-7.72 7.72c-.78.78-.78 2.05 0 2.83L4 21.41c.39.39.9.59 1.41.59.51 0 1.02-.2 1.41-.59l7.78-7.78 2.81-2.81c.8-.78.8-2.07 0-2.86zM5.41 20L4 18.59l7.72-7.72 1.47 1.35L5.41 20z\"/>\n",
              "  </svg>\n",
              "      </button>\n",
              "      \n",
              "  <style>\n",
              "    .colab-df-container {\n",
              "      display:flex;\n",
              "      flex-wrap:wrap;\n",
              "      gap: 12px;\n",
              "    }\n",
              "\n",
              "    .colab-df-convert {\n",
              "      background-color: #E8F0FE;\n",
              "      border: none;\n",
              "      border-radius: 50%;\n",
              "      cursor: pointer;\n",
              "      display: none;\n",
              "      fill: #1967D2;\n",
              "      height: 32px;\n",
              "      padding: 0 0 0 0;\n",
              "      width: 32px;\n",
              "    }\n",
              "\n",
              "    .colab-df-convert:hover {\n",
              "      background-color: #E2EBFA;\n",
              "      box-shadow: 0px 1px 2px rgba(60, 64, 67, 0.3), 0px 1px 3px 1px rgba(60, 64, 67, 0.15);\n",
              "      fill: #174EA6;\n",
              "    }\n",
              "\n",
              "    [theme=dark] .colab-df-convert {\n",
              "      background-color: #3B4455;\n",
              "      fill: #D2E3FC;\n",
              "    }\n",
              "\n",
              "    [theme=dark] .colab-df-convert:hover {\n",
              "      background-color: #434B5C;\n",
              "      box-shadow: 0px 1px 3px 1px rgba(0, 0, 0, 0.15);\n",
              "      filter: drop-shadow(0px 1px 2px rgba(0, 0, 0, 0.3));\n",
              "      fill: #FFFFFF;\n",
              "    }\n",
              "  </style>\n",
              "\n",
              "      <script>\n",
              "        const buttonEl =\n",
              "          document.querySelector('#df-94b1fd20-42c7-4be2-afbe-de96712a0ea8 button.colab-df-convert');\n",
              "        buttonEl.style.display =\n",
              "          google.colab.kernel.accessAllowed ? 'block' : 'none';\n",
              "\n",
              "        async function convertToInteractive(key) {\n",
              "          const element = document.querySelector('#df-94b1fd20-42c7-4be2-afbe-de96712a0ea8');\n",
              "          const dataTable =\n",
              "            await google.colab.kernel.invokeFunction('convertToInteractive',\n",
              "                                                     [key], {});\n",
              "          if (!dataTable) return;\n",
              "\n",
              "          const docLinkHtml = 'Like what you see? Visit the ' +\n",
              "            '<a target=\"_blank\" href=https://colab.research.google.com/notebooks/data_table.ipynb>data table notebook</a>'\n",
              "            + ' to learn more about interactive tables.';\n",
              "          element.innerHTML = '';\n",
              "          dataTable['output_type'] = 'display_data';\n",
              "          await google.colab.output.renderOutput(dataTable, element);\n",
              "          const docLink = document.createElement('div');\n",
              "          docLink.innerHTML = docLinkHtml;\n",
              "          element.appendChild(docLink);\n",
              "        }\n",
              "      </script>\n",
              "    </div>\n",
              "  </div>\n",
              "  "
            ]
          },
          "metadata": {},
          "execution_count": 316
        }
      ],
      "source": [
        "def remove_hash(words):\n",
        "    \"\"\"Remove hashtags from list of tokenized words\"\"\"\n",
        "    new_words = []\n",
        "    for word in words:\n",
        "        new_word = re.sub(r'#\\w+','',word)\n",
        "        if new_word != '':\n",
        "            new_words.append(new_word)\n",
        "    return new_words\n",
        "\n",
        "dataset['text']=dataset['text'].apply(lambda x: remove_hash(x))\n",
        "dataset.head()"
      ]
    },
    {
      "cell_type": "markdown",
      "metadata": {
        "id": "iObLGjpNe3HO"
      },
      "source": [
        "#### Punctuation Removal"
      ]
    },
    {
      "cell_type": "code",
      "execution_count": 317,
      "metadata": {
        "colab": {
          "base_uri": "https://localhost:8080/",
          "height": 206
        },
        "id": "CavjRO3ue0On",
        "outputId": "4933f645-2fa1-48c4-e045-77bbd559cee5"
      },
      "outputs": [
        {
          "output_type": "execute_result",
          "data": {
            "text/plain": [
              "                                                text  sentiment\n",
              "0  [celebrities, have, huge, meltdown, after, wok...          0\n",
              "1  [hey, is, it, too, late, to, add, a, scene, to...          1\n",
              "2  [who, is, doing, the, casting, work, at, shehe...          0\n",
              "3  [my, gf, keeps, bullying, me, because, i, thou...          1\n",
              "4  [um, why, not, make, a, movie, about, gabriell...          1"
            ],
            "text/html": [
              "\n",
              "  <div id=\"df-3634fd5d-2cd5-4a2a-b094-be5cb9d7a4e0\">\n",
              "    <div class=\"colab-df-container\">\n",
              "      <div>\n",
              "<style scoped>\n",
              "    .dataframe tbody tr th:only-of-type {\n",
              "        vertical-align: middle;\n",
              "    }\n",
              "\n",
              "    .dataframe tbody tr th {\n",
              "        vertical-align: top;\n",
              "    }\n",
              "\n",
              "    .dataframe thead th {\n",
              "        text-align: right;\n",
              "    }\n",
              "</style>\n",
              "<table border=\"1\" class=\"dataframe\">\n",
              "  <thead>\n",
              "    <tr style=\"text-align: right;\">\n",
              "      <th></th>\n",
              "      <th>text</th>\n",
              "      <th>sentiment</th>\n",
              "    </tr>\n",
              "  </thead>\n",
              "  <tbody>\n",
              "    <tr>\n",
              "      <th>0</th>\n",
              "      <td>[celebrities, have, huge, meltdown, after, wok...</td>\n",
              "      <td>0</td>\n",
              "    </tr>\n",
              "    <tr>\n",
              "      <th>1</th>\n",
              "      <td>[hey, is, it, too, late, to, add, a, scene, to...</td>\n",
              "      <td>1</td>\n",
              "    </tr>\n",
              "    <tr>\n",
              "      <th>2</th>\n",
              "      <td>[who, is, doing, the, casting, work, at, shehe...</td>\n",
              "      <td>0</td>\n",
              "    </tr>\n",
              "    <tr>\n",
              "      <th>3</th>\n",
              "      <td>[my, gf, keeps, bullying, me, because, i, thou...</td>\n",
              "      <td>1</td>\n",
              "    </tr>\n",
              "    <tr>\n",
              "      <th>4</th>\n",
              "      <td>[um, why, not, make, a, movie, about, gabriell...</td>\n",
              "      <td>1</td>\n",
              "    </tr>\n",
              "  </tbody>\n",
              "</table>\n",
              "</div>\n",
              "      <button class=\"colab-df-convert\" onclick=\"convertToInteractive('df-3634fd5d-2cd5-4a2a-b094-be5cb9d7a4e0')\"\n",
              "              title=\"Convert this dataframe to an interactive table.\"\n",
              "              style=\"display:none;\">\n",
              "        \n",
              "  <svg xmlns=\"http://www.w3.org/2000/svg\" height=\"24px\"viewBox=\"0 0 24 24\"\n",
              "       width=\"24px\">\n",
              "    <path d=\"M0 0h24v24H0V0z\" fill=\"none\"/>\n",
              "    <path d=\"M18.56 5.44l.94 2.06.94-2.06 2.06-.94-2.06-.94-.94-2.06-.94 2.06-2.06.94zm-11 1L8.5 8.5l.94-2.06 2.06-.94-2.06-.94L8.5 2.5l-.94 2.06-2.06.94zm10 10l.94 2.06.94-2.06 2.06-.94-2.06-.94-.94-2.06-.94 2.06-2.06.94z\"/><path d=\"M17.41 7.96l-1.37-1.37c-.4-.4-.92-.59-1.43-.59-.52 0-1.04.2-1.43.59L10.3 9.45l-7.72 7.72c-.78.78-.78 2.05 0 2.83L4 21.41c.39.39.9.59 1.41.59.51 0 1.02-.2 1.41-.59l7.78-7.78 2.81-2.81c.8-.78.8-2.07 0-2.86zM5.41 20L4 18.59l7.72-7.72 1.47 1.35L5.41 20z\"/>\n",
              "  </svg>\n",
              "      </button>\n",
              "      \n",
              "  <style>\n",
              "    .colab-df-container {\n",
              "      display:flex;\n",
              "      flex-wrap:wrap;\n",
              "      gap: 12px;\n",
              "    }\n",
              "\n",
              "    .colab-df-convert {\n",
              "      background-color: #E8F0FE;\n",
              "      border: none;\n",
              "      border-radius: 50%;\n",
              "      cursor: pointer;\n",
              "      display: none;\n",
              "      fill: #1967D2;\n",
              "      height: 32px;\n",
              "      padding: 0 0 0 0;\n",
              "      width: 32px;\n",
              "    }\n",
              "\n",
              "    .colab-df-convert:hover {\n",
              "      background-color: #E2EBFA;\n",
              "      box-shadow: 0px 1px 2px rgba(60, 64, 67, 0.3), 0px 1px 3px 1px rgba(60, 64, 67, 0.15);\n",
              "      fill: #174EA6;\n",
              "    }\n",
              "\n",
              "    [theme=dark] .colab-df-convert {\n",
              "      background-color: #3B4455;\n",
              "      fill: #D2E3FC;\n",
              "    }\n",
              "\n",
              "    [theme=dark] .colab-df-convert:hover {\n",
              "      background-color: #434B5C;\n",
              "      box-shadow: 0px 1px 3px 1px rgba(0, 0, 0, 0.15);\n",
              "      filter: drop-shadow(0px 1px 2px rgba(0, 0, 0, 0.3));\n",
              "      fill: #FFFFFF;\n",
              "    }\n",
              "  </style>\n",
              "\n",
              "      <script>\n",
              "        const buttonEl =\n",
              "          document.querySelector('#df-3634fd5d-2cd5-4a2a-b094-be5cb9d7a4e0 button.colab-df-convert');\n",
              "        buttonEl.style.display =\n",
              "          google.colab.kernel.accessAllowed ? 'block' : 'none';\n",
              "\n",
              "        async function convertToInteractive(key) {\n",
              "          const element = document.querySelector('#df-3634fd5d-2cd5-4a2a-b094-be5cb9d7a4e0');\n",
              "          const dataTable =\n",
              "            await google.colab.kernel.invokeFunction('convertToInteractive',\n",
              "                                                     [key], {});\n",
              "          if (!dataTable) return;\n",
              "\n",
              "          const docLinkHtml = 'Like what you see? Visit the ' +\n",
              "            '<a target=\"_blank\" href=https://colab.research.google.com/notebooks/data_table.ipynb>data table notebook</a>'\n",
              "            + ' to learn more about interactive tables.';\n",
              "          element.innerHTML = '';\n",
              "          dataTable['output_type'] = 'display_data';\n",
              "          await google.colab.output.renderOutput(dataTable, element);\n",
              "          const docLink = document.createElement('div');\n",
              "          docLink.innerHTML = docLinkHtml;\n",
              "          element.appendChild(docLink);\n",
              "        }\n",
              "      </script>\n",
              "    </div>\n",
              "  </div>\n",
              "  "
            ]
          },
          "metadata": {},
          "execution_count": 317
        }
      ],
      "source": [
        "def remove_punctuation(words):\n",
        "    \"\"\"Remove punctuation from list of tokenized words\"\"\"\n",
        "    new_words = []\n",
        "    for word in words:\n",
        "        new_word = re.sub(r'[^\\w\\s]', '', word)\n",
        "        if new_word != '':\n",
        "            new_words.append(new_word)\n",
        "    return new_words\n",
        "\n",
        "dataset['text']=dataset['text'].apply(lambda x: remove_punctuation(x))\n",
        "dataset.head()"
      ]
    },
    {
      "cell_type": "markdown",
      "metadata": {
        "id": "4HFQaQTSe8op"
      },
      "source": [
        "#### Stopwords Removal"
      ]
    },
    {
      "cell_type": "code",
      "execution_count": 318,
      "metadata": {
        "colab": {
          "base_uri": "https://localhost:8080/",
          "height": 206
        },
        "id": "0UvBRH6Je6PU",
        "outputId": "2f3071e3-be81-4e09-aeff-42c9dfdce0d4"
      },
      "outputs": [
        {
          "output_type": "execute_result",
          "data": {
            "text/plain": [
              "                                                text  sentiment\n",
              "0  [celebrities, huge, meltdown, woke, little, me...          0\n",
              "1  [hey, late, add, scene, new, little, mermaid, ...          1\n",
              "2  [casting, work, shehe, needs, fired, doesnt, l...          0\n",
              "3  [gf, keeps, bullying, thought, ursula, little,...          1\n",
              "4  [um, make, movie, gabriella, instead, ariel, o...          1"
            ],
            "text/html": [
              "\n",
              "  <div id=\"df-6c838170-a256-4a2a-a552-b021de5a2772\">\n",
              "    <div class=\"colab-df-container\">\n",
              "      <div>\n",
              "<style scoped>\n",
              "    .dataframe tbody tr th:only-of-type {\n",
              "        vertical-align: middle;\n",
              "    }\n",
              "\n",
              "    .dataframe tbody tr th {\n",
              "        vertical-align: top;\n",
              "    }\n",
              "\n",
              "    .dataframe thead th {\n",
              "        text-align: right;\n",
              "    }\n",
              "</style>\n",
              "<table border=\"1\" class=\"dataframe\">\n",
              "  <thead>\n",
              "    <tr style=\"text-align: right;\">\n",
              "      <th></th>\n",
              "      <th>text</th>\n",
              "      <th>sentiment</th>\n",
              "    </tr>\n",
              "  </thead>\n",
              "  <tbody>\n",
              "    <tr>\n",
              "      <th>0</th>\n",
              "      <td>[celebrities, huge, meltdown, woke, little, me...</td>\n",
              "      <td>0</td>\n",
              "    </tr>\n",
              "    <tr>\n",
              "      <th>1</th>\n",
              "      <td>[hey, late, add, scene, new, little, mermaid, ...</td>\n",
              "      <td>1</td>\n",
              "    </tr>\n",
              "    <tr>\n",
              "      <th>2</th>\n",
              "      <td>[casting, work, shehe, needs, fired, doesnt, l...</td>\n",
              "      <td>0</td>\n",
              "    </tr>\n",
              "    <tr>\n",
              "      <th>3</th>\n",
              "      <td>[gf, keeps, bullying, thought, ursula, little,...</td>\n",
              "      <td>1</td>\n",
              "    </tr>\n",
              "    <tr>\n",
              "      <th>4</th>\n",
              "      <td>[um, make, movie, gabriella, instead, ariel, o...</td>\n",
              "      <td>1</td>\n",
              "    </tr>\n",
              "  </tbody>\n",
              "</table>\n",
              "</div>\n",
              "      <button class=\"colab-df-convert\" onclick=\"convertToInteractive('df-6c838170-a256-4a2a-a552-b021de5a2772')\"\n",
              "              title=\"Convert this dataframe to an interactive table.\"\n",
              "              style=\"display:none;\">\n",
              "        \n",
              "  <svg xmlns=\"http://www.w3.org/2000/svg\" height=\"24px\"viewBox=\"0 0 24 24\"\n",
              "       width=\"24px\">\n",
              "    <path d=\"M0 0h24v24H0V0z\" fill=\"none\"/>\n",
              "    <path d=\"M18.56 5.44l.94 2.06.94-2.06 2.06-.94-2.06-.94-.94-2.06-.94 2.06-2.06.94zm-11 1L8.5 8.5l.94-2.06 2.06-.94-2.06-.94L8.5 2.5l-.94 2.06-2.06.94zm10 10l.94 2.06.94-2.06 2.06-.94-2.06-.94-.94-2.06-.94 2.06-2.06.94z\"/><path d=\"M17.41 7.96l-1.37-1.37c-.4-.4-.92-.59-1.43-.59-.52 0-1.04.2-1.43.59L10.3 9.45l-7.72 7.72c-.78.78-.78 2.05 0 2.83L4 21.41c.39.39.9.59 1.41.59.51 0 1.02-.2 1.41-.59l7.78-7.78 2.81-2.81c.8-.78.8-2.07 0-2.86zM5.41 20L4 18.59l7.72-7.72 1.47 1.35L5.41 20z\"/>\n",
              "  </svg>\n",
              "      </button>\n",
              "      \n",
              "  <style>\n",
              "    .colab-df-container {\n",
              "      display:flex;\n",
              "      flex-wrap:wrap;\n",
              "      gap: 12px;\n",
              "    }\n",
              "\n",
              "    .colab-df-convert {\n",
              "      background-color: #E8F0FE;\n",
              "      border: none;\n",
              "      border-radius: 50%;\n",
              "      cursor: pointer;\n",
              "      display: none;\n",
              "      fill: #1967D2;\n",
              "      height: 32px;\n",
              "      padding: 0 0 0 0;\n",
              "      width: 32px;\n",
              "    }\n",
              "\n",
              "    .colab-df-convert:hover {\n",
              "      background-color: #E2EBFA;\n",
              "      box-shadow: 0px 1px 2px rgba(60, 64, 67, 0.3), 0px 1px 3px 1px rgba(60, 64, 67, 0.15);\n",
              "      fill: #174EA6;\n",
              "    }\n",
              "\n",
              "    [theme=dark] .colab-df-convert {\n",
              "      background-color: #3B4455;\n",
              "      fill: #D2E3FC;\n",
              "    }\n",
              "\n",
              "    [theme=dark] .colab-df-convert:hover {\n",
              "      background-color: #434B5C;\n",
              "      box-shadow: 0px 1px 3px 1px rgba(0, 0, 0, 0.15);\n",
              "      filter: drop-shadow(0px 1px 2px rgba(0, 0, 0, 0.3));\n",
              "      fill: #FFFFFF;\n",
              "    }\n",
              "  </style>\n",
              "\n",
              "      <script>\n",
              "        const buttonEl =\n",
              "          document.querySelector('#df-6c838170-a256-4a2a-a552-b021de5a2772 button.colab-df-convert');\n",
              "        buttonEl.style.display =\n",
              "          google.colab.kernel.accessAllowed ? 'block' : 'none';\n",
              "\n",
              "        async function convertToInteractive(key) {\n",
              "          const element = document.querySelector('#df-6c838170-a256-4a2a-a552-b021de5a2772');\n",
              "          const dataTable =\n",
              "            await google.colab.kernel.invokeFunction('convertToInteractive',\n",
              "                                                     [key], {});\n",
              "          if (!dataTable) return;\n",
              "\n",
              "          const docLinkHtml = 'Like what you see? Visit the ' +\n",
              "            '<a target=\"_blank\" href=https://colab.research.google.com/notebooks/data_table.ipynb>data table notebook</a>'\n",
              "            + ' to learn more about interactive tables.';\n",
              "          element.innerHTML = '';\n",
              "          dataTable['output_type'] = 'display_data';\n",
              "          await google.colab.output.renderOutput(dataTable, element);\n",
              "          const docLink = document.createElement('div');\n",
              "          docLink.innerHTML = docLinkHtml;\n",
              "          element.appendChild(docLink);\n",
              "        }\n",
              "      </script>\n",
              "    </div>\n",
              "  </div>\n",
              "  "
            ]
          },
          "metadata": {},
          "execution_count": 318
        }
      ],
      "source": [
        "stopwords = stopwords.words('english')\n",
        "stopwords = list(set(stopwords)) \n",
        "\n",
        "\n",
        "# Remove the stop words\n",
        "def remove_stopwords(words):\n",
        "    \"\"\"Remove stop words from list of tokenized words\"\"\"\n",
        "    new_words = []\n",
        "    for word in words:\n",
        "        if word not in stopwords:\n",
        "            new_words.append(word)\n",
        "    return new_words\n",
        "\n",
        "dataset['text']=dataset['text'].apply(lambda x: remove_stopwords(x))\n",
        "dataset.head()"
      ]
    },
    {
      "cell_type": "markdown",
      "metadata": {
        "id": "cNSlHxFbfCmf"
      },
      "source": [
        "#### Lemmatize\n",
        "\n",
        "In this step, lemmatization will group different inflected forms of words into the root form, maintaining the same meaning."
      ]
    },
    {
      "cell_type": "code",
      "execution_count": 319,
      "metadata": {
        "colab": {
          "base_uri": "https://localhost:8080/"
        },
        "id": "2POi4IyPfAMv",
        "outputId": "f611a0d2-c87d-4af1-c2f0-2df45c3bfbc7"
      },
      "outputs": [
        {
          "output_type": "stream",
          "name": "stderr",
          "text": [
            "[nltk_data] Downloading package omw-1.4 to /root/nltk_data...\n",
            "[nltk_data]   Package omw-1.4 is already up-to-date!\n"
          ]
        },
        {
          "output_type": "execute_result",
          "data": {
            "text/plain": [
              "True"
            ]
          },
          "metadata": {},
          "execution_count": 319
        }
      ],
      "source": [
        "import nltk\n",
        "nltk.download('omw-1.4')"
      ]
    },
    {
      "cell_type": "code",
      "execution_count": 320,
      "metadata": {
        "colab": {
          "base_uri": "https://localhost:8080/",
          "height": 206
        },
        "id": "SM3HPWMafFmt",
        "outputId": "773b0412-681e-4b5a-ed9a-302f545822af"
      },
      "outputs": [
        {
          "output_type": "execute_result",
          "data": {
            "text/plain": [
              "                                                text  sentiment\n",
              "0  [celebrities, huge, meltdown, wake, little, me...          0\n",
              "1  [hey, late, add, scene, new, little, mermaid, ...          1\n",
              "2  [cast, work, shehe, need, fire, doesnt, look, ...          0\n",
              "3  [gf, keep, bully, think, ursula, little, merma...          1\n",
              "4  [um, make, movie, gabriella, instead, ariel, o...          1"
            ],
            "text/html": [
              "\n",
              "  <div id=\"df-570d8c44-095d-4500-8f71-798819e66497\">\n",
              "    <div class=\"colab-df-container\">\n",
              "      <div>\n",
              "<style scoped>\n",
              "    .dataframe tbody tr th:only-of-type {\n",
              "        vertical-align: middle;\n",
              "    }\n",
              "\n",
              "    .dataframe tbody tr th {\n",
              "        vertical-align: top;\n",
              "    }\n",
              "\n",
              "    .dataframe thead th {\n",
              "        text-align: right;\n",
              "    }\n",
              "</style>\n",
              "<table border=\"1\" class=\"dataframe\">\n",
              "  <thead>\n",
              "    <tr style=\"text-align: right;\">\n",
              "      <th></th>\n",
              "      <th>text</th>\n",
              "      <th>sentiment</th>\n",
              "    </tr>\n",
              "  </thead>\n",
              "  <tbody>\n",
              "    <tr>\n",
              "      <th>0</th>\n",
              "      <td>[celebrities, huge, meltdown, wake, little, me...</td>\n",
              "      <td>0</td>\n",
              "    </tr>\n",
              "    <tr>\n",
              "      <th>1</th>\n",
              "      <td>[hey, late, add, scene, new, little, mermaid, ...</td>\n",
              "      <td>1</td>\n",
              "    </tr>\n",
              "    <tr>\n",
              "      <th>2</th>\n",
              "      <td>[cast, work, shehe, need, fire, doesnt, look, ...</td>\n",
              "      <td>0</td>\n",
              "    </tr>\n",
              "    <tr>\n",
              "      <th>3</th>\n",
              "      <td>[gf, keep, bully, think, ursula, little, merma...</td>\n",
              "      <td>1</td>\n",
              "    </tr>\n",
              "    <tr>\n",
              "      <th>4</th>\n",
              "      <td>[um, make, movie, gabriella, instead, ariel, o...</td>\n",
              "      <td>1</td>\n",
              "    </tr>\n",
              "  </tbody>\n",
              "</table>\n",
              "</div>\n",
              "      <button class=\"colab-df-convert\" onclick=\"convertToInteractive('df-570d8c44-095d-4500-8f71-798819e66497')\"\n",
              "              title=\"Convert this dataframe to an interactive table.\"\n",
              "              style=\"display:none;\">\n",
              "        \n",
              "  <svg xmlns=\"http://www.w3.org/2000/svg\" height=\"24px\"viewBox=\"0 0 24 24\"\n",
              "       width=\"24px\">\n",
              "    <path d=\"M0 0h24v24H0V0z\" fill=\"none\"/>\n",
              "    <path d=\"M18.56 5.44l.94 2.06.94-2.06 2.06-.94-2.06-.94-.94-2.06-.94 2.06-2.06.94zm-11 1L8.5 8.5l.94-2.06 2.06-.94-2.06-.94L8.5 2.5l-.94 2.06-2.06.94zm10 10l.94 2.06.94-2.06 2.06-.94-2.06-.94-.94-2.06-.94 2.06-2.06.94z\"/><path d=\"M17.41 7.96l-1.37-1.37c-.4-.4-.92-.59-1.43-.59-.52 0-1.04.2-1.43.59L10.3 9.45l-7.72 7.72c-.78.78-.78 2.05 0 2.83L4 21.41c.39.39.9.59 1.41.59.51 0 1.02-.2 1.41-.59l7.78-7.78 2.81-2.81c.8-.78.8-2.07 0-2.86zM5.41 20L4 18.59l7.72-7.72 1.47 1.35L5.41 20z\"/>\n",
              "  </svg>\n",
              "      </button>\n",
              "      \n",
              "  <style>\n",
              "    .colab-df-container {\n",
              "      display:flex;\n",
              "      flex-wrap:wrap;\n",
              "      gap: 12px;\n",
              "    }\n",
              "\n",
              "    .colab-df-convert {\n",
              "      background-color: #E8F0FE;\n",
              "      border: none;\n",
              "      border-radius: 50%;\n",
              "      cursor: pointer;\n",
              "      display: none;\n",
              "      fill: #1967D2;\n",
              "      height: 32px;\n",
              "      padding: 0 0 0 0;\n",
              "      width: 32px;\n",
              "    }\n",
              "\n",
              "    .colab-df-convert:hover {\n",
              "      background-color: #E2EBFA;\n",
              "      box-shadow: 0px 1px 2px rgba(60, 64, 67, 0.3), 0px 1px 3px 1px rgba(60, 64, 67, 0.15);\n",
              "      fill: #174EA6;\n",
              "    }\n",
              "\n",
              "    [theme=dark] .colab-df-convert {\n",
              "      background-color: #3B4455;\n",
              "      fill: #D2E3FC;\n",
              "    }\n",
              "\n",
              "    [theme=dark] .colab-df-convert:hover {\n",
              "      background-color: #434B5C;\n",
              "      box-shadow: 0px 1px 3px 1px rgba(0, 0, 0, 0.15);\n",
              "      filter: drop-shadow(0px 1px 2px rgba(0, 0, 0, 0.3));\n",
              "      fill: #FFFFFF;\n",
              "    }\n",
              "  </style>\n",
              "\n",
              "      <script>\n",
              "        const buttonEl =\n",
              "          document.querySelector('#df-570d8c44-095d-4500-8f71-798819e66497 button.colab-df-convert');\n",
              "        buttonEl.style.display =\n",
              "          google.colab.kernel.accessAllowed ? 'block' : 'none';\n",
              "\n",
              "        async function convertToInteractive(key) {\n",
              "          const element = document.querySelector('#df-570d8c44-095d-4500-8f71-798819e66497');\n",
              "          const dataTable =\n",
              "            await google.colab.kernel.invokeFunction('convertToInteractive',\n",
              "                                                     [key], {});\n",
              "          if (!dataTable) return;\n",
              "\n",
              "          const docLinkHtml = 'Like what you see? Visit the ' +\n",
              "            '<a target=\"_blank\" href=https://colab.research.google.com/notebooks/data_table.ipynb>data table notebook</a>'\n",
              "            + ' to learn more about interactive tables.';\n",
              "          element.innerHTML = '';\n",
              "          dataTable['output_type'] = 'display_data';\n",
              "          await google.colab.output.renderOutput(dataTable, element);\n",
              "          const docLink = document.createElement('div');\n",
              "          docLink.innerHTML = docLinkHtml;\n",
              "          element.appendChild(docLink);\n",
              "        }\n",
              "      </script>\n",
              "    </div>\n",
              "  </div>\n",
              "  "
            ]
          },
          "metadata": {},
          "execution_count": 320
        }
      ],
      "source": [
        "lemmatizer = WordNetLemmatizer()\n",
        "# lemmatize the words\n",
        "def lemmatize_list(words):\n",
        "    new_words = []\n",
        "    for word in words:\n",
        "        new_words.append(lemmatizer.lemmatize(word, pos='v'))\n",
        "    return new_words\n",
        "\n",
        "dataset['text']=dataset['text'].apply(lambda x: lemmatize_list(x))\n",
        "dataset.head()"
      ]
    },
    {
      "cell_type": "markdown",
      "metadata": {
        "id": "LHNIFAF2fNHO"
      },
      "source": [
        "Now I will normalize the text and take one last look at the first 5 rows.\n"
      ]
    },
    {
      "cell_type": "code",
      "execution_count": 321,
      "metadata": {
        "colab": {
          "base_uri": "https://localhost:8080/",
          "height": 206
        },
        "id": "X_nCj67zfIVz",
        "outputId": "eb76409a-e060-4bd9-c768-bc08dc6ad32d"
      },
      "outputs": [
        {
          "output_type": "execute_result",
          "data": {
            "text/plain": [
              "                                                text  sentiment\n",
              "0  celebrities huge meltdown wake little mermaid ...          0\n",
              "1  hey late add scene new little mermaid ariel pl...          1\n",
              "2  cast work shehe need fire doesnt look like lit...          0\n",
              "3  gf keep bully think ursula little mermaid hot ...          1\n",
              "4  um make movie gabriella instead ariel official...          1"
            ],
            "text/html": [
              "\n",
              "  <div id=\"df-7616a36f-1c25-4256-b5fb-8509e691bcbd\">\n",
              "    <div class=\"colab-df-container\">\n",
              "      <div>\n",
              "<style scoped>\n",
              "    .dataframe tbody tr th:only-of-type {\n",
              "        vertical-align: middle;\n",
              "    }\n",
              "\n",
              "    .dataframe tbody tr th {\n",
              "        vertical-align: top;\n",
              "    }\n",
              "\n",
              "    .dataframe thead th {\n",
              "        text-align: right;\n",
              "    }\n",
              "</style>\n",
              "<table border=\"1\" class=\"dataframe\">\n",
              "  <thead>\n",
              "    <tr style=\"text-align: right;\">\n",
              "      <th></th>\n",
              "      <th>text</th>\n",
              "      <th>sentiment</th>\n",
              "    </tr>\n",
              "  </thead>\n",
              "  <tbody>\n",
              "    <tr>\n",
              "      <th>0</th>\n",
              "      <td>celebrities huge meltdown wake little mermaid ...</td>\n",
              "      <td>0</td>\n",
              "    </tr>\n",
              "    <tr>\n",
              "      <th>1</th>\n",
              "      <td>hey late add scene new little mermaid ariel pl...</td>\n",
              "      <td>1</td>\n",
              "    </tr>\n",
              "    <tr>\n",
              "      <th>2</th>\n",
              "      <td>cast work shehe need fire doesnt look like lit...</td>\n",
              "      <td>0</td>\n",
              "    </tr>\n",
              "    <tr>\n",
              "      <th>3</th>\n",
              "      <td>gf keep bully think ursula little mermaid hot ...</td>\n",
              "      <td>1</td>\n",
              "    </tr>\n",
              "    <tr>\n",
              "      <th>4</th>\n",
              "      <td>um make movie gabriella instead ariel official...</td>\n",
              "      <td>1</td>\n",
              "    </tr>\n",
              "  </tbody>\n",
              "</table>\n",
              "</div>\n",
              "      <button class=\"colab-df-convert\" onclick=\"convertToInteractive('df-7616a36f-1c25-4256-b5fb-8509e691bcbd')\"\n",
              "              title=\"Convert this dataframe to an interactive table.\"\n",
              "              style=\"display:none;\">\n",
              "        \n",
              "  <svg xmlns=\"http://www.w3.org/2000/svg\" height=\"24px\"viewBox=\"0 0 24 24\"\n",
              "       width=\"24px\">\n",
              "    <path d=\"M0 0h24v24H0V0z\" fill=\"none\"/>\n",
              "    <path d=\"M18.56 5.44l.94 2.06.94-2.06 2.06-.94-2.06-.94-.94-2.06-.94 2.06-2.06.94zm-11 1L8.5 8.5l.94-2.06 2.06-.94-2.06-.94L8.5 2.5l-.94 2.06-2.06.94zm10 10l.94 2.06.94-2.06 2.06-.94-2.06-.94-.94-2.06-.94 2.06-2.06.94z\"/><path d=\"M17.41 7.96l-1.37-1.37c-.4-.4-.92-.59-1.43-.59-.52 0-1.04.2-1.43.59L10.3 9.45l-7.72 7.72c-.78.78-.78 2.05 0 2.83L4 21.41c.39.39.9.59 1.41.59.51 0 1.02-.2 1.41-.59l7.78-7.78 2.81-2.81c.8-.78.8-2.07 0-2.86zM5.41 20L4 18.59l7.72-7.72 1.47 1.35L5.41 20z\"/>\n",
              "  </svg>\n",
              "      </button>\n",
              "      \n",
              "  <style>\n",
              "    .colab-df-container {\n",
              "      display:flex;\n",
              "      flex-wrap:wrap;\n",
              "      gap: 12px;\n",
              "    }\n",
              "\n",
              "    .colab-df-convert {\n",
              "      background-color: #E8F0FE;\n",
              "      border: none;\n",
              "      border-radius: 50%;\n",
              "      cursor: pointer;\n",
              "      display: none;\n",
              "      fill: #1967D2;\n",
              "      height: 32px;\n",
              "      padding: 0 0 0 0;\n",
              "      width: 32px;\n",
              "    }\n",
              "\n",
              "    .colab-df-convert:hover {\n",
              "      background-color: #E2EBFA;\n",
              "      box-shadow: 0px 1px 2px rgba(60, 64, 67, 0.3), 0px 1px 3px 1px rgba(60, 64, 67, 0.15);\n",
              "      fill: #174EA6;\n",
              "    }\n",
              "\n",
              "    [theme=dark] .colab-df-convert {\n",
              "      background-color: #3B4455;\n",
              "      fill: #D2E3FC;\n",
              "    }\n",
              "\n",
              "    [theme=dark] .colab-df-convert:hover {\n",
              "      background-color: #434B5C;\n",
              "      box-shadow: 0px 1px 3px 1px rgba(0, 0, 0, 0.15);\n",
              "      filter: drop-shadow(0px 1px 2px rgba(0, 0, 0, 0.3));\n",
              "      fill: #FFFFFF;\n",
              "    }\n",
              "  </style>\n",
              "\n",
              "      <script>\n",
              "        const buttonEl =\n",
              "          document.querySelector('#df-7616a36f-1c25-4256-b5fb-8509e691bcbd button.colab-df-convert');\n",
              "        buttonEl.style.display =\n",
              "          google.colab.kernel.accessAllowed ? 'block' : 'none';\n",
              "\n",
              "        async function convertToInteractive(key) {\n",
              "          const element = document.querySelector('#df-7616a36f-1c25-4256-b5fb-8509e691bcbd');\n",
              "          const dataTable =\n",
              "            await google.colab.kernel.invokeFunction('convertToInteractive',\n",
              "                                                     [key], {});\n",
              "          if (!dataTable) return;\n",
              "\n",
              "          const docLinkHtml = 'Like what you see? Visit the ' +\n",
              "            '<a target=\"_blank\" href=https://colab.research.google.com/notebooks/data_table.ipynb>data table notebook</a>'\n",
              "            + ' to learn more about interactive tables.';\n",
              "          element.innerHTML = '';\n",
              "          dataTable['output_type'] = 'display_data';\n",
              "          await google.colab.output.renderOutput(dataTable, element);\n",
              "          const docLink = document.createElement('div');\n",
              "          docLink.innerHTML = docLinkHtml;\n",
              "          element.appendChild(docLink);\n",
              "        }\n",
              "      </script>\n",
              "    </div>\n",
              "  </div>\n",
              "  "
            ]
          },
          "metadata": {},
          "execution_count": 321
        }
      ],
      "source": [
        "def normalize(words):\n",
        "    return ' '.join(words) #take the words out of the list and use space as a delimiter\n",
        "dataset['text']=dataset['text'].apply(lambda x: normalize(x))\n",
        "dataset.head()"
      ]
    },
    {
      "cell_type": "markdown",
      "metadata": {
        "id": "99e32JckfTYT"
      },
      "source": [
        "### Bag of Words"
      ]
    },
    {
      "cell_type": "markdown",
      "metadata": {
        "id": "l_jxcwO1fe3V"
      },
      "source": [
        "In BoW, we construct a dictionary that contains the set of all unique words from our text review dataset. The frequency of the word is counted here. If there are d unique words in our dictionary then for every review the vector will be of length d and count of word from reviews is stored at its particular location in vector. The vector will be highly sparse in such cases."
      ]
    },
    {
      "cell_type": "code",
      "execution_count": 322,
      "metadata": {
        "id": "vIwNMqNmfPe-"
      },
      "outputs": [],
      "source": [
        "from sklearn.feature_extraction.text import CountVectorizer\n",
        "from sklearn.feature_extraction.text import TfidfVectorizer\n",
        "\n",
        "from sklearn.model_selection import train_test_split\n",
        "from sklearn.ensemble import RandomForestClassifier       # Import Random forest Classifier\n",
        "from sklearn.metrics import classification_report         # Import Classification report\n",
        "from sklearn.model_selection import cross_val_score\n",
        "from sklearn.metrics import accuracy_score\n",
        "from sklearn.metrics import confusion_matrix\n",
        "from sklearn.model_selection import GridSearchCV"
      ]
    },
    {
      "cell_type": "code",
      "execution_count": 323,
      "metadata": {
        "id": "lJrAaaHFfh5d"
      },
      "outputs": [],
      "source": [
        "# Vectorization (Convert text data to numbers).\n",
        "\n",
        "\n",
        "Count_vec = CountVectorizer(max_features=1000)        # Keep only 1000 features as number of features will increase the processing time.\n",
        "data_features = Count_vec.fit_transform(dataset['text'])\n",
        "\n",
        "data_features = data_features.toarray()                # Convert the data features to array."
      ]
    },
    {
      "cell_type": "code",
      "execution_count": 324,
      "metadata": {
        "colab": {
          "base_uri": "https://localhost:8080/"
        },
        "id": "8AVhtGWpfkBo",
        "outputId": "6cb036ed-70e8-4caf-ea45-3ec687014467"
      },
      "outputs": [
        {
          "output_type": "execute_result",
          "data": {
            "text/plain": [
              "(7558, 1000)"
            ]
          },
          "metadata": {},
          "execution_count": 324
        }
      ],
      "source": [
        "data_features.shape"
      ]
    },
    {
      "cell_type": "markdown",
      "metadata": {
        "id": "PcLSkG8hfwXy"
      },
      "source": [
        "### Splitting into training and testing set"
      ]
    },
    {
      "cell_type": "code",
      "execution_count": 325,
      "metadata": {
        "id": "q5-HwdU8fmv1"
      },
      "outputs": [],
      "source": [
        "X = data_features\n",
        "\n",
        "y = dataset['sentiment']"
      ]
    },
    {
      "cell_type": "code",
      "execution_count": 326,
      "metadata": {
        "id": "dQnOXLsYfqMC"
      },
      "outputs": [],
      "source": [
        "X_train, X_test, y_train, y_test = train_test_split(X, y, test_size=0.2, random_state=42)"
      ]
    },
    {
      "cell_type": "code",
      "execution_count": 327,
      "metadata": {
        "colab": {
          "base_uri": "https://localhost:8080/"
        },
        "id": "UNDpjSizfsJO",
        "outputId": "83b3aafd-d78f-4db5-bb3c-dc0460649c19"
      },
      "outputs": [
        {
          "output_type": "stream",
          "name": "stdout",
          "text": [
            "Size of x_train: (6046, 1000)\n",
            "Size of y_train: (6046,)\n",
            "Size of x_test: (1512, 1000)\n",
            "Size of y_test: (1512,)\n"
          ]
        }
      ],
      "source": [
        "print(\"Size of x_train:\", (X_train.shape))\n",
        "print(\"Size of y_train:\", (y_train.shape))\n",
        "print(\"Size of x_test:\", (X_test.shape))\n",
        "print(\"Size of y_test:\", (y_test.shape))"
      ]
    },
    {
      "cell_type": "markdown",
      "metadata": {
        "id": "OU24ej-sF_ds"
      },
      "source": [
        "### Addressing the imbalance issue\n",
        "\n",
        "The plot below indicates that we have pretty imbalanced data, where one of the categories represents more than half of the data.\n",
        "\n",
        "For ML algorithms, imbalanced data can be a problem. For this reason, I will run my code using my original dataset (after preprocessing; that is, imbalanced), with random oversampling, and with random undersampling."
      ]
    },
    {
      "cell_type": "code",
      "execution_count": 328,
      "metadata": {
        "colab": {
          "base_uri": "https://localhost:8080/",
          "height": 265
        },
        "id": "Nrn7rcH2FMj8",
        "outputId": "18d1c948-4b5a-4843-9e44-aaf2b2efe0d7"
      },
      "outputs": [
        {
          "output_type": "execute_result",
          "data": {
            "text/plain": [
              "<matplotlib.axes._subplots.AxesSubplot at 0x7f069c763160>"
            ]
          },
          "metadata": {},
          "execution_count": 328
        },
        {
          "output_type": "display_data",
          "data": {
            "text/plain": [
              "<Figure size 432x288 with 1 Axes>"
            ],
            "image/png": "[encoded data removed]"
          },
          "metadata": {}
        }
      ],
      "source": [
        "%matplotlib inline\n",
        "dataset.sentiment.value_counts().plot.pie(autopct='%.2f')"
      ]
    },
    {
      "cell_type": "code",
      "execution_count": 329,
      "metadata": {
        "id": "KPEUfXF8JBf6"
      },
      "outputs": [],
      "source": [
        "!pip install imbalanced-learn"
      ]
    },
    {
      "cell_type": "code",
      "execution_count": 330,
      "metadata": {
        "colab": {
          "base_uri": "https://localhost:8080/",
          "height": 265
        },
        "id": "7wqrQlNHsKrP",
        "outputId": "6a7199df-dcda-4317-974b-1e940be19d69"
      },
      "outputs": [
        {
          "output_type": "execute_result",
          "data": {
            "text/plain": [
              "<matplotlib.axes._subplots.AxesSubplot at 0x7f069d2c56d0>"
            ]
          },
          "metadata": {},
          "execution_count": 330
        },
        {
          "output_type": "display_data",
          "data": {
            "text/plain": [
              "<Figure size 432x288 with 1 Axes>"
            ],
            "image/png": "[encoded data removed]"
          },
          "metadata": {}
        }
      ],
      "source": [
        "# Pie chart of the training set\n",
        "y_train.value_counts().plot.pie(autopct='%.2f')"
      ]
    },
    {
      "cell_type": "code",
      "execution_count": 331,
      "metadata": {
        "colab": {
          "base_uri": "https://localhost:8080/"
        },
        "id": "IMxrdC0vsV1z",
        "outputId": "7fc91586-f36c-4966-dab5-4dc8e08e152a"
      },
      "outputs": [
        {
          "output_type": "execute_result",
          "data": {
            "text/plain": [
              "2    3677\n",
              "0    1535\n",
              "1     834\n",
              "Name: sentiment, dtype: int64"
            ]
          },
          "metadata": {},
          "execution_count": 331
        }
      ],
      "source": [
        "y_train.value_counts()"
      ]
    },
    {
      "cell_type": "markdown",
      "metadata": {
        "id": "XWJL92XwsfBy"
      },
      "source": [
        "#### Class Balancing: Random Oversampling"
      ]
    },
    {
      "cell_type": "code",
      "execution_count": 332,
      "metadata": {
        "id": "fo6eMjACJMJd"
      },
      "outputs": [],
      "source": [
        "from imblearn.over_sampling import RandomOverSampler"
      ]
    },
    {
      "cell_type": "code",
      "execution_count": 333,
      "metadata": {
        "colab": {
          "base_uri": "https://localhost:8080/",
          "height": 264
        },
        "id": "WTTarI_etQtE",
        "outputId": "e2e60700-ae2b-4deb-ac23-1b053a41aa38"
      },
      "outputs": [
        {
          "output_type": "display_data",
          "data": {
            "text/plain": [
              "<Figure size 432x288 with 1 Axes>"
            ],
            "image/png": "[encoded data removed]"
          },
          "metadata": {}
        }
      ],
      "source": [
        "# Creating an object for random oversampling and splitting into training and testing set\n",
        "ros = RandomOverSampler(sampling_strategy=\"not majority\")\n",
        "X_train_ros, y_train_ros = ros.fit_resample(X_train, y_train)\n",
        "\n",
        "ax = y_train_ros.value_counts().plot.pie(autopct='%.2f')\n",
        "_ = ax.set_title(\"Over-sampling\")"
      ]
    },
    {
      "cell_type": "code",
      "execution_count": 334,
      "metadata": {
        "colab": {
          "base_uri": "https://localhost:8080/"
        },
        "id": "Xkm9zfQSvvXj",
        "outputId": "e491e5a7-60ac-4add-9f76-76ef49f96714"
      },
      "outputs": [
        {
          "output_type": "execute_result",
          "data": {
            "text/plain": [
              "0    3677\n",
              "2    3677\n",
              "1    3677\n",
              "Name: sentiment, dtype: int64"
            ]
          },
          "metadata": {},
          "execution_count": 334
        }
      ],
      "source": [
        "#Now all my classes are oversampled (ros)\n",
        "y_train_ros.value_counts()"
      ]
    },
    {
      "cell_type": "markdown",
      "metadata": {
        "id": "qqk4T1kfzZKm"
      },
      "source": [
        "#### Class Balancing: Random Undersampling"
      ]
    },
    {
      "cell_type": "code",
      "execution_count": 335,
      "metadata": {
        "id": "c6vP1l0vzh3Y"
      },
      "outputs": [],
      "source": [
        "from imblearn.under_sampling import RandomUnderSampler"
      ]
    },
    {
      "cell_type": "code",
      "execution_count": 336,
      "metadata": {
        "colab": {
          "base_uri": "https://localhost:8080/",
          "height": 264
        },
        "id": "5Wzodh0jzsxy",
        "outputId": "d5efac7a-5f5e-40a3-cfe1-aeb31acb1383"
      },
      "outputs": [
        {
          "output_type": "display_data",
          "data": {
            "text/plain": [
              "<Figure size 432x288 with 1 Axes>"
            ],
            "image/png": "[encoded data removed]"
          },
          "metadata": {}
        }
      ],
      "source": [
        "# Creating an object for random undersampling and splitting into training and testing set\n",
        "rus = RandomUnderSampler(sampling_strategy=\"not minority\")\n",
        "X_train_rus, y_train_rus = rus.fit_resample(X_train, y_train)\n",
        "\n",
        "ax = y_train_rus.value_counts().plot.pie(autopct='%.2f')\n",
        "_ = ax.set_title(\"Under-sampling\")"
      ]
    },
    {
      "cell_type": "code",
      "execution_count": 337,
      "metadata": {
        "colab": {
          "base_uri": "https://localhost:8080/"
        },
        "id": "YSP8hiOrzx6v",
        "outputId": "ad57c21a-0cd9-4aaa-82f7-da832953fa9d"
      },
      "outputs": [
        {
          "output_type": "execute_result",
          "data": {
            "text/plain": [
              "0    834\n",
              "1    834\n",
              "2    834\n",
              "Name: sentiment, dtype: int64"
            ]
          },
          "metadata": {},
          "execution_count": 337
        }
      ],
      "source": [
        "# #Now all my classes are undersampled (rus)\n",
        "y_train_rus.value_counts()"
      ]
    },
    {
      "cell_type": "markdown",
      "metadata": {
        "id": "HvWzJ2bThBGP"
      },
      "source": [
        "### Classification without balanced class"
      ]
    },
    {
      "cell_type": "markdown",
      "metadata": {
        "id": "RnXbPx5uhKNt"
      },
      "source": [
        "#### Logistic Regression"
      ]
    },
    {
      "cell_type": "code",
      "execution_count": 338,
      "metadata": {
        "id": "ypqSxwiPg5AT"
      },
      "outputs": [],
      "source": [
        "from sklearn.linear_model import LogisticRegression\n",
        "from sklearn.metrics import accuracy_score, classification_report, confusion_matrix, ConfusionMatrixDisplay\n",
        "import warnings\n",
        "warnings.filterwarnings('ignore')"
      ]
    },
    {
      "cell_type": "code",
      "execution_count": 339,
      "metadata": {
        "colab": {
          "base_uri": "https://localhost:8080/"
        },
        "id": "0ptei4L0hQdC",
        "outputId": "e481cb3a-2898-4502-ef77-bb7dc6998863"
      },
      "outputs": [
        {
          "output_type": "execute_result",
          "data": {
            "text/plain": [
              "LogisticRegression()"
            ]
          },
          "metadata": {},
          "execution_count": 339
        }
      ],
      "source": [
        "logreg = LogisticRegression()\n",
        "logreg.fit(X_train, y_train)"
      ]
    },
    {
      "cell_type": "code",
      "execution_count": 340,
      "metadata": {
        "colab": {
          "base_uri": "https://localhost:8080/"
        },
        "id": "XQ6ggov_hST-",
        "outputId": "469a70b1-618f-4e81-faa3-56df02c7d34e"
      },
      "outputs": [
        {
          "output_type": "stream",
          "name": "stdout",
          "text": [
            "0.6937830687830688\n"
          ]
        }
      ],
      "source": [
        "logreg_pred = logreg.predict(X_test)\n",
        "logreg_acc = accuracy_score(logreg_pred, y_test)\n",
        "print(logreg_acc)"
      ]
    },
    {
      "cell_type": "code",
      "execution_count": 341,
      "metadata": {
        "colab": {
          "base_uri": "https://localhost:8080/"
        },
        "id": "uNHdA1hChVCV",
        "outputId": "08cd873b-9f79-4394-cf87-888076c90ea1"
      },
      "outputs": [
        {
          "output_type": "stream",
          "name": "stdout",
          "text": [
            "[[190  17 206]\n",
            " [  9  67  89]\n",
            " [ 95  47 792]]\n",
            "\n",
            "\n",
            "              precision    recall  f1-score   support\n",
            "\n",
            "           0       0.65      0.46      0.54       413\n",
            "           1       0.51      0.41      0.45       165\n",
            "           2       0.73      0.85      0.78       934\n",
            "\n",
            "    accuracy                           0.69      1512\n",
            "   macro avg       0.63      0.57      0.59      1512\n",
            "weighted avg       0.68      0.69      0.68      1512\n",
            "\n"
          ]
        }
      ],
      "source": [
        "print(confusion_matrix(y_test,logreg_pred))\n",
        "print(\"\\n\")\n",
        "print(classification_report(y_test,logreg_pred))"
      ]
    },
    {
      "cell_type": "markdown",
      "metadata": {
        "id": "tTjKPkMXh4fk"
      },
      "source": [
        "#### Naive Bayes"
      ]
    },
    {
      "cell_type": "code",
      "execution_count": 342,
      "metadata": {
        "id": "L5s1afWFhrMN"
      },
      "outputs": [],
      "source": [
        "from sklearn.naive_bayes import MultinomialNB\n",
        "from sklearn.naive_bayes import GaussianNB\n",
        "from sklearn.naive_bayes import BernoulliNB"
      ]
    },
    {
      "cell_type": "code",
      "execution_count": 343,
      "metadata": {
        "colab": {
          "base_uri": "https://localhost:8080/"
        },
        "id": "2u3xahY-h-kW",
        "outputId": "81240aad-34d2-4bf2-9f4d-ba6870701264"
      },
      "outputs": [
        {
          "output_type": "execute_result",
          "data": {
            "text/plain": [
              "BernoulliNB()"
            ]
          },
          "metadata": {},
          "execution_count": 343
        }
      ],
      "source": [
        "nbm,nbg,nbb = MultinomialNB(alpha=1.0,fit_prior=True), GaussianNB(), BernoulliNB(alpha=1.0,fit_prior=True)\n",
        "nbm.fit(X_train, y_train)\n",
        "nbg.fit(X_train, y_train)\n",
        "nbb.fit(X_train, y_train)"
      ]
    },
    {
      "cell_type": "code",
      "execution_count": 344,
      "metadata": {
        "id": "Sj7JTIWQiBin"
      },
      "outputs": [],
      "source": [
        "ypm = nbm.predict(X_test)\n",
        "ypg = nbg.predict(X_test)\n",
        "ypb = nbb.predict(X_test)"
      ]
    },
    {
      "cell_type": "code",
      "execution_count": 345,
      "metadata": {
        "colab": {
          "base_uri": "https://localhost:8080/"
        },
        "id": "crYfg306iErR",
        "outputId": "c2e6c5df-7f8c-4ab4-fb3a-7b39f990efa6"
      },
      "outputs": [
        {
          "output_type": "stream",
          "name": "stdout",
          "text": [
            "Multinomial: 0.6646825396825397\n",
            "Gaussian: 0.31283068783068785\n",
            "Bernoulli: 0.6587301587301587\n"
          ]
        }
      ],
      "source": [
        "print(\"Multinomial:\", accuracy_score(y_test, ypm))\n",
        "print(\"Gaussian:\", accuracy_score(y_test, ypg))\n",
        "print(\"Bernoulli:\", accuracy_score(y_test, ypb))"
      ]
    },
    {
      "cell_type": "code",
      "source": [
        "print(confusion_matrix(y_test,ypm))\n",
        "print(\"\\n\")\n",
        "print(classification_report(y_test,ypm))"
      ],
      "metadata": {
        "colab": {
          "base_uri": "https://localhost:8080/"
        },
        "id": "GYx1ZZXFoKiH",
        "outputId": "eb12928d-205b-4763-c3d9-496107d803ff"
      },
      "execution_count": 346,
      "outputs": [
        {
          "output_type": "stream",
          "name": "stdout",
          "text": [
            "[[205  27 181]\n",
            " [  8  79  78]\n",
            " [138  75 721]]\n",
            "\n",
            "\n",
            "              precision    recall  f1-score   support\n",
            "\n",
            "           0       0.58      0.50      0.54       413\n",
            "           1       0.44      0.48      0.46       165\n",
            "           2       0.74      0.77      0.75       934\n",
            "\n",
            "    accuracy                           0.66      1512\n",
            "   macro avg       0.59      0.58      0.58      1512\n",
            "weighted avg       0.66      0.66      0.66      1512\n",
            "\n"
          ]
        }
      ]
    },
    {
      "cell_type": "markdown",
      "metadata": {
        "id": "8rEA0wJn6zbb"
      },
      "source": [
        "#### K-Neighbors Classifier"
      ]
    },
    {
      "cell_type": "code",
      "execution_count": 347,
      "metadata": {
        "id": "Q_XzfnXI6D-5"
      },
      "outputs": [],
      "source": [
        "from sklearn.neighbors import KNeighborsClassifier\n",
        "import time"
      ]
    },
    {
      "cell_type": "code",
      "execution_count": 348,
      "metadata": {
        "id": "V6omgZRR5uZX"
      },
      "outputs": [],
      "source": [
        "clf_knn = KNeighborsClassifier(n_neighbors = 5)\n",
        "ini_knn = time.time()\n",
        "clf_knn.fit(X_train, y_train)\n",
        "fim_knn = time.time()\n",
        "pred_knn = clf_knn.predict(X_test)\n",
        "pre_knn = time.time()\n",
        "treino_knn = fim_knn - ini_knn\n",
        "time_prev_knn = pre_knn - fim_knn"
      ]
    },
    {
      "cell_type": "code",
      "execution_count": 349,
      "metadata": {
        "colab": {
          "base_uri": "https://localhost:8080/"
        },
        "id": "sBQbOLAc6hDy",
        "outputId": "527df1f5-05a9-4314-834a-2b6431acbaeb"
      },
      "outputs": [
        {
          "output_type": "stream",
          "name": "stdout",
          "text": [
            "KNN: 0.45701058201058203\n",
            "[[ 78 141 194]\n",
            " [  4 108  53]\n",
            " [ 80 349 505]]\n"
          ]
        }
      ],
      "source": [
        "print(\"KNN:\", accuracy_score(y_test, pred_knn))\n",
        "\n",
        "print(confusion_matrix(y_test, pred_knn))"
      ]
    },
    {
      "cell_type": "code",
      "execution_count": 350,
      "metadata": {
        "colab": {
          "base_uri": "https://localhost:8080/"
        },
        "id": "sSs8cXL37lgR",
        "outputId": "9b6af8bd-9b03-4228-dfd2-c839b92809dd"
      },
      "outputs": [
        {
          "output_type": "stream",
          "name": "stdout",
          "text": [
            "              precision    recall  f1-score   support\n",
            "\n",
            "           0       0.48      0.19      0.27       413\n",
            "           1       0.18      0.65      0.28       165\n",
            "           2       0.67      0.54      0.60       934\n",
            "\n",
            "    accuracy                           0.46      1512\n",
            "   macro avg       0.44      0.46      0.38      1512\n",
            "weighted avg       0.57      0.46      0.48      1512\n",
            "\n"
          ]
        }
      ],
      "source": [
        "print(classification_report(y_test, pred_knn))"
      ]
    },
    {
      "cell_type": "markdown",
      "metadata": {
        "id": "7iHIPlO97s5W"
      },
      "source": [
        "#### Support Vector Machine (SVM)"
      ]
    },
    {
      "cell_type": "code",
      "execution_count": 351,
      "metadata": {
        "id": "ZO1Gvmdp7NZb"
      },
      "outputs": [],
      "source": [
        "from sklearn.svm import SVC\n",
        "clf_svm = SVC()\n",
        "ini_svm = time.time()\n",
        "clf_svm.fit(X_train, y_train)\n",
        "fim_svm = time.time()\n",
        "pred_svm = clf_svm.predict(X_test)\n",
        "pre_svm = time.time()\n",
        "treino_svm = fim_svm - ini_svm\n",
        "time_prev_svm = pre_svm - fim_svm"
      ]
    },
    {
      "cell_type": "code",
      "execution_count": 352,
      "metadata": {
        "colab": {
          "base_uri": "https://localhost:8080/"
        },
        "id": "Tpm4RMar8Ckf",
        "outputId": "daca41d2-b554-4aeb-feec-a5ac67b2f6be"
      },
      "outputs": [
        {
          "output_type": "stream",
          "name": "stdout",
          "text": [
            "SVM: 0.6884920634920635\n",
            "[[ 78 141 194]\n",
            " [  4 108  53]\n",
            " [ 80 349 505]]\n"
          ]
        }
      ],
      "source": [
        "print(\"SVM:\", accuracy_score(y_test, pred_svm))\n",
        "\n",
        "print(confusion_matrix(y_test, pred_knn))"
      ]
    },
    {
      "cell_type": "code",
      "execution_count": 353,
      "metadata": {
        "colab": {
          "base_uri": "https://localhost:8080/"
        },
        "id": "-069ShIt7zdM",
        "outputId": "e73b33f3-bd7c-4934-c1a2-bfbb39b20cf9"
      },
      "outputs": [
        {
          "output_type": "stream",
          "name": "stdout",
          "text": [
            "              precision    recall  f1-score   support\n",
            "\n",
            "           0       0.73      0.29      0.42       413\n",
            "           1       0.85      0.21      0.33       165\n",
            "           2       0.68      0.95      0.79       934\n",
            "\n",
            "    accuracy                           0.69      1512\n",
            "   macro avg       0.75      0.48      0.51      1512\n",
            "weighted avg       0.71      0.69      0.64      1512\n",
            "\n"
          ]
        }
      ],
      "source": [
        "print(classification_report(y_test, pred_svm))"
      ]
    },
    {
      "cell_type": "markdown",
      "metadata": {
        "id": "PAMse4tVgJbf"
      },
      "source": [
        "#### K-fold cross-validation\n",
        "\n",
        "Using k-fold cross-validation to determine an optimal number of base learners in a random forest classifier model that will recieve the count vectorizer matrix as input."
      ]
    },
    {
      "cell_type": "code",
      "execution_count": 354,
      "metadata": {
        "colab": {
          "base_uri": "https://localhost:8080/"
        },
        "id": "-uYKxlxSgADs",
        "outputId": "85f8fae9-a083-41a9-e875-80173fcd6c77"
      },
      "outputs": [
        {
          "output_type": "execute_result",
          "data": {
            "text/plain": [
              "[100, 200, 300]"
            ]
          },
          "metadata": {},
          "execution_count": 354
        }
      ],
      "source": [
        "# Finding optimal number of base learners\n",
        "base_ln = np.arange(100,400,100).tolist()\n",
        "base_ln"
      ]
    },
    {
      "cell_type": "code",
      "execution_count": 355,
      "metadata": {
        "id": "IKxBSmdCgTXb"
      },
      "outputs": [],
      "source": [
        "# K-Fold Cross-validation\n",
        "cv_scores = []\n",
        "for b in base_ln:\n",
        "    clf = RandomForestClassifier(n_estimators = b)\n",
        "    scores = cross_val_score(clf, X_train, y_train, cv = 5, scoring = 'accuracy')\n",
        "    cv_scores.append(scores.mean())"
      ]
    },
    {
      "cell_type": "code",
      "execution_count": 356,
      "metadata": {
        "colab": {
          "base_uri": "https://localhost:8080/",
          "height": 279
        },
        "id": "nvpVlEkygVti",
        "outputId": "9720ea29-5a6d-4173-b0de-fadccd9c8dfc"
      },
      "outputs": [
        {
          "output_type": "display_data",
          "data": {
            "text/plain": [
              "<Figure size 432x288 with 1 Axes>"
            ],
            "image/png": "[encoded data removed]"
          },
          "metadata": {
            "needs_background": "light"
          }
        }
      ],
      "source": [
        "# Plotting the error as k increases\n",
        "error = [1 - x for x in cv_scores]                                 #error corresponds to each nu of estimator\n",
        "optimal_learners = base_ln[error.index(min(error))]                #Selection of optimal nu of n_estimator corresponds to minimum error.\n",
        "plt.plot(base_ln, error)                                           #Plot between each nu of estimator and misclassification error\n",
        "xy = (optimal_learners, min(error))\n",
        "plt.annotate('(%s, %s)' % xy, xy = xy, textcoords='data')\n",
        "plt.xlabel(\"Number of base learners\")\n",
        "plt.ylabel(\"Misclassification Error\")\n",
        "plt.show()"
      ]
    },
    {
      "cell_type": "markdown",
      "metadata": {
        "id": "dyKanybag9zQ"
      },
      "source": [
        "Apparently, for CountVectorizer, the error was at a minimum when there were 300 base learners in the random forest."
      ]
    },
    {
      "cell_type": "markdown",
      "metadata": {
        "id": "tqhs-lIChg3x"
      },
      "source": [
        "#### Random Forest"
      ]
    },
    {
      "cell_type": "code",
      "execution_count": 357,
      "metadata": {
        "colab": {
          "base_uri": "https://localhost:8080/"
        },
        "id": "qkzuWdjyhXOl",
        "outputId": "6987711c-17fa-4e2a-8f93-9bde4c2d0e15"
      },
      "outputs": [
        {
          "output_type": "execute_result",
          "data": {
            "text/plain": [
              "RandomForestClassifier(n_estimators=300)"
            ]
          },
          "metadata": {},
          "execution_count": 357
        }
      ],
      "source": [
        "clf = RandomForestClassifier(n_estimators = optimal_learners)\n",
        "clf.fit(X_train, y_train)"
      ]
    },
    {
      "cell_type": "code",
      "execution_count": 358,
      "metadata": {
        "colab": {
          "base_uri": "https://localhost:8080/"
        },
        "id": "k1XQLYWLhkXf",
        "outputId": "a93b5869-4db1-4beb-fe80-0598a3178f6d"
      },
      "outputs": [
        {
          "output_type": "stream",
          "name": "stdout",
          "text": [
            "              precision    recall  f1-score   support\n",
            "\n",
            "    negative       0.64      0.37      0.46       413\n",
            "     neutral       0.50      0.47      0.48       165\n",
            "    positive       0.72      0.86      0.78       934\n",
            "\n",
            "    accuracy                           0.68      1512\n",
            "   macro avg       0.62      0.56      0.58      1512\n",
            "weighted avg       0.67      0.68      0.66      1512\n",
            "\n",
            "Accuracy of the model is :  0.6805555555555556\n"
          ]
        }
      ],
      "source": [
        "clf.score(X_test, y_test)\n",
        "count_vectorizer_predicted = clf.predict(X_test)\n",
        "print(classification_report(y_test ,count_vectorizer_predicted , target_names = ['negative' ,'neutral', 'positive']))\n",
        "print(\"Accuracy of the model is : \",accuracy_score(y_test,count_vectorizer_predicted))"
      ]
    },
    {
      "cell_type": "markdown",
      "metadata": {
        "id": "GM1P1Em3AIkQ"
      },
      "source": [
        "### Classification with oversampled balanced class"
      ]
    },
    {
      "cell_type": "markdown",
      "metadata": {
        "id": "64ltqTaoAIkR"
      },
      "source": [
        "#### Logistic Regression"
      ]
    },
    {
      "cell_type": "code",
      "execution_count": 359,
      "metadata": {
        "id": "361oSmaXAIkS"
      },
      "outputs": [],
      "source": [
        "from sklearn.linear_model import LogisticRegression\n",
        "from sklearn.metrics import accuracy_score, classification_report, confusion_matrix, ConfusionMatrixDisplay\n",
        "import warnings\n",
        "warnings.filterwarnings('ignore')"
      ]
    },
    {
      "cell_type": "code",
      "execution_count": 360,
      "metadata": {
        "colab": {
          "base_uri": "https://localhost:8080/"
        },
        "id": "iWv7r9NTAIkS",
        "outputId": "44301c9e-71e6-42f9-f5a8-6eb027fa5cfa"
      },
      "outputs": [
        {
          "output_type": "execute_result",
          "data": {
            "text/plain": [
              "LogisticRegression()"
            ]
          },
          "metadata": {},
          "execution_count": 360
        }
      ],
      "source": [
        "logreg = LogisticRegression()\n",
        "logreg.fit(X_train_ros, y_train_ros)"
      ]
    },
    {
      "cell_type": "code",
      "execution_count": 361,
      "metadata": {
        "colab": {
          "base_uri": "https://localhost:8080/"
        },
        "id": "ZR-js0ccAIkT",
        "outputId": "285028c1-0e57-4d26-b3d7-f71c16c8afd6"
      },
      "outputs": [
        {
          "output_type": "stream",
          "name": "stdout",
          "text": [
            "0.6051587301587301\n"
          ]
        }
      ],
      "source": [
        "logreg_pred = logreg.predict(X_test)\n",
        "logreg_acc = accuracy_score(logreg_pred, y_test)\n",
        "print(logreg_acc)"
      ]
    },
    {
      "cell_type": "code",
      "execution_count": 362,
      "metadata": {
        "colab": {
          "base_uri": "https://localhost:8080/"
        },
        "id": "eDI294SRAIkU",
        "outputId": "56482c99-eb5c-4aaa-9580-9bee721ccc29"
      },
      "outputs": [
        {
          "output_type": "stream",
          "name": "stdout",
          "text": [
            "[[233  57 123]\n",
            " [ 12 123  30]\n",
            " [180 195 559]]\n",
            "\n",
            "\n",
            "              precision    recall  f1-score   support\n",
            "\n",
            "           0       0.55      0.56      0.56       413\n",
            "           1       0.33      0.75      0.46       165\n",
            "           2       0.79      0.60      0.68       934\n",
            "\n",
            "    accuracy                           0.61      1512\n",
            "   macro avg       0.55      0.64      0.56      1512\n",
            "weighted avg       0.67      0.61      0.62      1512\n",
            "\n"
          ]
        }
      ],
      "source": [
        "print(confusion_matrix(y_test,logreg_pred))\n",
        "print(\"\\n\")\n",
        "print(classification_report(y_test,logreg_pred))"
      ]
    },
    {
      "cell_type": "markdown",
      "metadata": {
        "id": "ethVAhUKAIkU"
      },
      "source": [
        "#### Naive Bayes"
      ]
    },
    {
      "cell_type": "code",
      "execution_count": 363,
      "metadata": {
        "id": "AkIc2aUqAIkU"
      },
      "outputs": [],
      "source": [
        "from sklearn.naive_bayes import MultinomialNB\n",
        "from sklearn.naive_bayes import GaussianNB\n",
        "from sklearn.naive_bayes import BernoulliNB"
      ]
    },
    {
      "cell_type": "code",
      "execution_count": 364,
      "metadata": {
        "colab": {
          "base_uri": "https://localhost:8080/"
        },
        "id": "Wj9j6xRBAIkV",
        "outputId": "322d4128-9271-4bf6-fdf5-2456185dd062"
      },
      "outputs": [
        {
          "output_type": "execute_result",
          "data": {
            "text/plain": [
              "BernoulliNB()"
            ]
          },
          "metadata": {},
          "execution_count": 364
        }
      ],
      "source": [
        "nbm,nbg,nbb = MultinomialNB(alpha=1.0,fit_prior=True), GaussianNB(), BernoulliNB(alpha=1.0,fit_prior=True)\n",
        "nbm.fit(X_train_ros, y_train_ros)\n",
        "nbg.fit(X_train_ros, y_train_ros)\n",
        "nbb.fit(X_train_ros, y_train_ros)"
      ]
    },
    {
      "cell_type": "code",
      "execution_count": 365,
      "metadata": {
        "id": "NDKFCVSaAIkV"
      },
      "outputs": [],
      "source": [
        "ypm = nbm.predict(X_test)\n",
        "ypg = nbg.predict(X_test)\n",
        "ypb = nbb.predict(X_test)"
      ]
    },
    {
      "cell_type": "code",
      "execution_count": 366,
      "metadata": {
        "colab": {
          "base_uri": "https://localhost:8080/"
        },
        "id": "LhdbyQYkAIkW",
        "outputId": "c795fb3a-8d4c-4c2a-d385-788067f14145"
      },
      "outputs": [
        {
          "output_type": "stream",
          "name": "stdout",
          "text": [
            "Multinomial: 0.6157407407407407\n",
            "Gaussian: 0.3115079365079365\n",
            "Bernoulli: 0.5859788359788359\n"
          ]
        }
      ],
      "source": [
        "print(\"Multinomial:\", accuracy_score(y_test, ypm))\n",
        "print(\"Gaussian:\", accuracy_score(y_test, ypg))\n",
        "print(\"Bernoulli:\", accuracy_score(y_test, ypb))"
      ]
    },
    {
      "cell_type": "code",
      "source": [
        "print(confusion_matrix(y_test,ypm))\n",
        "print(\"\\n\")\n",
        "print(classification_report(y_test,ypm))"
      ],
      "metadata": {
        "colab": {
          "base_uri": "https://localhost:8080/"
        },
        "id": "cF0jkM_rqdcB",
        "outputId": "d7ec6941-e664-42c0-f18b-92e175b754ac"
      },
      "execution_count": 367,
      "outputs": [
        {
          "output_type": "stream",
          "name": "stdout",
          "text": [
            "[[254  43 116]\n",
            " [ 13 117  35]\n",
            " [209 165 560]]\n",
            "\n",
            "\n",
            "              precision    recall  f1-score   support\n",
            "\n",
            "           0       0.53      0.62      0.57       413\n",
            "           1       0.36      0.71      0.48       165\n",
            "           2       0.79      0.60      0.68       934\n",
            "\n",
            "    accuracy                           0.62      1512\n",
            "   macro avg       0.56      0.64      0.58      1512\n",
            "weighted avg       0.67      0.62      0.63      1512\n",
            "\n"
          ]
        }
      ]
    },
    {
      "cell_type": "markdown",
      "metadata": {
        "id": "hK0hiNXuAIkW"
      },
      "source": [
        "#### K-Neighbors Classifier"
      ]
    },
    {
      "cell_type": "code",
      "execution_count": 368,
      "metadata": {
        "id": "KyiIJN7ZAIkX"
      },
      "outputs": [],
      "source": [
        "from sklearn.neighbors import KNeighborsClassifier\n",
        "import time"
      ]
    },
    {
      "cell_type": "code",
      "execution_count": 369,
      "metadata": {
        "id": "zMhx5KQLAIkX"
      },
      "outputs": [],
      "source": [
        "clf_knn = KNeighborsClassifier(n_neighbors = 5)\n",
        "ini_knn = time.time()\n",
        "clf_knn.fit(X_train_ros, y_train_ros)\n",
        "fim_knn = time.time()\n",
        "pred_knn = clf_knn.predict(X_test)\n",
        "pre_knn = time.time()\n",
        "treino_knn = fim_knn - ini_knn\n",
        "time_prev_knn = pre_knn - fim_knn"
      ]
    },
    {
      "cell_type": "code",
      "execution_count": 370,
      "metadata": {
        "colab": {
          "base_uri": "https://localhost:8080/"
        },
        "id": "pwMlyVXYAIkY",
        "outputId": "6f6b6f4c-6b10-4e1b-da00-d451118f000d"
      },
      "outputs": [
        {
          "output_type": "stream",
          "name": "stdout",
          "text": [
            "KNN: 0.330026455026455\n",
            "[[129 205  79]\n",
            " [ 11 136  18]\n",
            " [162 538 234]]\n"
          ]
        }
      ],
      "source": [
        "print(\"KNN:\", accuracy_score(y_test, pred_knn))\n",
        "\n",
        "print(confusion_matrix(y_test, pred_knn))"
      ]
    },
    {
      "cell_type": "code",
      "execution_count": 371,
      "metadata": {
        "colab": {
          "base_uri": "https://localhost:8080/"
        },
        "id": "P40j6VIfAIkY",
        "outputId": "0fcd9a67-b29a-4f65-8fe1-820cd905cf69"
      },
      "outputs": [
        {
          "output_type": "stream",
          "name": "stdout",
          "text": [
            "              precision    recall  f1-score   support\n",
            "\n",
            "           0       0.43      0.31      0.36       413\n",
            "           1       0.15      0.82      0.26       165\n",
            "           2       0.71      0.25      0.37       934\n",
            "\n",
            "    accuracy                           0.33      1512\n",
            "   macro avg       0.43      0.46      0.33      1512\n",
            "weighted avg       0.57      0.33      0.36      1512\n",
            "\n"
          ]
        }
      ],
      "source": [
        "print(classification_report(y_test, pred_knn))"
      ]
    },
    {
      "cell_type": "markdown",
      "metadata": {
        "id": "UBnXgiYBAIkZ"
      },
      "source": [
        "#### Support Vector Machine (SVM)"
      ]
    },
    {
      "cell_type": "code",
      "execution_count": 372,
      "metadata": {
        "id": "7n6BzlL7AIkZ"
      },
      "outputs": [],
      "source": [
        "from sklearn.svm import SVC\n",
        "clf_svm = SVC()\n",
        "ini_svm = time.time()\n",
        "clf_svm.fit(X_train_ros, y_train_ros)\n",
        "fim_svm = time.time()\n",
        "pred_svm = clf_svm.predict(X_test)\n",
        "pre_svm = time.time()\n",
        "treino_svm = fim_svm - ini_svm\n",
        "time_prev_svm = pre_svm - fim_svm"
      ]
    },
    {
      "cell_type": "code",
      "execution_count": 373,
      "metadata": {
        "colab": {
          "base_uri": "https://localhost:8080/"
        },
        "id": "VozjULSwAIka",
        "outputId": "13cb4f4f-e751-4e9f-cbce-b102c05ed4f1"
      },
      "outputs": [
        {
          "output_type": "stream",
          "name": "stdout",
          "text": [
            "SVM: 0.6408730158730159\n",
            "[[129 205  79]\n",
            " [ 11 136  18]\n",
            " [162 538 234]]\n"
          ]
        }
      ],
      "source": [
        "print(\"SVM:\", accuracy_score(y_test, pred_svm))\n",
        "\n",
        "print(confusion_matrix(y_test, pred_knn))"
      ]
    },
    {
      "cell_type": "code",
      "execution_count": 374,
      "metadata": {
        "colab": {
          "base_uri": "https://localhost:8080/"
        },
        "id": "xSgZBCiwAIka",
        "outputId": "7160295d-456e-46f7-e3c5-f75fd648e9a2"
      },
      "outputs": [
        {
          "output_type": "stream",
          "name": "stdout",
          "text": [
            "              precision    recall  f1-score   support\n",
            "\n",
            "           0       0.59      0.47      0.52       413\n",
            "           1       0.37      0.66      0.47       165\n",
            "           2       0.75      0.71      0.73       934\n",
            "\n",
            "    accuracy                           0.64      1512\n",
            "   macro avg       0.57      0.61      0.58      1512\n",
            "weighted avg       0.66      0.64      0.65      1512\n",
            "\n"
          ]
        }
      ],
      "source": [
        "print(classification_report(y_test, pred_svm))"
      ]
    },
    {
      "cell_type": "markdown",
      "metadata": {
        "id": "QIaKDIYvAIka"
      },
      "source": [
        "#### K-fold cross-validation\n",
        "\n",
        "Using k-fold cross-validation to determine an optimal number of base learners in a random forest classifier model that will recieve the count vectorizer matrix as input."
      ]
    },
    {
      "cell_type": "code",
      "execution_count": 375,
      "metadata": {
        "colab": {
          "base_uri": "https://localhost:8080/"
        },
        "id": "WF20N3RXAIkb",
        "outputId": "39ea4a0f-95dc-4fbd-fffa-b7830b8e6552"
      },
      "outputs": [
        {
          "output_type": "execute_result",
          "data": {
            "text/plain": [
              "[100, 200, 300]"
            ]
          },
          "metadata": {},
          "execution_count": 375
        }
      ],
      "source": [
        "# Finding optimal number of base learners\n",
        "base_ln = np.arange(100,400,100).tolist()\n",
        "base_ln"
      ]
    },
    {
      "cell_type": "code",
      "execution_count": 376,
      "metadata": {
        "id": "LxqB8DxGAIkb"
      },
      "outputs": [],
      "source": [
        "# K-Fold Cross-validation\n",
        "cv_scores = []\n",
        "for b in base_ln:\n",
        "    clf = RandomForestClassifier(n_estimators = b)\n",
        "    scores = cross_val_score(clf, X_train_ros, y_train_ros, cv = 5, scoring = 'accuracy')\n",
        "    cv_scores.append(scores.mean())"
      ]
    },
    {
      "cell_type": "code",
      "execution_count": 377,
      "metadata": {
        "colab": {
          "base_uri": "https://localhost:8080/",
          "height": 279
        },
        "id": "8ueJOWiaAIkc",
        "outputId": "29f5f1a5-5b93-4493-9812-749f13bbf315"
      },
      "outputs": [
        {
          "output_type": "display_data",
          "data": {
            "text/plain": [
              "<Figure size 432x288 with 1 Axes>"
            ],
            "image/png": "[encoded data removed]"
          },
          "metadata": {
            "needs_background": "light"
          }
        }
      ],
      "source": [
        "# Plotting the error as k increases\n",
        "error = [1 - x for x in cv_scores]                                 #error corresponds to each nu of estimator\n",
        "optimal_learners = base_ln[error.index(min(error))]                #Selection of optimal nu of n_estimator corresponds to minimum error.\n",
        "plt.plot(base_ln, error)                                           #Plot between each nu of estimator and misclassification error\n",
        "xy = (optimal_learners, min(error))\n",
        "plt.annotate('(%s, %s)' % xy, xy = xy, textcoords='data')\n",
        "plt.xlabel(\"Number of base learners\")\n",
        "plt.ylabel(\"Misclassification Error\")\n",
        "plt.show()"
      ]
    },
    {
      "cell_type": "markdown",
      "metadata": {
        "id": "46s9t_iGAIkc"
      },
      "source": [
        "Apparently, for CountVectorizer, the error was at a minimum when there were 300 base learners in the random forest."
      ]
    },
    {
      "cell_type": "markdown",
      "metadata": {
        "id": "083KRzhfAIkd"
      },
      "source": [
        "#### Random Forest"
      ]
    },
    {
      "cell_type": "code",
      "execution_count": 378,
      "metadata": {
        "colab": {
          "base_uri": "https://localhost:8080/"
        },
        "id": "WcKcQ7_sAIkd",
        "outputId": "920d98a9-26e8-4b9a-8cfc-1e464ff8a2eb"
      },
      "outputs": [
        {
          "output_type": "execute_result",
          "data": {
            "text/plain": [
              "RandomForestClassifier(n_estimators=300)"
            ]
          },
          "metadata": {},
          "execution_count": 378
        }
      ],
      "source": [
        "clf = RandomForestClassifier(n_estimators = optimal_learners)\n",
        "clf.fit(X_train_ros, y_train_ros)"
      ]
    },
    {
      "cell_type": "code",
      "execution_count": 379,
      "metadata": {
        "colab": {
          "base_uri": "https://localhost:8080/"
        },
        "id": "iclQJDwQAIkd",
        "outputId": "13a64c35-9d48-49a7-991a-ff0afe7744dd"
      },
      "outputs": [
        {
          "output_type": "stream",
          "name": "stdout",
          "text": [
            "              precision    recall  f1-score   support\n",
            "\n",
            "    negative       0.56      0.41      0.47       413\n",
            "     neutral       0.39      0.55      0.46       165\n",
            "    positive       0.72      0.76      0.74       934\n",
            "\n",
            "    accuracy                           0.64      1512\n",
            "   macro avg       0.56      0.57      0.56      1512\n",
            "weighted avg       0.64      0.64      0.64      1512\n",
            "\n",
            "Accuracy of the model is :  0.6415343915343915\n"
          ]
        }
      ],
      "source": [
        "clf.score(X_test, y_test)\n",
        "count_vectorizer_predicted = clf.predict(X_test)\n",
        "print(classification_report(y_test ,count_vectorizer_predicted , target_names = ['negative', 'neutral','positive']))\n",
        "print(\"Accuracy of the model is : \",accuracy_score(y_test,count_vectorizer_predicted))"
      ]
    },
    {
      "cell_type": "markdown",
      "metadata": {
        "id": "Z0k4fjLmCQNS"
      },
      "source": [
        "### Classification with undersampled balanced class"
      ]
    },
    {
      "cell_type": "markdown",
      "metadata": {
        "id": "rPbl8BFFCQNT"
      },
      "source": [
        "#### Logistic Regression"
      ]
    },
    {
      "cell_type": "code",
      "execution_count": 380,
      "metadata": {
        "id": "5Byto6CgCQNT"
      },
      "outputs": [],
      "source": [
        "from sklearn.linear_model import LogisticRegression\n",
        "from sklearn.metrics import accuracy_score, classification_report, confusion_matrix, ConfusionMatrixDisplay\n",
        "import warnings\n",
        "warnings.filterwarnings('ignore')"
      ]
    },
    {
      "cell_type": "code",
      "execution_count": 381,
      "metadata": {
        "colab": {
          "base_uri": "https://localhost:8080/"
        },
        "id": "4Aitd2L0CQNT",
        "outputId": "de9d74a8-eeb9-4820-c8b3-b8377ffcc002"
      },
      "outputs": [
        {
          "output_type": "execute_result",
          "data": {
            "text/plain": [
              "LogisticRegression()"
            ]
          },
          "metadata": {},
          "execution_count": 381
        }
      ],
      "source": [
        "logreg = LogisticRegression()\n",
        "logreg.fit(X_train_rus, y_train_rus)"
      ]
    },
    {
      "cell_type": "code",
      "execution_count": 382,
      "metadata": {
        "colab": {
          "base_uri": "https://localhost:8080/"
        },
        "id": "ONpU5ezmCQNU",
        "outputId": "942fc7c1-3483-4f82-e814-919413f0919f"
      },
      "outputs": [
        {
          "output_type": "stream",
          "name": "stdout",
          "text": [
            "0.542989417989418\n"
          ]
        }
      ],
      "source": [
        "logreg_pred = logreg.predict(X_test)\n",
        "logreg_acc = accuracy_score(logreg_pred, y_test)\n",
        "print(logreg_acc)"
      ]
    },
    {
      "cell_type": "code",
      "execution_count": 383,
      "metadata": {
        "colab": {
          "base_uri": "https://localhost:8080/"
        },
        "id": "mvx9geoJCQNU",
        "outputId": "fa67700b-c8a9-4ff0-c323-51ec926e0cfc"
      },
      "outputs": [
        {
          "output_type": "stream",
          "name": "stdout",
          "text": [
            "[[242  72  99]\n",
            " [ 16 127  22]\n",
            " [246 236 452]]\n",
            "\n",
            "\n",
            "              precision    recall  f1-score   support\n",
            "\n",
            "           0       0.48      0.59      0.53       413\n",
            "           1       0.29      0.77      0.42       165\n",
            "           2       0.79      0.48      0.60       934\n",
            "\n",
            "    accuracy                           0.54      1512\n",
            "   macro avg       0.52      0.61      0.52      1512\n",
            "weighted avg       0.65      0.54      0.56      1512\n",
            "\n"
          ]
        }
      ],
      "source": [
        "print(confusion_matrix(y_test,logreg_pred))\n",
        "print(\"\\n\")\n",
        "print(classification_report(y_test,logreg_pred))"
      ]
    },
    {
      "cell_type": "markdown",
      "metadata": {
        "id": "UWz-auBsCQNV"
      },
      "source": [
        "#### Naive Bayes"
      ]
    },
    {
      "cell_type": "code",
      "execution_count": 384,
      "metadata": {
        "id": "KOcv8x1QCQNV"
      },
      "outputs": [],
      "source": [
        "from sklearn.naive_bayes import MultinomialNB\n",
        "from sklearn.naive_bayes import GaussianNB\n",
        "from sklearn.naive_bayes import BernoulliNB"
      ]
    },
    {
      "cell_type": "code",
      "execution_count": 385,
      "metadata": {
        "colab": {
          "base_uri": "https://localhost:8080/"
        },
        "id": "dao1Kr7FCQNV",
        "outputId": "33d39eb6-e74a-4a4d-c21f-ca17aaa4cdbf"
      },
      "outputs": [
        {
          "output_type": "execute_result",
          "data": {
            "text/plain": [
              "BernoulliNB()"
            ]
          },
          "metadata": {},
          "execution_count": 385
        }
      ],
      "source": [
        "nbm,nbg,nbb = MultinomialNB(alpha=1.0,fit_prior=True), GaussianNB(), BernoulliNB(alpha=1.0,fit_prior=True)\n",
        "nbm.fit(X_train_rus, y_train_rus)\n",
        "nbg.fit(X_train_rus, y_train_rus)\n",
        "nbb.fit(X_train_rus, y_train_rus)"
      ]
    },
    {
      "cell_type": "code",
      "execution_count": 386,
      "metadata": {
        "id": "2WMRD7LKCQNW"
      },
      "outputs": [],
      "source": [
        "ypm = nbm.predict(X_test)\n",
        "ypg = nbg.predict(X_test)\n",
        "ypb = nbb.predict(X_test)"
      ]
    },
    {
      "cell_type": "code",
      "execution_count": 387,
      "metadata": {
        "colab": {
          "base_uri": "https://localhost:8080/"
        },
        "id": "S1mkfO_-CQNW",
        "outputId": "a80c1810-e808-41b1-85af-8b9bbd5ed792"
      },
      "outputs": [
        {
          "output_type": "stream",
          "name": "stdout",
          "text": [
            "Multinomial: 0.5734126984126984\n",
            "Gaussian: 0.35119047619047616\n",
            "Bernoulli: 0.5396825396825397\n"
          ]
        }
      ],
      "source": [
        "print(\"Multinomial:\", accuracy_score(y_test, ypm))\n",
        "print(\"Gaussian:\", accuracy_score(y_test, ypg))\n",
        "print(\"Bernoulli:\", accuracy_score(y_test, ypb))"
      ]
    },
    {
      "cell_type": "code",
      "source": [
        "print(confusion_matrix(y_test,ypm))\n",
        "print(\"\\n\")\n",
        "print(classification_report(y_test,ypm))"
      ],
      "metadata": {
        "colab": {
          "base_uri": "https://localhost:8080/"
        },
        "id": "lZsHdHLFroCs",
        "outputId": "1cfcb483-3e2f-46b1-f852-a09723a0d75a"
      },
      "execution_count": 388,
      "outputs": [
        {
          "output_type": "stream",
          "name": "stdout",
          "text": [
            "[[270  56  87]\n",
            " [ 21 118  26]\n",
            " [259 196 479]]\n",
            "\n",
            "\n",
            "              precision    recall  f1-score   support\n",
            "\n",
            "           0       0.49      0.65      0.56       413\n",
            "           1       0.32      0.72      0.44       165\n",
            "           2       0.81      0.51      0.63       934\n",
            "\n",
            "    accuracy                           0.57      1512\n",
            "   macro avg       0.54      0.63      0.54      1512\n",
            "weighted avg       0.67      0.57      0.59      1512\n",
            "\n"
          ]
        }
      ]
    },
    {
      "cell_type": "markdown",
      "metadata": {
        "id": "THCw2mNECQNX"
      },
      "source": [
        "#### K-Neighbors Classifier"
      ]
    },
    {
      "cell_type": "code",
      "execution_count": 389,
      "metadata": {
        "id": "yjdwne6ECQNX"
      },
      "outputs": [],
      "source": [
        "from sklearn.neighbors import KNeighborsClassifier\n",
        "import time"
      ]
    },
    {
      "cell_type": "code",
      "execution_count": 390,
      "metadata": {
        "id": "DGnf582ZCQNX"
      },
      "outputs": [],
      "source": [
        "clf_knn = KNeighborsClassifier(n_neighbors = 5)\n",
        "ini_knn = time.time()\n",
        "clf_knn.fit(X_train_rus, y_train_rus)\n",
        "fim_knn = time.time()\n",
        "pred_knn = clf_knn.predict(X_test)\n",
        "pre_knn = time.time()\n",
        "treino_knn = fim_knn - ini_knn\n",
        "time_prev_knn = pre_knn - fim_knn"
      ]
    },
    {
      "cell_type": "code",
      "execution_count": 391,
      "metadata": {
        "colab": {
          "base_uri": "https://localhost:8080/"
        },
        "id": "SMInXyiQCQNX",
        "outputId": "29480709-6dc9-4278-a574-bbebf2df14d4"
      },
      "outputs": [
        {
          "output_type": "stream",
          "name": "stdout",
          "text": [
            "KNN: 0.22420634920634921\n",
            "[[ 80 299  34]\n",
            " [  9 151   5]\n",
            " [ 97 729 108]]\n"
          ]
        }
      ],
      "source": [
        "print(\"KNN:\", accuracy_score(y_test, pred_knn))\n",
        "\n",
        "print(confusion_matrix(y_test, pred_knn))"
      ]
    },
    {
      "cell_type": "code",
      "execution_count": 392,
      "metadata": {
        "colab": {
          "base_uri": "https://localhost:8080/"
        },
        "id": "7_AgvZdHCQNY",
        "outputId": "1ccbcb21-a7f8-4207-c4fa-0fbd1f5f9165"
      },
      "outputs": [
        {
          "output_type": "stream",
          "name": "stdout",
          "text": [
            "              precision    recall  f1-score   support\n",
            "\n",
            "           0       0.43      0.19      0.27       413\n",
            "           1       0.13      0.92      0.22       165\n",
            "           2       0.73      0.12      0.20       934\n",
            "\n",
            "    accuracy                           0.22      1512\n",
            "   macro avg       0.43      0.41      0.23      1512\n",
            "weighted avg       0.59      0.22      0.22      1512\n",
            "\n"
          ]
        }
      ],
      "source": [
        "print(classification_report(y_test, pred_knn))"
      ]
    },
    {
      "cell_type": "markdown",
      "metadata": {
        "id": "YyelHlOnCQNY"
      },
      "source": [
        "#### Support Vector Machine (SVM)"
      ]
    },
    {
      "cell_type": "code",
      "execution_count": 393,
      "metadata": {
        "id": "579K_nJZCQNY"
      },
      "outputs": [],
      "source": [
        "from sklearn.svm import SVC\n",
        "clf_svm = SVC()\n",
        "ini_svm = time.time()\n",
        "clf_svm.fit(X_train_rus, y_train_rus)\n",
        "fim_svm = time.time()\n",
        "pred_svm = clf_svm.predict(X_test)\n",
        "pre_svm = time.time()\n",
        "treino_svm = fim_svm - ini_svm\n",
        "time_prev_svm = pre_svm - fim_svm"
      ]
    },
    {
      "cell_type": "code",
      "execution_count": 394,
      "metadata": {
        "colab": {
          "base_uri": "https://localhost:8080/"
        },
        "id": "YghDKVvyCQNZ",
        "outputId": "1cdeeb28-3103-49af-8691-20550ba8f000"
      },
      "outputs": [
        {
          "output_type": "stream",
          "name": "stdout",
          "text": [
            "SVM: 0.5304232804232805\n",
            "[[ 80 299  34]\n",
            " [  9 151   5]\n",
            " [ 97 729 108]]\n"
          ]
        }
      ],
      "source": [
        "print(\"SVM:\", accuracy_score(y_test, pred_svm))\n",
        "\n",
        "print(confusion_matrix(y_test, pred_knn))"
      ]
    },
    {
      "cell_type": "code",
      "execution_count": 395,
      "metadata": {
        "colab": {
          "base_uri": "https://localhost:8080/"
        },
        "id": "4d6VF7_SCQNZ",
        "outputId": "aa6013f8-e6b7-4916-9f5d-1b1bd06c6624"
      },
      "outputs": [
        {
          "output_type": "stream",
          "name": "stdout",
          "text": [
            "              precision    recall  f1-score   support\n",
            "\n",
            "           0       0.47      0.60      0.53       413\n",
            "           1       0.28      0.79      0.42       165\n",
            "           2       0.81      0.45      0.58       934\n",
            "\n",
            "    accuracy                           0.53      1512\n",
            "   macro avg       0.52      0.61      0.51      1512\n",
            "weighted avg       0.66      0.53      0.55      1512\n",
            "\n"
          ]
        }
      ],
      "source": [
        "print(classification_report(y_test, pred_svm))"
      ]
    },
    {
      "cell_type": "markdown",
      "metadata": {
        "id": "UlYzlF-PCQNZ"
      },
      "source": [
        "#### K-fold cross-validation\n",
        "\n",
        "Using k-fold cross-validation to determine an optimal number of base learners in a random forest classifier model that will recieve the count vectorizer matrix as input."
      ]
    },
    {
      "cell_type": "code",
      "execution_count": 396,
      "metadata": {
        "colab": {
          "base_uri": "https://localhost:8080/"
        },
        "id": "TSvstqnDCQNa",
        "outputId": "b8d0e8d5-8ed5-4b00-86c2-e5f2c77453e3"
      },
      "outputs": [
        {
          "output_type": "execute_result",
          "data": {
            "text/plain": [
              "[100, 200, 300]"
            ]
          },
          "metadata": {},
          "execution_count": 396
        }
      ],
      "source": [
        "# Finding optimal number of base learners\n",
        "base_ln = np.arange(100,400,100).tolist()\n",
        "base_ln"
      ]
    },
    {
      "cell_type": "code",
      "execution_count": 397,
      "metadata": {
        "id": "8QH7yXu-CQNa"
      },
      "outputs": [],
      "source": [
        "# K-Fold Cross-validation\n",
        "cv_scores = []\n",
        "for b in base_ln:\n",
        "    clf = RandomForestClassifier(n_estimators = b)\n",
        "    scores = cross_val_score(clf, X_train_rus, y_train_rus, cv = 5, scoring = 'accuracy')\n",
        "    cv_scores.append(scores.mean())"
      ]
    },
    {
      "cell_type": "code",
      "execution_count": 398,
      "metadata": {
        "colab": {
          "base_uri": "https://localhost:8080/",
          "height": 279
        },
        "id": "xIBF4iOMCQNa",
        "outputId": "8144137c-2e71-407a-f1dd-330661d165eb"
      },
      "outputs": [
        {
          "output_type": "display_data",
          "data": {
            "text/plain": [
              "<Figure size 432x288 with 1 Axes>"
            ],
            "image/png": "[encoded data removed]"
          },
          "metadata": {
            "needs_background": "light"
          }
        }
      ],
      "source": [
        "# Plotting the error as k increases\n",
        "error = [1 - x for x in cv_scores]                                 #error corresponds to each nu of estimator\n",
        "optimal_learners = base_ln[error.index(min(error))]                #Selection of optimal nu of n_estimator corresponds to minimum error.\n",
        "plt.plot(base_ln, error)                                           #Plot between each nu of estimator and misclassification error\n",
        "xy = (optimal_learners, min(error))\n",
        "plt.annotate('(%s, %s)' % xy, xy = xy, textcoords='data')\n",
        "plt.xlabel(\"Number of base learners\")\n",
        "plt.ylabel(\"Misclassification Error\")\n",
        "plt.show()"
      ]
    },
    {
      "cell_type": "markdown",
      "metadata": {
        "id": "zTlz1iQ9CQNb"
      },
      "source": [
        "Apparently, for CountVectorizer, the error was at a minimum when there were 300 base learners in the random forest."
      ]
    },
    {
      "cell_type": "markdown",
      "metadata": {
        "id": "Hp_AoJs4CQNb"
      },
      "source": [
        "#### Random Forest"
      ]
    },
    {
      "cell_type": "code",
      "execution_count": 399,
      "metadata": {
        "colab": {
          "base_uri": "https://localhost:8080/"
        },
        "id": "NDye1mqsCQNb",
        "outputId": "c02a5fb4-b6cb-4df9-b896-f17155f00b5c"
      },
      "outputs": [
        {
          "output_type": "execute_result",
          "data": {
            "text/plain": [
              "RandomForestClassifier(n_estimators=200)"
            ]
          },
          "metadata": {},
          "execution_count": 399
        }
      ],
      "source": [
        "clf = RandomForestClassifier(n_estimators = optimal_learners)\n",
        "clf.fit(X_train_rus, y_train_rus)"
      ]
    },
    {
      "cell_type": "code",
      "execution_count": 400,
      "metadata": {
        "colab": {
          "base_uri": "https://localhost:8080/"
        },
        "id": "aJxU5CImCQNc",
        "outputId": "fee906e9-8e72-4825-aad7-4c71bf9266c3"
      },
      "outputs": [
        {
          "output_type": "stream",
          "name": "stdout",
          "text": [
            "              precision    recall  f1-score   support\n",
            "\n",
            "    negative       0.44      0.54      0.48       413\n",
            "     neutral       0.28      0.75      0.41       165\n",
            "    positive       0.76      0.46      0.57       934\n",
            "\n",
            "    accuracy                           0.51      1512\n",
            "   macro avg       0.49      0.58      0.49      1512\n",
            "weighted avg       0.62      0.51      0.53      1512\n",
            "\n",
            "Accuracy of the model is :  0.5125661375661376\n"
          ]
        }
      ],
      "source": [
        "clf.score(X_test, y_test)\n",
        "count_vectorizer_predicted = clf.predict(X_test)\n",
        "print(classification_report(y_test ,count_vectorizer_predicted , target_names = ['negative', 'neutral', 'positive']))\n",
        "print(\"Accuracy of the model is : \",accuracy_score(y_test,count_vectorizer_predicted))"
      ]
    },
    {
      "cell_type": "markdown",
      "metadata": {
        "id": "ZQHzov-nMKAB"
      },
      "source": [
        "### Another approach for evaluation"
      ]
    },
    {
      "cell_type": "markdown",
      "metadata": {
        "id": "Jc3W2bDTzPrI"
      },
      "source": [
        "#### Model Building with oversampled balanced class"
      ]
    },
    {
      "cell_type": "code",
      "execution_count": 401,
      "metadata": {
        "colab": {
          "base_uri": "https://localhost:8080/",
          "height": 144
        },
        "id": "nFlgX_DWyeds",
        "outputId": "fd182ecd-9b02-4db8-ed6b-450549dc0137"
      },
      "outputs": [
        {
          "output_type": "execute_result",
          "data": {
            "text/plain": [
              "  Performance_metric_names  Performance_metric_values\n",
              "0                MCC_train                   0.988359\n",
              "1                   MCC_CV                   0.835391\n",
              "2                 MCC_test                   0.310400"
            ],
            "text/html": [
              "\n",
              "  <div id=\"df-3bbc800f-892d-47a8-afc7-f9f532235cfd\">\n",
              "    <div class=\"colab-df-container\">\n",
              "      <div>\n",
              "<style scoped>\n",
              "    .dataframe tbody tr th:only-of-type {\n",
              "        vertical-align: middle;\n",
              "    }\n",
              "\n",
              "    .dataframe tbody tr th {\n",
              "        vertical-align: top;\n",
              "    }\n",
              "\n",
              "    .dataframe thead th {\n",
              "        text-align: right;\n",
              "    }\n",
              "</style>\n",
              "<table border=\"1\" class=\"dataframe\">\n",
              "  <thead>\n",
              "    <tr style=\"text-align: right;\">\n",
              "      <th></th>\n",
              "      <th>Performance_metric_names</th>\n",
              "      <th>Performance_metric_values</th>\n",
              "    </tr>\n",
              "  </thead>\n",
              "  <tbody>\n",
              "    <tr>\n",
              "      <th>0</th>\n",
              "      <td>MCC_train</td>\n",
              "      <td>0.988359</td>\n",
              "    </tr>\n",
              "    <tr>\n",
              "      <th>1</th>\n",
              "      <td>MCC_CV</td>\n",
              "      <td>0.835391</td>\n",
              "    </tr>\n",
              "    <tr>\n",
              "      <th>2</th>\n",
              "      <td>MCC_test</td>\n",
              "      <td>0.310400</td>\n",
              "    </tr>\n",
              "  </tbody>\n",
              "</table>\n",
              "</div>\n",
              "      <button class=\"colab-df-convert\" onclick=\"convertToInteractive('df-3bbc800f-892d-47a8-afc7-f9f532235cfd')\"\n",
              "              title=\"Convert this dataframe to an interactive table.\"\n",
              "              style=\"display:none;\">\n",
              "        \n",
              "  <svg xmlns=\"http://www.w3.org/2000/svg\" height=\"24px\"viewBox=\"0 0 24 24\"\n",
              "       width=\"24px\">\n",
              "    <path d=\"M0 0h24v24H0V0z\" fill=\"none\"/>\n",
              "    <path d=\"M18.56 5.44l.94 2.06.94-2.06 2.06-.94-2.06-.94-.94-2.06-.94 2.06-2.06.94zm-11 1L8.5 8.5l.94-2.06 2.06-.94-2.06-.94L8.5 2.5l-.94 2.06-2.06.94zm10 10l.94 2.06.94-2.06 2.06-.94-2.06-.94-.94-2.06-.94 2.06-2.06.94z\"/><path d=\"M17.41 7.96l-1.37-1.37c-.4-.4-.92-.59-1.43-.59-.52 0-1.04.2-1.43.59L10.3 9.45l-7.72 7.72c-.78.78-.78 2.05 0 2.83L4 21.41c.39.39.9.59 1.41.59.51 0 1.02-.2 1.41-.59l7.78-7.78 2.81-2.81c.8-.78.8-2.07 0-2.86zM5.41 20L4 18.59l7.72-7.72 1.47 1.35L5.41 20z\"/>\n",
              "  </svg>\n",
              "      </button>\n",
              "      \n",
              "  <style>\n",
              "    .colab-df-container {\n",
              "      display:flex;\n",
              "      flex-wrap:wrap;\n",
              "      gap: 12px;\n",
              "    }\n",
              "\n",
              "    .colab-df-convert {\n",
              "      background-color: #E8F0FE;\n",
              "      border: none;\n",
              "      border-radius: 50%;\n",
              "      cursor: pointer;\n",
              "      display: none;\n",
              "      fill: #1967D2;\n",
              "      height: 32px;\n",
              "      padding: 0 0 0 0;\n",
              "      width: 32px;\n",
              "    }\n",
              "\n",
              "    .colab-df-convert:hover {\n",
              "      background-color: #E2EBFA;\n",
              "      box-shadow: 0px 1px 2px rgba(60, 64, 67, 0.3), 0px 1px 3px 1px rgba(60, 64, 67, 0.15);\n",
              "      fill: #174EA6;\n",
              "    }\n",
              "\n",
              "    [theme=dark] .colab-df-convert {\n",
              "      background-color: #3B4455;\n",
              "      fill: #D2E3FC;\n",
              "    }\n",
              "\n",
              "    [theme=dark] .colab-df-convert:hover {\n",
              "      background-color: #434B5C;\n",
              "      box-shadow: 0px 1px 3px 1px rgba(0, 0, 0, 0.15);\n",
              "      filter: drop-shadow(0px 1px 2px rgba(0, 0, 0, 0.3));\n",
              "      fill: #FFFFFF;\n",
              "    }\n",
              "  </style>\n",
              "\n",
              "      <script>\n",
              "        const buttonEl =\n",
              "          document.querySelector('#df-3bbc800f-892d-47a8-afc7-f9f532235cfd button.colab-df-convert');\n",
              "        buttonEl.style.display =\n",
              "          google.colab.kernel.accessAllowed ? 'block' : 'none';\n",
              "\n",
              "        async function convertToInteractive(key) {\n",
              "          const element = document.querySelector('#df-3bbc800f-892d-47a8-afc7-f9f532235cfd');\n",
              "          const dataTable =\n",
              "            await google.colab.kernel.invokeFunction('convertToInteractive',\n",
              "                                                     [key], {});\n",
              "          if (!dataTable) return;\n",
              "\n",
              "          const docLinkHtml = 'Like what you see? Visit the ' +\n",
              "            '<a target=\"_blank\" href=https://colab.research.google.com/notebooks/data_table.ipynb>data table notebook</a>'\n",
              "            + ' to learn more about interactive tables.';\n",
              "          element.innerHTML = '';\n",
              "          dataTable['output_type'] = 'display_data';\n",
              "          await google.colab.output.renderOutput(dataTable, element);\n",
              "          const docLink = document.createElement('div');\n",
              "          docLink.innerHTML = docLinkHtml;\n",
              "          element.appendChild(docLink);\n",
              "        }\n",
              "      </script>\n",
              "    </div>\n",
              "  </div>\n",
              "  "
            ]
          },
          "metadata": {},
          "execution_count": 401
        }
      ],
      "source": [
        "# Training Random Forest Models\n",
        "from sklearn.ensemble import RandomForestClassifier\n",
        "\n",
        "model = RandomForestClassifier(random_state=42)\n",
        "model.fit(X_train_ros, y_train_ros)\n",
        "\n",
        "# Training Cross-validation Models\n",
        "from sklearn.metrics import make_scorer, recall_score, matthews_corrcoef\n",
        "from sklearn.model_selection import cross_validate\n",
        "\n",
        "model_cv = RandomForestClassifier(random_state=42)\n",
        "cv_scoring = {'MCC': make_scorer(matthews_corrcoef)}\n",
        "cv = cross_validate(model_cv, X_train_ros, y_train_ros, cv=5, scoring=cv_scoring)\n",
        "\n",
        "# Apply model to make prediction\n",
        "from sklearn.metrics import matthews_corrcoef\n",
        "\n",
        "y_train_pred = model.predict(X_train_ros)\n",
        "y_test_pred = model.predict(X_test)\n",
        "  \n",
        "mcc_train = matthews_corrcoef(y_train_ros, y_train_pred)\n",
        "mcc_test = matthews_corrcoef(y_test, y_test_pred)\n",
        "mcc_cv = cv['test_MCC'].mean()\n",
        "\n",
        "# Display model performance results\n",
        "df_labels = pd.Series(['MCC_train', 'MCC_CV', 'MCC_test'], name = 'Performance_metric_names')\n",
        "df_values = pd.Series([mcc_train, mcc_cv, mcc_test], name = 'Performance_metric_values')\n",
        "df3 = pd.concat([df_labels, df_values], axis=1)\n",
        "df3"
      ]
    },
    {
      "cell_type": "markdown",
      "metadata": {
        "id": "cjW7IlTsz9bE"
      },
      "source": [
        "#### Model Building with undersampled balanced class"
      ]
    },
    {
      "cell_type": "code",
      "execution_count": 402,
      "metadata": {
        "colab": {
          "base_uri": "https://localhost:8080/",
          "height": 144
        },
        "id": "OlwUPIih0C1E",
        "outputId": "6ecf0601-c30f-4442-e4b9-786ce60cd625"
      },
      "outputs": [
        {
          "output_type": "execute_result",
          "data": {
            "text/plain": [
              "  Performance_metric_names  Performance_metric_values\n",
              "0                MCC_train                   0.988641\n",
              "1                   MCC_CV                   0.379960\n",
              "2                 MCC_test                   0.270006"
            ],
            "text/html": [
              "\n",
              "  <div id=\"df-44acc38a-97a5-41d6-a718-ab67ce69f817\">\n",
              "    <div class=\"colab-df-container\">\n",
              "      <div>\n",
              "<style scoped>\n",
              "    .dataframe tbody tr th:only-of-type {\n",
              "        vertical-align: middle;\n",
              "    }\n",
              "\n",
              "    .dataframe tbody tr th {\n",
              "        vertical-align: top;\n",
              "    }\n",
              "\n",
              "    .dataframe thead th {\n",
              "        text-align: right;\n",
              "    }\n",
              "</style>\n",
              "<table border=\"1\" class=\"dataframe\">\n",
              "  <thead>\n",
              "    <tr style=\"text-align: right;\">\n",
              "      <th></th>\n",
              "      <th>Performance_metric_names</th>\n",
              "      <th>Performance_metric_values</th>\n",
              "    </tr>\n",
              "  </thead>\n",
              "  <tbody>\n",
              "    <tr>\n",
              "      <th>0</th>\n",
              "      <td>MCC_train</td>\n",
              "      <td>0.988641</td>\n",
              "    </tr>\n",
              "    <tr>\n",
              "      <th>1</th>\n",
              "      <td>MCC_CV</td>\n",
              "      <td>0.379960</td>\n",
              "    </tr>\n",
              "    <tr>\n",
              "      <th>2</th>\n",
              "      <td>MCC_test</td>\n",
              "      <td>0.270006</td>\n",
              "    </tr>\n",
              "  </tbody>\n",
              "</table>\n",
              "</div>\n",
              "      <button class=\"colab-df-convert\" onclick=\"convertToInteractive('df-44acc38a-97a5-41d6-a718-ab67ce69f817')\"\n",
              "              title=\"Convert this dataframe to an interactive table.\"\n",
              "              style=\"display:none;\">\n",
              "        \n",
              "  <svg xmlns=\"http://www.w3.org/2000/svg\" height=\"24px\"viewBox=\"0 0 24 24\"\n",
              "       width=\"24px\">\n",
              "    <path d=\"M0 0h24v24H0V0z\" fill=\"none\"/>\n",
              "    <path d=\"M18.56 5.44l.94 2.06.94-2.06 2.06-.94-2.06-.94-.94-2.06-.94 2.06-2.06.94zm-11 1L8.5 8.5l.94-2.06 2.06-.94-2.06-.94L8.5 2.5l-.94 2.06-2.06.94zm10 10l.94 2.06.94-2.06 2.06-.94-2.06-.94-.94-2.06-.94 2.06-2.06.94z\"/><path d=\"M17.41 7.96l-1.37-1.37c-.4-.4-.92-.59-1.43-.59-.52 0-1.04.2-1.43.59L10.3 9.45l-7.72 7.72c-.78.78-.78 2.05 0 2.83L4 21.41c.39.39.9.59 1.41.59.51 0 1.02-.2 1.41-.59l7.78-7.78 2.81-2.81c.8-.78.8-2.07 0-2.86zM5.41 20L4 18.59l7.72-7.72 1.47 1.35L5.41 20z\"/>\n",
              "  </svg>\n",
              "      </button>\n",
              "      \n",
              "  <style>\n",
              "    .colab-df-container {\n",
              "      display:flex;\n",
              "      flex-wrap:wrap;\n",
              "      gap: 12px;\n",
              "    }\n",
              "\n",
              "    .colab-df-convert {\n",
              "      background-color: #E8F0FE;\n",
              "      border: none;\n",
              "      border-radius: 50%;\n",
              "      cursor: pointer;\n",
              "      display: none;\n",
              "      fill: #1967D2;\n",
              "      height: 32px;\n",
              "      padding: 0 0 0 0;\n",
              "      width: 32px;\n",
              "    }\n",
              "\n",
              "    .colab-df-convert:hover {\n",
              "      background-color: #E2EBFA;\n",
              "      box-shadow: 0px 1px 2px rgba(60, 64, 67, 0.3), 0px 1px 3px 1px rgba(60, 64, 67, 0.15);\n",
              "      fill: #174EA6;\n",
              "    }\n",
              "\n",
              "    [theme=dark] .colab-df-convert {\n",
              "      background-color: #3B4455;\n",
              "      fill: #D2E3FC;\n",
              "    }\n",
              "\n",
              "    [theme=dark] .colab-df-convert:hover {\n",
              "      background-color: #434B5C;\n",
              "      box-shadow: 0px 1px 3px 1px rgba(0, 0, 0, 0.15);\n",
              "      filter: drop-shadow(0px 1px 2px rgba(0, 0, 0, 0.3));\n",
              "      fill: #FFFFFF;\n",
              "    }\n",
              "  </style>\n",
              "\n",
              "      <script>\n",
              "        const buttonEl =\n",
              "          document.querySelector('#df-44acc38a-97a5-41d6-a718-ab67ce69f817 button.colab-df-convert');\n",
              "        buttonEl.style.display =\n",
              "          google.colab.kernel.accessAllowed ? 'block' : 'none';\n",
              "\n",
              "        async function convertToInteractive(key) {\n",
              "          const element = document.querySelector('#df-44acc38a-97a5-41d6-a718-ab67ce69f817');\n",
              "          const dataTable =\n",
              "            await google.colab.kernel.invokeFunction('convertToInteractive',\n",
              "                                                     [key], {});\n",
              "          if (!dataTable) return;\n",
              "\n",
              "          const docLinkHtml = 'Like what you see? Visit the ' +\n",
              "            '<a target=\"_blank\" href=https://colab.research.google.com/notebooks/data_table.ipynb>data table notebook</a>'\n",
              "            + ' to learn more about interactive tables.';\n",
              "          element.innerHTML = '';\n",
              "          dataTable['output_type'] = 'display_data';\n",
              "          await google.colab.output.renderOutput(dataTable, element);\n",
              "          const docLink = document.createElement('div');\n",
              "          docLink.innerHTML = docLinkHtml;\n",
              "          element.appendChild(docLink);\n",
              "        }\n",
              "      </script>\n",
              "    </div>\n",
              "  </div>\n",
              "  "
            ]
          },
          "metadata": {},
          "execution_count": 402
        }
      ],
      "source": [
        "# Training Random Forest Models\n",
        "from sklearn.ensemble import RandomForestClassifier\n",
        "\n",
        "model = RandomForestClassifier(random_state=42)\n",
        "model.fit(X_train_rus, y_train_rus)\n",
        "\n",
        "# Training Cross-validation Models\n",
        "from sklearn.metrics import make_scorer, recall_score, matthews_corrcoef\n",
        "from sklearn.model_selection import cross_validate\n",
        "\n",
        "model_cv = RandomForestClassifier(random_state=42)\n",
        "cv_scoring = {'MCC': make_scorer(matthews_corrcoef)}\n",
        "cv = cross_validate(model_cv, X_train_rus, y_train_rus, cv=5, scoring=cv_scoring)\n",
        "\n",
        "# Apply model to make prediction\n",
        "from sklearn.metrics import matthews_corrcoef\n",
        "\n",
        "y_train_pred = model.predict(X_train_rus)\n",
        "y_test_pred = model.predict(X_test)\n",
        "  \n",
        "mcc_train = matthews_corrcoef(y_train_rus, y_train_pred)\n",
        "mcc_test = matthews_corrcoef(y_test, y_test_pred)\n",
        "mcc_cv = cv['test_MCC'].mean()\n",
        "\n",
        "# Display model performance results\n",
        "df_labels = pd.Series(['MCC_train', 'MCC_CV', 'MCC_test'], name = 'Performance_metric_names')\n",
        "df_values = pd.Series([mcc_train, mcc_cv, mcc_test], name = 'Performance_metric_values')\n",
        "df2 = pd.concat([df_labels, df_values], axis=1)\n",
        "df2"
      ]
    },
    {
      "cell_type": "markdown",
      "metadata": {
        "id": "iv6olh6d1NfT"
      },
      "source": [
        "#### Model Building without balanced class"
      ]
    },
    {
      "cell_type": "code",
      "execution_count": 403,
      "metadata": {
        "colab": {
          "base_uri": "https://localhost:8080/",
          "height": 144
        },
        "id": "F9fawIXf095o",
        "outputId": "bc7f7dc2-3913-4bbb-a4b9-a2032a278955"
      },
      "outputs": [
        {
          "output_type": "execute_result",
          "data": {
            "text/plain": [
              "  Performance_metric_names  Performance_metric_values\n",
              "0                MCC_train                   0.982840\n",
              "1                   MCC_CV                   0.350691\n",
              "2                 MCC_test                   0.350329"
            ],
            "text/html": [
              "\n",
              "  <div id=\"df-d0fe6790-1bfb-4f06-9902-2d9f91f17c2a\">\n",
              "    <div class=\"colab-df-container\">\n",
              "      <div>\n",
              "<style scoped>\n",
              "    .dataframe tbody tr th:only-of-type {\n",
              "        vertical-align: middle;\n",
              "    }\n",
              "\n",
              "    .dataframe tbody tr th {\n",
              "        vertical-align: top;\n",
              "    }\n",
              "\n",
              "    .dataframe thead th {\n",
              "        text-align: right;\n",
              "    }\n",
              "</style>\n",
              "<table border=\"1\" class=\"dataframe\">\n",
              "  <thead>\n",
              "    <tr style=\"text-align: right;\">\n",
              "      <th></th>\n",
              "      <th>Performance_metric_names</th>\n",
              "      <th>Performance_metric_values</th>\n",
              "    </tr>\n",
              "  </thead>\n",
              "  <tbody>\n",
              "    <tr>\n",
              "      <th>0</th>\n",
              "      <td>MCC_train</td>\n",
              "      <td>0.982840</td>\n",
              "    </tr>\n",
              "    <tr>\n",
              "      <th>1</th>\n",
              "      <td>MCC_CV</td>\n",
              "      <td>0.350691</td>\n",
              "    </tr>\n",
              "    <tr>\n",
              "      <th>2</th>\n",
              "      <td>MCC_test</td>\n",
              "      <td>0.350329</td>\n",
              "    </tr>\n",
              "  </tbody>\n",
              "</table>\n",
              "</div>\n",
              "      <button class=\"colab-df-convert\" onclick=\"convertToInteractive('df-d0fe6790-1bfb-4f06-9902-2d9f91f17c2a')\"\n",
              "              title=\"Convert this dataframe to an interactive table.\"\n",
              "              style=\"display:none;\">\n",
              "        \n",
              "  <svg xmlns=\"http://www.w3.org/2000/svg\" height=\"24px\"viewBox=\"0 0 24 24\"\n",
              "       width=\"24px\">\n",
              "    <path d=\"M0 0h24v24H0V0z\" fill=\"none\"/>\n",
              "    <path d=\"M18.56 5.44l.94 2.06.94-2.06 2.06-.94-2.06-.94-.94-2.06-.94 2.06-2.06.94zm-11 1L8.5 8.5l.94-2.06 2.06-.94-2.06-.94L8.5 2.5l-.94 2.06-2.06.94zm10 10l.94 2.06.94-2.06 2.06-.94-2.06-.94-.94-2.06-.94 2.06-2.06.94z\"/><path d=\"M17.41 7.96l-1.37-1.37c-.4-.4-.92-.59-1.43-.59-.52 0-1.04.2-1.43.59L10.3 9.45l-7.72 7.72c-.78.78-.78 2.05 0 2.83L4 21.41c.39.39.9.59 1.41.59.51 0 1.02-.2 1.41-.59l7.78-7.78 2.81-2.81c.8-.78.8-2.07 0-2.86zM5.41 20L4 18.59l7.72-7.72 1.47 1.35L5.41 20z\"/>\n",
              "  </svg>\n",
              "      </button>\n",
              "      \n",
              "  <style>\n",
              "    .colab-df-container {\n",
              "      display:flex;\n",
              "      flex-wrap:wrap;\n",
              "      gap: 12px;\n",
              "    }\n",
              "\n",
              "    .colab-df-convert {\n",
              "      background-color: #E8F0FE;\n",
              "      border: none;\n",
              "      border-radius: 50%;\n",
              "      cursor: pointer;\n",
              "      display: none;\n",
              "      fill: #1967D2;\n",
              "      height: 32px;\n",
              "      padding: 0 0 0 0;\n",
              "      width: 32px;\n",
              "    }\n",
              "\n",
              "    .colab-df-convert:hover {\n",
              "      background-color: #E2EBFA;\n",
              "      box-shadow: 0px 1px 2px rgba(60, 64, 67, 0.3), 0px 1px 3px 1px rgba(60, 64, 67, 0.15);\n",
              "      fill: #174EA6;\n",
              "    }\n",
              "\n",
              "    [theme=dark] .colab-df-convert {\n",
              "      background-color: #3B4455;\n",
              "      fill: #D2E3FC;\n",
              "    }\n",
              "\n",
              "    [theme=dark] .colab-df-convert:hover {\n",
              "      background-color: #434B5C;\n",
              "      box-shadow: 0px 1px 3px 1px rgba(0, 0, 0, 0.15);\n",
              "      filter: drop-shadow(0px 1px 2px rgba(0, 0, 0, 0.3));\n",
              "      fill: #FFFFFF;\n",
              "    }\n",
              "  </style>\n",
              "\n",
              "      <script>\n",
              "        const buttonEl =\n",
              "          document.querySelector('#df-d0fe6790-1bfb-4f06-9902-2d9f91f17c2a button.colab-df-convert');\n",
              "        buttonEl.style.display =\n",
              "          google.colab.kernel.accessAllowed ? 'block' : 'none';\n",
              "\n",
              "        async function convertToInteractive(key) {\n",
              "          const element = document.querySelector('#df-d0fe6790-1bfb-4f06-9902-2d9f91f17c2a');\n",
              "          const dataTable =\n",
              "            await google.colab.kernel.invokeFunction('convertToInteractive',\n",
              "                                                     [key], {});\n",
              "          if (!dataTable) return;\n",
              "\n",
              "          const docLinkHtml = 'Like what you see? Visit the ' +\n",
              "            '<a target=\"_blank\" href=https://colab.research.google.com/notebooks/data_table.ipynb>data table notebook</a>'\n",
              "            + ' to learn more about interactive tables.';\n",
              "          element.innerHTML = '';\n",
              "          dataTable['output_type'] = 'display_data';\n",
              "          await google.colab.output.renderOutput(dataTable, element);\n",
              "          const docLink = document.createElement('div');\n",
              "          docLink.innerHTML = docLinkHtml;\n",
              "          element.appendChild(docLink);\n",
              "        }\n",
              "      </script>\n",
              "    </div>\n",
              "  </div>\n",
              "  "
            ]
          },
          "metadata": {},
          "execution_count": 403
        }
      ],
      "source": [
        "# Training Random Forest Models\n",
        "from sklearn.ensemble import RandomForestClassifier\n",
        "\n",
        "model = RandomForestClassifier(random_state=42)\n",
        "model.fit(X_train, y_train)\n",
        "\n",
        "# Training Cross-validation Models\n",
        "from sklearn.metrics import make_scorer, recall_score, matthews_corrcoef\n",
        "from sklearn.model_selection import cross_validate\n",
        "\n",
        "model_cv = RandomForestClassifier(random_state=42)\n",
        "cv_scoring = {'MCC': make_scorer(matthews_corrcoef)}\n",
        "cv = cross_validate(model_cv, X_train, y_train, cv=5, scoring=cv_scoring)\n",
        "\n",
        "# Apply model to make prediction\n",
        "from sklearn.metrics import matthews_corrcoef\n",
        "\n",
        "y_train_pred = model.predict(X_train)\n",
        "y_test_pred = model.predict(X_test)\n",
        "  \n",
        "mcc_train = matthews_corrcoef(y_train, y_train_pred)\n",
        "mcc_test = matthews_corrcoef(y_test, y_test_pred)\n",
        "mcc_cv = cv['test_MCC'].mean()\n",
        "\n",
        "# Display model performance results\n",
        "df_labels = pd.Series(['MCC_train', 'MCC_CV', 'MCC_test'], name = 'Performance_metric_names')\n",
        "df_values = pd.Series([mcc_train, mcc_cv, mcc_test], name = 'Performance_metric_values')\n",
        "df1 = pd.concat([df_labels, df_values], axis=1)\n",
        "df1"
      ]
    },
    {
      "cell_type": "markdown",
      "metadata": {
        "id": "jiDNBRIANxha"
      },
      "source": [
        "#### Model Building with class weight balancing"
      ]
    },
    {
      "cell_type": "code",
      "execution_count": 404,
      "metadata": {
        "colab": {
          "base_uri": "https://localhost:8080/",
          "height": 144
        },
        "id": "TcTYAWcN2Lqf",
        "outputId": "eec3c5ee-38cc-47a0-9e59-08295154d092"
      },
      "outputs": [
        {
          "output_type": "execute_result",
          "data": {
            "text/plain": [
              "  Performance_metric_names  Performance_metric_values\n",
              "0                MCC_train                   0.982086\n",
              "1                   MCC_CV                   0.307222\n",
              "2                 MCC_test                   0.320734"
            ],
            "text/html": [
              "\n",
              "  <div id=\"df-8a77cbae-f7f8-4c40-836c-8add36cc2cf6\">\n",
              "    <div class=\"colab-df-container\">\n",
              "      <div>\n",
              "<style scoped>\n",
              "    .dataframe tbody tr th:only-of-type {\n",
              "        vertical-align: middle;\n",
              "    }\n",
              "\n",
              "    .dataframe tbody tr th {\n",
              "        vertical-align: top;\n",
              "    }\n",
              "\n",
              "    .dataframe thead th {\n",
              "        text-align: right;\n",
              "    }\n",
              "</style>\n",
              "<table border=\"1\" class=\"dataframe\">\n",
              "  <thead>\n",
              "    <tr style=\"text-align: right;\">\n",
              "      <th></th>\n",
              "      <th>Performance_metric_names</th>\n",
              "      <th>Performance_metric_values</th>\n",
              "    </tr>\n",
              "  </thead>\n",
              "  <tbody>\n",
              "    <tr>\n",
              "      <th>0</th>\n",
              "      <td>MCC_train</td>\n",
              "      <td>0.982086</td>\n",
              "    </tr>\n",
              "    <tr>\n",
              "      <th>1</th>\n",
              "      <td>MCC_CV</td>\n",
              "      <td>0.307222</td>\n",
              "    </tr>\n",
              "    <tr>\n",
              "      <th>2</th>\n",
              "      <td>MCC_test</td>\n",
              "      <td>0.320734</td>\n",
              "    </tr>\n",
              "  </tbody>\n",
              "</table>\n",
              "</div>\n",
              "      <button class=\"colab-df-convert\" onclick=\"convertToInteractive('df-8a77cbae-f7f8-4c40-836c-8add36cc2cf6')\"\n",
              "              title=\"Convert this dataframe to an interactive table.\"\n",
              "              style=\"display:none;\">\n",
              "        \n",
              "  <svg xmlns=\"http://www.w3.org/2000/svg\" height=\"24px\"viewBox=\"0 0 24 24\"\n",
              "       width=\"24px\">\n",
              "    <path d=\"M0 0h24v24H0V0z\" fill=\"none\"/>\n",
              "    <path d=\"M18.56 5.44l.94 2.06.94-2.06 2.06-.94-2.06-.94-.94-2.06-.94 2.06-2.06.94zm-11 1L8.5 8.5l.94-2.06 2.06-.94-2.06-.94L8.5 2.5l-.94 2.06-2.06.94zm10 10l.94 2.06.94-2.06 2.06-.94-2.06-.94-.94-2.06-.94 2.06-2.06.94z\"/><path d=\"M17.41 7.96l-1.37-1.37c-.4-.4-.92-.59-1.43-.59-.52 0-1.04.2-1.43.59L10.3 9.45l-7.72 7.72c-.78.78-.78 2.05 0 2.83L4 21.41c.39.39.9.59 1.41.59.51 0 1.02-.2 1.41-.59l7.78-7.78 2.81-2.81c.8-.78.8-2.07 0-2.86zM5.41 20L4 18.59l7.72-7.72 1.47 1.35L5.41 20z\"/>\n",
              "  </svg>\n",
              "      </button>\n",
              "      \n",
              "  <style>\n",
              "    .colab-df-container {\n",
              "      display:flex;\n",
              "      flex-wrap:wrap;\n",
              "      gap: 12px;\n",
              "    }\n",
              "\n",
              "    .colab-df-convert {\n",
              "      background-color: #E8F0FE;\n",
              "      border: none;\n",
              "      border-radius: 50%;\n",
              "      cursor: pointer;\n",
              "      display: none;\n",
              "      fill: #1967D2;\n",
              "      height: 32px;\n",
              "      padding: 0 0 0 0;\n",
              "      width: 32px;\n",
              "    }\n",
              "\n",
              "    .colab-df-convert:hover {\n",
              "      background-color: #E2EBFA;\n",
              "      box-shadow: 0px 1px 2px rgba(60, 64, 67, 0.3), 0px 1px 3px 1px rgba(60, 64, 67, 0.15);\n",
              "      fill: #174EA6;\n",
              "    }\n",
              "\n",
              "    [theme=dark] .colab-df-convert {\n",
              "      background-color: #3B4455;\n",
              "      fill: #D2E3FC;\n",
              "    }\n",
              "\n",
              "    [theme=dark] .colab-df-convert:hover {\n",
              "      background-color: #434B5C;\n",
              "      box-shadow: 0px 1px 3px 1px rgba(0, 0, 0, 0.15);\n",
              "      filter: drop-shadow(0px 1px 2px rgba(0, 0, 0, 0.3));\n",
              "      fill: #FFFFFF;\n",
              "    }\n",
              "  </style>\n",
              "\n",
              "      <script>\n",
              "        const buttonEl =\n",
              "          document.querySelector('#df-8a77cbae-f7f8-4c40-836c-8add36cc2cf6 button.colab-df-convert');\n",
              "        buttonEl.style.display =\n",
              "          google.colab.kernel.accessAllowed ? 'block' : 'none';\n",
              "\n",
              "        async function convertToInteractive(key) {\n",
              "          const element = document.querySelector('#df-8a77cbae-f7f8-4c40-836c-8add36cc2cf6');\n",
              "          const dataTable =\n",
              "            await google.colab.kernel.invokeFunction('convertToInteractive',\n",
              "                                                     [key], {});\n",
              "          if (!dataTable) return;\n",
              "\n",
              "          const docLinkHtml = 'Like what you see? Visit the ' +\n",
              "            '<a target=\"_blank\" href=https://colab.research.google.com/notebooks/data_table.ipynb>data table notebook</a>'\n",
              "            + ' to learn more about interactive tables.';\n",
              "          element.innerHTML = '';\n",
              "          dataTable['output_type'] = 'display_data';\n",
              "          await google.colab.output.renderOutput(dataTable, element);\n",
              "          const docLink = document.createElement('div');\n",
              "          docLink.innerHTML = docLinkHtml;\n",
              "          element.appendChild(docLink);\n",
              "        }\n",
              "      </script>\n",
              "    </div>\n",
              "  </div>\n",
              "  "
            ]
          },
          "metadata": {},
          "execution_count": 404
        }
      ],
      "source": [
        "# Training Random Forest Models\n",
        "from sklearn.ensemble import RandomForestClassifier\n",
        "\n",
        "model = RandomForestClassifier(random_state=42, class_weight='balanced') # Class weight balancing\n",
        "model.fit(X_train, y_train)\n",
        "\n",
        "# Training Cross-validation Models\n",
        "from sklearn.metrics import make_scorer, recall_score, matthews_corrcoef\n",
        "from sklearn.model_selection import cross_validate\n",
        "\n",
        "model_cv = RandomForestClassifier(random_state=42, class_weight='balanced') # Class weight balancing\n",
        "cv_scoring = {'MCC': make_scorer(matthews_corrcoef)}\n",
        "cv = cross_validate(model_cv, X_train, y_train, cv=5, scoring=cv_scoring)\n",
        "\n",
        "# Apply model to make prediction\n",
        "from sklearn.metrics import matthews_corrcoef\n",
        "\n",
        "y_train_pred = model.predict(X_train)\n",
        "y_test_pred = model.predict(X_test)\n",
        "  \n",
        "mcc_train = matthews_corrcoef(y_train, y_train_pred)\n",
        "mcc_test = matthews_corrcoef(y_test, y_test_pred)\n",
        "mcc_cv = cv['test_MCC'].mean()\n",
        "\n",
        "# Display model performance results\n",
        "df_labels = pd.Series(['MCC_train', 'MCC_CV', 'MCC_test'], name = 'Performance_metric_names')\n",
        "df_values = pd.Series([mcc_train, mcc_cv, mcc_test], name = 'Performance_metric_values')\n",
        "df4 = pd.concat([df_labels, df_values], axis=1)\n",
        "df4"
      ]
    },
    {
      "cell_type": "code",
      "execution_count": 405,
      "metadata": {
        "colab": {
          "base_uri": "https://localhost:8080/",
          "height": 175
        },
        "id": "ibu8N-2c1yZl",
        "outputId": "055cc335-d57e-428d-c219-7524e38c76ea"
      },
      "outputs": [
        {
          "output_type": "execute_result",
          "data": {
            "text/plain": [
              "                                 Training        CV      Test\n",
              "No class balancing               0.982840  0.350691  0.350329\n",
              "Class balancing (undersampling)  0.988641  0.379960  0.270006\n",
              "Class balancing (oversampling)   0.988359  0.835391  0.310400\n",
              "Class balancing (class weights)  0.982086  0.307222  0.320734"
            ],
            "text/html": [
              "\n",
              "  <div id=\"df-6d810c6c-c6b2-4d01-912b-525eb0e31816\">\n",
              "    <div class=\"colab-df-container\">\n",
              "      <div>\n",
              "<style scoped>\n",
              "    .dataframe tbody tr th:only-of-type {\n",
              "        vertical-align: middle;\n",
              "    }\n",
              "\n",
              "    .dataframe tbody tr th {\n",
              "        vertical-align: top;\n",
              "    }\n",
              "\n",
              "    .dataframe thead th {\n",
              "        text-align: right;\n",
              "    }\n",
              "</style>\n",
              "<table border=\"1\" class=\"dataframe\">\n",
              "  <thead>\n",
              "    <tr style=\"text-align: right;\">\n",
              "      <th></th>\n",
              "      <th>Training</th>\n",
              "      <th>CV</th>\n",
              "      <th>Test</th>\n",
              "    </tr>\n",
              "  </thead>\n",
              "  <tbody>\n",
              "    <tr>\n",
              "      <th>No class balancing</th>\n",
              "      <td>0.982840</td>\n",
              "      <td>0.350691</td>\n",
              "      <td>0.350329</td>\n",
              "    </tr>\n",
              "    <tr>\n",
              "      <th>Class balancing (undersampling)</th>\n",
              "      <td>0.988641</td>\n",
              "      <td>0.379960</td>\n",
              "      <td>0.270006</td>\n",
              "    </tr>\n",
              "    <tr>\n",
              "      <th>Class balancing (oversampling)</th>\n",
              "      <td>0.988359</td>\n",
              "      <td>0.835391</td>\n",
              "      <td>0.310400</td>\n",
              "    </tr>\n",
              "    <tr>\n",
              "      <th>Class balancing (class weights)</th>\n",
              "      <td>0.982086</td>\n",
              "      <td>0.307222</td>\n",
              "      <td>0.320734</td>\n",
              "    </tr>\n",
              "  </tbody>\n",
              "</table>\n",
              "</div>\n",
              "      <button class=\"colab-df-convert\" onclick=\"convertToInteractive('df-6d810c6c-c6b2-4d01-912b-525eb0e31816')\"\n",
              "              title=\"Convert this dataframe to an interactive table.\"\n",
              "              style=\"display:none;\">\n",
              "        \n",
              "  <svg xmlns=\"http://www.w3.org/2000/svg\" height=\"24px\"viewBox=\"0 0 24 24\"\n",
              "       width=\"24px\">\n",
              "    <path d=\"M0 0h24v24H0V0z\" fill=\"none\"/>\n",
              "    <path d=\"M18.56 5.44l.94 2.06.94-2.06 2.06-.94-2.06-.94-.94-2.06-.94 2.06-2.06.94zm-11 1L8.5 8.5l.94-2.06 2.06-.94-2.06-.94L8.5 2.5l-.94 2.06-2.06.94zm10 10l.94 2.06.94-2.06 2.06-.94-2.06-.94-.94-2.06-.94 2.06-2.06.94z\"/><path d=\"M17.41 7.96l-1.37-1.37c-.4-.4-.92-.59-1.43-.59-.52 0-1.04.2-1.43.59L10.3 9.45l-7.72 7.72c-.78.78-.78 2.05 0 2.83L4 21.41c.39.39.9.59 1.41.59.51 0 1.02-.2 1.41-.59l7.78-7.78 2.81-2.81c.8-.78.8-2.07 0-2.86zM5.41 20L4 18.59l7.72-7.72 1.47 1.35L5.41 20z\"/>\n",
              "  </svg>\n",
              "      </button>\n",
              "      \n",
              "  <style>\n",
              "    .colab-df-container {\n",
              "      display:flex;\n",
              "      flex-wrap:wrap;\n",
              "      gap: 12px;\n",
              "    }\n",
              "\n",
              "    .colab-df-convert {\n",
              "      background-color: #E8F0FE;\n",
              "      border: none;\n",
              "      border-radius: 50%;\n",
              "      cursor: pointer;\n",
              "      display: none;\n",
              "      fill: #1967D2;\n",
              "      height: 32px;\n",
              "      padding: 0 0 0 0;\n",
              "      width: 32px;\n",
              "    }\n",
              "\n",
              "    .colab-df-convert:hover {\n",
              "      background-color: #E2EBFA;\n",
              "      box-shadow: 0px 1px 2px rgba(60, 64, 67, 0.3), 0px 1px 3px 1px rgba(60, 64, 67, 0.15);\n",
              "      fill: #174EA6;\n",
              "    }\n",
              "\n",
              "    [theme=dark] .colab-df-convert {\n",
              "      background-color: #3B4455;\n",
              "      fill: #D2E3FC;\n",
              "    }\n",
              "\n",
              "    [theme=dark] .colab-df-convert:hover {\n",
              "      background-color: #434B5C;\n",
              "      box-shadow: 0px 1px 3px 1px rgba(0, 0, 0, 0.15);\n",
              "      filter: drop-shadow(0px 1px 2px rgba(0, 0, 0, 0.3));\n",
              "      fill: #FFFFFF;\n",
              "    }\n",
              "  </style>\n",
              "\n",
              "      <script>\n",
              "        const buttonEl =\n",
              "          document.querySelector('#df-6d810c6c-c6b2-4d01-912b-525eb0e31816 button.colab-df-convert');\n",
              "        buttonEl.style.display =\n",
              "          google.colab.kernel.accessAllowed ? 'block' : 'none';\n",
              "\n",
              "        async function convertToInteractive(key) {\n",
              "          const element = document.querySelector('#df-6d810c6c-c6b2-4d01-912b-525eb0e31816');\n",
              "          const dataTable =\n",
              "            await google.colab.kernel.invokeFunction('convertToInteractive',\n",
              "                                                     [key], {});\n",
              "          if (!dataTable) return;\n",
              "\n",
              "          const docLinkHtml = 'Like what you see? Visit the ' +\n",
              "            '<a target=\"_blank\" href=https://colab.research.google.com/notebooks/data_table.ipynb>data table notebook</a>'\n",
              "            + ' to learn more about interactive tables.';\n",
              "          element.innerHTML = '';\n",
              "          dataTable['output_type'] = 'display_data';\n",
              "          await google.colab.output.renderOutput(dataTable, element);\n",
              "          const docLink = document.createElement('div');\n",
              "          docLink.innerHTML = docLinkHtml;\n",
              "          element.appendChild(docLink);\n",
              "        }\n",
              "      </script>\n",
              "    </div>\n",
              "  </div>\n",
              "  "
            ]
          },
          "metadata": {},
          "execution_count": 405
        }
      ],
      "source": [
        "df = pd.concat([df1.Performance_metric_values,\n",
        "                df2.Performance_metric_values,\n",
        "                df3.Performance_metric_values,\n",
        "                df4.Performance_metric_values], axis=1)\n",
        "df.columns = ['No class balancing', 'Class balancing (undersampling)', 'Class balancing (oversampling)', 'Class balancing (class weights)']\n",
        "df = df.T\n",
        "df.columns = ['Training', 'CV', 'Test']\n",
        "df"
      ]
    },
    {
      "cell_type": "markdown",
      "metadata": {
        "id": "C0lxf1fg3kVJ"
      },
      "source": [
        "#### Polar plots"
      ]
    },
    {
      "cell_type": "code",
      "execution_count": 406,
      "metadata": {
        "colab": {
          "base_uri": "https://localhost:8080/",
          "height": 298
        },
        "id": "hSPNnKV73qjG",
        "outputId": "fe2da4ce-1d81-4f04-e348-2bfc1bcbfefb"
      },
      "outputs": [
        {
          "output_type": "display_data",
          "data": {
            "text/plain": [
              "<Figure size 432x288 with 1 Axes>"
            ],
            "image/png": "[encoded data removed]"
          },
          "metadata": {
            "needs_background": "light"
          }
        }
      ],
      "source": [
        "# No class balancing\n",
        "\n",
        "import numpy as np\n",
        "import matplotlib.pyplot as plt\n",
        "from matplotlib import colors\n",
        "\n",
        "data = df.iloc[0,:]\n",
        "\n",
        "N = len(data)\n",
        "theta = np.linspace(0.0, 2 * np.pi, N, endpoint=False)\n",
        "radii = data\n",
        "width = 2 * np.pi / N\n",
        "\n",
        "ax = plt.subplot(111, polar=True)\n",
        "\n",
        "bars = ax.bar(theta, radii, width=width, bottom=0.0)\n",
        "ax.xaxis.set_ticks(theta)\n",
        "\n",
        "#ax.set_xticklabels(radii.index, fontsize=14)\n",
        "ax.set_xticklabels(['','',''])\n",
        "ax.tick_params(axis='x', which='major')\n",
        "\n",
        "cmap = colors.ListedColormap(['#F8766D', '#7CAE00', '#00BFC4'])\n",
        "\n",
        "for r, bar in zip(theta, bars):\n",
        "    #bar.set_facecolor(plt.cm.hsv(r / np.pi / 2))\n",
        "    bar.set_facecolor(cmap(r / np.pi / 2))\n",
        "    bar.set_alpha(0.8)\n",
        "    bar.set_edgecolor('black')\n",
        "\n",
        "ax.legend(bars, radii.index, loc='lower right', bbox_to_anchor=(1.3, 0) )\n",
        "\n",
        "ax.set_title('No class balancing', fontsize=14, fontweight='bold', pad=5) # Training set\n",
        "\n",
        "plt.tight_layout()\n",
        "plt.savefig('Figure_polarplot_MCC_df1.pdf')"
      ]
    },
    {
      "cell_type": "code",
      "execution_count": 407,
      "metadata": {
        "id": "q2bBwqjU4kJ5"
      },
      "outputs": [],
      "source": [
        "# Custom function for making polar plot\n",
        "\n",
        "import numpy as np\n",
        "import matplotlib.pyplot as plt\n",
        "from matplotlib import colors\n",
        "\n",
        "def make_polar_plot(data, plotlabel):\n",
        "  N = len(data)\n",
        "  theta = np.linspace(0.0, 2 * np.pi, N, endpoint=False)\n",
        "  radii = data\n",
        "  width = 2 * np.pi / N\n",
        "\n",
        "  ax = plt.subplot(111, polar=True)\n",
        "\n",
        "  bars = ax.bar(theta, radii, width=width, bottom=0.0)\n",
        "  ax.xaxis.set_ticks(theta)\n",
        "\n",
        "  #ax.set_xticklabels(radii.index, fontsize=14)\n",
        "  ax.set_xticklabels(['','',''])\n",
        "  ax.tick_params(axis='x', which='major')\n",
        "\n",
        "  cmap = colors.ListedColormap(['#F8766D', '#7CAE00', '#00BFC4'])\n",
        "\n",
        "  for r, bar in zip(theta, bars):\n",
        "      #bar.set_facecolor(plt.cm.hsv(r / np.pi / 2))\n",
        "      bar.set_facecolor(cmap(r / np.pi / 2))\n",
        "      bar.set_alpha(0.7)\n",
        "      bar.set_edgecolor('black')\n",
        "\n",
        "  ax.legend(bars, radii.index, loc='lower right', bbox_to_anchor=(1.3, 0) )\n",
        "\n",
        "  ax.set_title(plotlabel, fontsize=14, fontweight='bold', pad=5) # Training set\n",
        "\n",
        "  txt = plotlabel.split()\n",
        "  txt2 = [x.capitalize() for x in txt]\n",
        "  txt3 = ''.join(txt2)\n",
        "\n",
        "  plt.tight_layout()\n",
        "  plt.savefig(f'Figure_polarplot_MCC_{txt3}.pdf')"
      ]
    },
    {
      "cell_type": "code",
      "execution_count": 408,
      "metadata": {
        "colab": {
          "base_uri": "https://localhost:8080/",
          "height": 298
        },
        "id": "OBc1ZI0W4srw",
        "outputId": "5a3ce03d-76d7-4f3a-a6bb-cd0979d15890"
      },
      "outputs": [
        {
          "output_type": "display_data",
          "data": {
            "text/plain": [
              "<Figure size 432x288 with 1 Axes>"
            ],
            "image/png": "[encoded data removed]"
          },
          "metadata": {
            "needs_background": "light"
          }
        }
      ],
      "source": [
        "# Class balancing (undersampling)\n",
        "data = df.iloc[1,:]\n",
        "\n",
        "make_polar_plot(data, 'Class balancing undersampling')"
      ]
    },
    {
      "cell_type": "code",
      "execution_count": 409,
      "metadata": {
        "colab": {
          "base_uri": "https://localhost:8080/",
          "height": 298
        },
        "id": "Nhacu0xe44yF",
        "outputId": "98759bbd-4086-4886-ac72-63ee2c499e39"
      },
      "outputs": [
        {
          "output_type": "display_data",
          "data": {
            "text/plain": [
              "<Figure size 432x288 with 1 Axes>"
            ],
            "image/png": "[encoded data removed]"
          },
          "metadata": {
            "needs_background": "light"
          }
        }
      ],
      "source": [
        "# Class balancing (oversampling)\n",
        "data = df.iloc[2,:]\n",
        "\n",
        "make_polar_plot(data, 'Class balancing oversampling')"
      ]
    },
    {
      "cell_type": "code",
      "execution_count": 410,
      "metadata": {
        "colab": {
          "base_uri": "https://localhost:8080/",
          "height": 298
        },
        "id": "OZ51Ki9R49mQ",
        "outputId": "1807b06d-baac-454a-ae20-5fa1adebca52"
      },
      "outputs": [
        {
          "output_type": "display_data",
          "data": {
            "text/plain": [
              "<Figure size 432x288 with 1 Axes>"
            ],
            "image/png": "[encoded data removed]"
          },
          "metadata": {
            "needs_background": "light"
          }
        }
      ],
      "source": [
        "# Class balancing (class weights)\n",
        "data = df.iloc[3,:]\n",
        "\n",
        "make_polar_plot(data, 'Class balancing class weights')"
      ]
    },
    {
      "cell_type": "markdown",
      "metadata": {
        "id": "HV_4LU5piXW5"
      },
      "source": [
        "## Concluding Remarks\n",
        "\n",
        "We can conclude from this work that users tend to be more active during controversial periods. In particular, during a positioning moment on the part of Disney, Twitter users demonstrated significantly greater behavior during the years of controversial events. More specifically, the network showed greater movement in the years 2019 and 2022, years that are major milestones of such events: casting announcement (in 2019) and launch of the first teaser (2022).\n",
        "Although much is said about the criticisms of those dissatisfied with the casting choice, this work demonstrates that, although the negative feelings are greater during these periods, the positive feelings still overcome them.\n",
        "\n",
        "Equally interesting, engagement levels during these times are also significantly higher. This can be an interesting finding for companies that seek to position themselves but are afraid of the public's reaction. In fact, Disney is a company that is highly known and admired by many. Future studies need to explore to what extent the effect of brand love can influence the number of positive feelings during controversial times.\n",
        "\n",
        "As for classification algorithms, the results were not as significant. In summary, this work adopted three analysis strategies: no balanced classes, oversample balanced classes, and undersample balanced classes. The table below demonstrates that, for the strategy without balanced classes, the best algorithms were Logistic Regression (69%) and SVM (69%).\n",
        "\n",
        "![image.png](data:image/png;base64,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)\n",
        "\n",
        "As for the oversampling strategy, the algorithm that best responded to the classification problem was Random Forest, with 65% accuracy.\n",
        "\n",
        "![image.png](data:image/png;base64,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)\n",
        "\n",
        "Finally, for the undersampling strategy (the least efficient), the algorithm was also the Logistic Regression, with 59% accuracy.\n",
        "\n",
        "![image.png](data:image/png;base64,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)\n",
        "\n",
        "The MVV strategy for modeling also did not show encouraging results, with the non-balancing strategy being the best among the others in the test base (0.35). In the cross-validated base, the best response occurred in oversampling (0.83).\n",
        "\n",
        "With these results we can conclude that the database for CSA problems is not easy to classify. All algorithms had a better interpretation of positive sentiments compared to the others. Therefore, more data and less classes may be needed for a better classification.\n",
        "\n",
        "In this sense, my experiment 2 runs the same analyzes for a more polarized basis, that is, using only positive or negative feelings. Because neutral sentiments were generally about disclosing information about the company, considering them as positive is not so far from reality."
      ]
    },
    {
      "cell_type": "code",
      "source": [
        "# Continues in [exp2]ML_Nathalia.ipynb]"
      ],
      "metadata": {
        "id": "qF7v8P_Ms2U_"
      },
      "execution_count": 411,
      "outputs": []
    }
  ],
  "metadata": {
    "colab": {
      "toc_visible": true,
      "provenance": []
    },
    "kernelspec": {
      "display_name": "Python 3",
      "name": "python3"
    },
    "language_info": {
      "name": "python"
    }
  },
  "nbformat": 4,
  "nbformat_minor": 0
}